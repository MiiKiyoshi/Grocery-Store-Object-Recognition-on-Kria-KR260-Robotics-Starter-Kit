{
 "cells": [
  {
   "cell_type": "markdown",
   "metadata": {},
   "source": [
    "## 1. Model Inspection"
   ]
  },
  {
   "cell_type": "code",
   "execution_count": 1,
   "metadata": {},
   "outputs": [
    {
     "name": "stderr",
     "output_type": "stream",
     "text": [
      "2024-07-30 12:48:55.575575: I tensorflow/core/platform/cpu_feature_guard.cc:182] This TensorFlow binary is optimized to use available CPU instructions in performance-critical operations.\n",
      "To enable the following instructions: AVX2 FMA, in other operations, rebuild TensorFlow with the appropriate compiler flags.\n",
      "2024-07-30 12:48:58.914705: W tensorflow/compiler/tf2tensorrt/utils/py_utils.cc:38] TF-TRT Warning: Could not find TensorRT\n",
      "2024-07-30 12:49:02.317219: I tensorflow/compiler/xla/stream_executor/cuda/cuda_gpu_executor.cc:982] could not open file to read NUMA node: /sys/bus/pci/devices/0000:26:00.0/numa_node\n",
      "Your kernel may have been built without NUMA support.\n",
      "2024-07-30 12:49:02.602070: I tensorflow/compiler/xla/stream_executor/cuda/cuda_gpu_executor.cc:982] could not open file to read NUMA node: /sys/bus/pci/devices/0000:26:00.0/numa_node\n",
      "Your kernel may have been built without NUMA support.\n",
      "2024-07-30 12:49:02.602399: I tensorflow/compiler/xla/stream_executor/cuda/cuda_gpu_executor.cc:982] could not open file to read NUMA node: /sys/bus/pci/devices/0000:26:00.0/numa_node\n",
      "Your kernel may have been built without NUMA support.\n",
      "2024-07-30 12:49:02.605435: I tensorflow/compiler/xla/stream_executor/cuda/cuda_gpu_executor.cc:982] could not open file to read NUMA node: /sys/bus/pci/devices/0000:26:00.0/numa_node\n",
      "Your kernel may have been built without NUMA support.\n",
      "2024-07-30 12:49:02.605690: I tensorflow/compiler/xla/stream_executor/cuda/cuda_gpu_executor.cc:982] could not open file to read NUMA node: /sys/bus/pci/devices/0000:26:00.0/numa_node\n",
      "Your kernel may have been built without NUMA support.\n",
      "2024-07-30 12:49:02.605938: I tensorflow/compiler/xla/stream_executor/cuda/cuda_gpu_executor.cc:982] could not open file to read NUMA node: /sys/bus/pci/devices/0000:26:00.0/numa_node\n",
      "Your kernel may have been built without NUMA support.\n",
      "2024-07-30 12:49:02.735282: I tensorflow/compiler/xla/stream_executor/cuda/cuda_gpu_executor.cc:982] could not open file to read NUMA node: /sys/bus/pci/devices/0000:26:00.0/numa_node\n",
      "Your kernel may have been built without NUMA support.\n",
      "2024-07-30 12:49:02.735565: I tensorflow/compiler/xla/stream_executor/cuda/cuda_gpu_executor.cc:982] could not open file to read NUMA node: /sys/bus/pci/devices/0000:26:00.0/numa_node\n",
      "Your kernel may have been built without NUMA support.\n",
      "2024-07-30 12:49:02.735582: I tensorflow/core/common_runtime/gpu/gpu_device.cc:1722] Could not identify NUMA node of platform GPU id 0, defaulting to 0.  Your kernel may not have been built with NUMA support.\n",
      "2024-07-30 12:49:02.735830: I tensorflow/compiler/xla/stream_executor/cuda/cuda_gpu_executor.cc:982] could not open file to read NUMA node: /sys/bus/pci/devices/0000:26:00.0/numa_node\n",
      "Your kernel may have been built without NUMA support.\n",
      "2024-07-30 12:49:02.735887: I tensorflow/core/common_runtime/gpu/gpu_device.cc:1635] Created device /job:localhost/replica:0/task:0/device:GPU:0 with 1433 MB memory:  -> device: 0, name: NVIDIA GeForce GTX 960, pci bus id: 0000:26:00.0, compute capability: 5.2\n"
     ]
    },
    {
     "name": "stdout",
     "output_type": "stream",
     "text": [
      "Setup complete.\n"
     ]
    }
   ],
   "source": [
    "import os\n",
    "from tensorflow import keras\n",
    "from tensorflow_model_optimization.quantization.keras import vitis_inspect\n",
    "\n",
    "# Define paths\n",
    "SCRIPT_DIR = os.getcwd()\n",
    "FLOAT_DIR = os.path.join(SCRIPT_DIR, \"float_model\")\n",
    "QUANT_DIR = os.path.join(SCRIPT_DIR, \"quant_model\")\n",
    "LOG_DIR = os.path.join(SCRIPT_DIR, \"logs\")\n",
    "\n",
    "DATASET_DIR = os.path.join(SCRIPT_DIR, \"grocery_store_dataset\")\n",
    "TRAIN_DIR = os.path.join(DATASET_DIR, \"new/train\")\n",
    "TEST_DIR = os.path.join(DATASET_DIR, \"new/test\")\n",
    "\n",
    "# Ensure directories exist\n",
    "os.makedirs(LOG_DIR, exist_ok=True)\n",
    "\n",
    "# Load the trained model\n",
    "FLOAT_HDF5_FILE = os.path.join(FLOAT_DIR, \"train_resnet50_grocery_best_chkpt.h5\")\n",
    "model = keras.models.load_model(FLOAT_HDF5_FILE)\n",
    "\n",
    "# Define label names\n",
    "labelNames_list = [\"Apple\", \"Juice\", \"Melon\", \"Milk\", \"Pear\", \"Pepper\", \"Tomato\", \"Yoghurt\"]\n",
    "labelNames_dict = {name: i for i, name in enumerate(labelNames_list)}\n",
    "\n",
    "print(\"Setup complete.\")"
   ]
  },
  {
   "cell_type": "code",
   "execution_count": 2,
   "metadata": {},
   "outputs": [
    {
     "name": "stdout",
     "output_type": "stream",
     "text": [
      "[VAI INFO] Update include_bias_corr: False\n",
      "[VAI INFO] Update include_fast_ft: False\n",
      "[VAI INFO] Update include_cle: False\n",
      "[INFO] Namespace(batchsize=1, inputs_shape=None, layout='NHWC', model_files=['/tmp/vitis-ai-user/tensorflow_model_optimization/tmp_sub_graph_quantized_20240730-124916-520182_KslLvF.h5'], model_type='tensorflow2', named_inputs_shape=None, out_filename='/tmp/vitis-ai-user/tensorflow_model_optimization/tmp_sub_graph_xnnc_20240730-124916-520182_KslLvF.xmodel', proto=None)\n",
      "[INFO] tensorflow2 model: /tmp/vitis-ai-user/tensorflow_model_optimization/tmp_sub_graph_quantized_20240730-124916-520182_KslLvF.h5\n",
      "[INFO] keras version: 2.12.0\n",
      "[INFO] Tensorflow Keras model type: functional\n"
     ]
    },
    {
     "name": "stderr",
     "output_type": "stream",
     "text": [
      "[INFO] parse raw model     :100%|██████████| 4/4 [00:00<00:00, 8886.24it/s]                  \n",
      "[INFO] infer shape (NHWC)  :100%|██████████| 5/5 [00:00<00:00, 2909.48it/s]                  \n",
      "[INFO] perform level-0 opt :100%|██████████| 1/1 [00:00<00:00, 2978.91it/s]                  \n",
      "[INFO] perform level-1 opt :100%|██████████| 2/2 [00:00<00:00, 9118.05it/s]                  \n",
      "[INFO] generate xmodel     :100%|██████████| 5/5 [00:00<00:00, 2191.38it/s]                  \n",
      "WARNING: Logging before InitGoogleLogging() is written to STDERR\n",
      "I20240730 12:49:18.186746  1068 compile_pass_manager.cpp:352] [UNILOG][INFO] Compile mode: dpu\n",
      "I20240730 12:49:18.186813  1068 compile_pass_manager.cpp:353] [UNILOG][INFO] Debug mode: null\n",
      "I20240730 12:49:18.186826  1068 compile_pass_manager.cpp:357] [UNILOG][INFO] Target architecture: DPUCZDX8G_ISA1_B4096_0101000016010407\n",
      "I20240730 12:49:18.187000  1068 compile_pass_manager.cpp:465] [UNILOG][INFO] Graph name: model, with op num: 9\n",
      "I20240730 12:49:18.187011  1068 compile_pass_manager.cpp:478] [UNILOG][INFO] Begin to compile...\n",
      "I20240730 12:49:18.191494  1068 compile_pass_manager.cpp:489] [UNILOG][INFO] Total device subgraph number 3, DPU subgraph number 1\n",
      "I20240730 12:49:18.191526  1068 compile_pass_manager.cpp:504] [UNILOG][INFO] Compile done.\n"
     ]
    },
    {
     "name": "stdout",
     "output_type": "stream",
     "text": [
      "[INFO] dump xmodel: /tmp/vitis-ai-user/tensorflow_model_optimization/tmp_sub_graph_xnnc_20240730-124916-520182_KslLvF.xmodel\n",
      "[INFO] Namespace(batchsize=1, inputs_shape=None, layout='NHWC', model_files=['/tmp/vitis-ai-user/tensorflow_model_optimization/tmp_sub_graph_quantized_20240730-124916-520182_KslLvF.h5'], model_type='tensorflow2', named_inputs_shape=None, out_filename='/tmp/vitis-ai-user/tensorflow_model_optimization/tmp_sub_graph_xnnc_20240730-124916-520182_KslLvF.xmodel', proto=None)\n",
      "[INFO] tensorflow2 model: /tmp/vitis-ai-user/tensorflow_model_optimization/tmp_sub_graph_quantized_20240730-124916-520182_KslLvF.h5\n",
      "[INFO] keras version: 2.12.0\n",
      "[INFO] Tensorflow Keras model type: functional\n"
     ]
    },
    {
     "name": "stderr",
     "output_type": "stream",
     "text": [
      "[INFO] parse raw model     :100%|██████████| 4/4 [00:00<00:00, 5280.84it/s]                  \n",
      "[INFO] infer shape (NHWC)  :100%|██████████| 5/5 [00:00<00:00, 1623.81it/s]                  \n",
      "[INFO] perform level-0 opt :100%|██████████| 1/1 [00:00<00:00, 2560.63it/s]                  \n",
      "[INFO] perform level-1 opt :100%|██████████| 2/2 [00:00<00:00, 6904.20it/s]                  \n",
      "[INFO] generate xmodel     :100%|██████████| 5/5 [00:00<00:00, 4528.51it/s]                  "
     ]
    },
    {
     "name": "stdout",
     "output_type": "stream",
     "text": [
      "[INFO] dump xmodel: /tmp/vitis-ai-user/tensorflow_model_optimization/tmp_sub_graph_xnnc_20240730-124916-520182_KslLvF.xmodel\n"
     ]
    },
    {
     "name": "stderr",
     "output_type": "stream",
     "text": [
      "\n",
      "I20240730 12:49:18.282671  1068 compile_pass_manager.cpp:352] [UNILOG][INFO] Compile mode: dpu\n",
      "I20240730 12:49:18.282732  1068 compile_pass_manager.cpp:353] [UNILOG][INFO] Debug mode: null\n",
      "I20240730 12:49:18.282749  1068 compile_pass_manager.cpp:357] [UNILOG][INFO] Target architecture: DPUCZDX8G_ISA1_B4096_0101000016010407\n",
      "I20240730 12:49:18.282835  1068 compile_pass_manager.cpp:465] [UNILOG][INFO] Graph name: model_1, with op num: 5\n",
      "I20240730 12:49:18.282852  1068 compile_pass_manager.cpp:478] [UNILOG][INFO] Begin to compile...\n",
      "I20240730 12:49:18.286376  1068 compile_pass_manager.cpp:489] [UNILOG][INFO] Total device subgraph number 3, DPU subgraph number 1\n",
      "I20240730 12:49:18.286419  1068 compile_pass_manager.cpp:504] [UNILOG][INFO] Compile done.\n"
     ]
    },
    {
     "name": "stdout",
     "output_type": "stream",
     "text": [
      "[INFO] Namespace(batchsize=1, inputs_shape=None, layout='NHWC', model_files=['/tmp/vitis-ai-user/tensorflow_model_optimization/tmp_sub_graph_quantized_20240730-124916-520400_ZfwboC.h5'], model_type='tensorflow2', named_inputs_shape=None, out_filename='/tmp/vitis-ai-user/tensorflow_model_optimization/tmp_sub_graph_xnnc_20240730-124916-520400_ZfwboC.xmodel', proto=None)\n",
      "[INFO] tensorflow2 model: /tmp/vitis-ai-user/tensorflow_model_optimization/tmp_sub_graph_quantized_20240730-124916-520400_ZfwboC.h5\n",
      "[INFO] keras version: 2.12.0\n",
      "[INFO] Tensorflow Keras model type: functional\n"
     ]
    },
    {
     "name": "stderr",
     "output_type": "stream",
     "text": [
      "[INFO] parse raw model     :100%|██████████| 3/3 [00:00<00:00, 6034.97it/s]                  \n",
      "[INFO] infer shape (NHWC)  :100%|██████████| 4/4 [00:00<00:00, 7099.96it/s]                  \n",
      "[INFO] perform level-0 opt :100%|██████████| 1/1 [00:00<00:00, 2614.90it/s]                  \n",
      "[INFO] perform level-1 opt :100%|██████████| 2/2 [00:00<00:00, 4419.71it/s]                  \n",
      "[INFO] infer shape (NHWC)  :100%|██████████| 6/6 [00:00<00:00, 7177.93it/s]                  \n",
      "[INFO] generate xmodel     :100%|██████████| 6/6 [00:00<00:00, 3718.35it/s]                  \n"
     ]
    },
    {
     "name": "stdout",
     "output_type": "stream",
     "text": [
      "[INFO] dump xmodel: /tmp/vitis-ai-user/tensorflow_model_optimization/tmp_sub_graph_xnnc_20240730-124916-520400_ZfwboC.xmodel\n"
     ]
    },
    {
     "name": "stderr",
     "output_type": "stream",
     "text": [
      "I20240730 12:49:18.385628  1068 compile_pass_manager.cpp:352] [UNILOG][INFO] Compile mode: dpu\n",
      "I20240730 12:49:18.385679  1068 compile_pass_manager.cpp:353] [UNILOG][INFO] Debug mode: null\n",
      "I20240730 12:49:18.385691  1068 compile_pass_manager.cpp:357] [UNILOG][INFO] Target architecture: DPUCZDX8G_ISA1_B4096_0101000016010407\n",
      "I20240730 12:49:18.385767  1068 compile_pass_manager.cpp:465] [UNILOG][INFO] Graph name: model_2, with op num: 6\n",
      "I20240730 12:49:18.385779  1068 compile_pass_manager.cpp:478] [UNILOG][INFO] Begin to compile...\n",
      "I20240730 12:49:18.388927  1068 compile_pass_manager.cpp:489] [UNILOG][INFO] Total device subgraph number 3, DPU subgraph number 1\n",
      "I20240730 12:49:18.388963  1068 compile_pass_manager.cpp:504] [UNILOG][INFO] Compile done.\n"
     ]
    },
    {
     "name": "stdout",
     "output_type": "stream",
     "text": [
      "[INFO] Namespace(batchsize=1, inputs_shape=None, layout='NHWC', model_files=['/tmp/vitis-ai-user/tensorflow_model_optimization/tmp_sub_graph_quantized_20240730-124916-520488_UnwozY.h5'], model_type='tensorflow2', named_inputs_shape=None, out_filename='/tmp/vitis-ai-user/tensorflow_model_optimization/tmp_sub_graph_xnnc_20240730-124916-520488_UnwozY.xmodel', proto=None)\n",
      "[INFO] tensorflow2 model: /tmp/vitis-ai-user/tensorflow_model_optimization/tmp_sub_graph_quantized_20240730-124916-520488_UnwozY.h5\n",
      "[INFO] keras version: 2.12.0\n",
      "[INFO] Tensorflow Keras model type: functional\n"
     ]
    },
    {
     "name": "stderr",
     "output_type": "stream",
     "text": [
      "[INFO] parse raw model     :100%|██████████| 3/3 [00:00<00:00, 4185.93it/s]                  \n",
      "[INFO] infer shape (NHWC)  :100%|██████████| 4/4 [00:00<00:00, 2195.97it/s]                  \n",
      "[INFO] perform level-0 opt :100%|██████████| 1/1 [00:00<00:00, 3331.46it/s]                  \n",
      "[INFO] perform level-1 opt :100%|██████████| 2/2 [00:00<00:00, 8473.34it/s]                  \n",
      "[INFO] generate xmodel     :100%|██████████| 4/4 [00:00<00:00, 4048.56it/s]                  \n",
      "I20240730 12:49:18.474292  1068 compile_pass_manager.cpp:352] [UNILOG][INFO] Compile mode: dpu\n",
      "I20240730 12:49:18.474354  1068 compile_pass_manager.cpp:353] [UNILOG][INFO] Debug mode: null\n",
      "I20240730 12:49:18.474370  1068 compile_pass_manager.cpp:357] [UNILOG][INFO] Target architecture: DPUCZDX8G_ISA1_B4096_0101000016010407\n",
      "I20240730 12:49:18.474463  1068 compile_pass_manager.cpp:465] [UNILOG][INFO] Graph name: model_3, with op num: 4\n",
      "I20240730 12:49:18.474478  1068 compile_pass_manager.cpp:478] [UNILOG][INFO] Begin to compile...\n",
      "I20240730 12:49:18.477759  1068 compile_pass_manager.cpp:489] [UNILOG][INFO] Total device subgraph number 3, DPU subgraph number 1\n",
      "I20240730 12:49:18.477814  1068 compile_pass_manager.cpp:504] [UNILOG][INFO] Compile done.\n"
     ]
    },
    {
     "name": "stdout",
     "output_type": "stream",
     "text": [
      "[INFO] dump xmodel: /tmp/vitis-ai-user/tensorflow_model_optimization/tmp_sub_graph_xnnc_20240730-124916-520488_UnwozY.xmodel\n",
      "[INFO] Namespace(batchsize=1, inputs_shape=None, layout='NHWC', model_files=['/tmp/vitis-ai-user/tensorflow_model_optimization/tmp_sub_graph_quantized_20240730-124916-522682_QLDbJt.h5'], model_type='tensorflow2', named_inputs_shape=None, out_filename='/tmp/vitis-ai-user/tensorflow_model_optimization/tmp_sub_graph_xnnc_20240730-124916-522682_QLDbJt.xmodel', proto=None)\n",
      "[INFO] tensorflow2 model: /tmp/vitis-ai-user/tensorflow_model_optimization/tmp_sub_graph_quantized_20240730-124916-522682_QLDbJt.h5\n",
      "[INFO] keras version: 2.12.0\n",
      "[INFO] Tensorflow Keras model type: functional\n"
     ]
    },
    {
     "name": "stderr",
     "output_type": "stream",
     "text": [
      "[INFO] parse raw model     :100%|██████████| 4/4 [00:00<00:00, 5795.24it/s]                  \n",
      "[INFO] infer shape (NHWC)  :100%|██████████| 5/5 [00:00<00:00, 3872.14it/s]                  \n",
      "[INFO] perform level-0 opt :100%|██████████| 1/1 [00:00<00:00, 3059.30it/s]                  \n",
      "[INFO] perform level-1 opt :100%|██████████| 2/2 [00:00<00:00, 8830.11it/s]                  \n",
      "[INFO] generate xmodel     :100%|██████████| 5/5 [00:00<00:00, 2753.98it/s]                  \n",
      "I20240730 12:49:19.263549  1068 compile_pass_manager.cpp:352] [UNILOG][INFO] Compile mode: dpu\n",
      "I20240730 12:49:19.263598  1068 compile_pass_manager.cpp:353] [UNILOG][INFO] Debug mode: null\n",
      "I20240730 12:49:19.263609  1068 compile_pass_manager.cpp:357] [UNILOG][INFO] Target architecture: DPUCZDX8G_ISA1_B4096_0101000016010407\n",
      "I20240730 12:49:19.263685  1068 compile_pass_manager.cpp:465] [UNILOG][INFO] Graph name: model_4, with op num: 9\n",
      "I20240730 12:49:19.263695  1068 compile_pass_manager.cpp:478] [UNILOG][INFO] Begin to compile...\n",
      "I20240730 12:49:19.267694  1068 compile_pass_manager.cpp:489] [UNILOG][INFO] Total device subgraph number 3, DPU subgraph number 1\n",
      "I20240730 12:49:19.267740  1068 compile_pass_manager.cpp:504] [UNILOG][INFO] Compile done.\n"
     ]
    },
    {
     "name": "stdout",
     "output_type": "stream",
     "text": [
      "[INFO] dump xmodel: /tmp/vitis-ai-user/tensorflow_model_optimization/tmp_sub_graph_xnnc_20240730-124916-522682_QLDbJt.xmodel\n",
      "[INFO] Namespace(batchsize=1, inputs_shape=None, layout='NHWC', model_files=['/tmp/vitis-ai-user/tensorflow_model_optimization/tmp_sub_graph_quantized_20240730-124916-522682_QLDbJt.h5'], model_type='tensorflow2', named_inputs_shape=None, out_filename='/tmp/vitis-ai-user/tensorflow_model_optimization/tmp_sub_graph_xnnc_20240730-124916-522682_QLDbJt.xmodel', proto=None)\n",
      "[INFO] tensorflow2 model: /tmp/vitis-ai-user/tensorflow_model_optimization/tmp_sub_graph_quantized_20240730-124916-522682_QLDbJt.h5\n",
      "[INFO] keras version: 2.12.0\n",
      "[INFO] Tensorflow Keras model type: functional\n"
     ]
    },
    {
     "name": "stderr",
     "output_type": "stream",
     "text": [
      "[INFO] parse raw model     :100%|██████████| 4/4 [00:00<00:00, 6193.14it/s]                  \n",
      "[INFO] infer shape (NHWC)  :100%|██████████| 5/5 [00:00<00:00, 4178.43it/s]                  \n",
      "[INFO] perform level-0 opt :100%|██████████| 1/1 [00:00<00:00, 2953.74it/s]                  \n",
      "[INFO] perform level-1 opt :100%|██████████| 2/2 [00:00<00:00, 8035.07it/s]                  \n",
      "[INFO] generate xmodel     :100%|██████████| 5/5 [00:00<00:00, 2634.28it/s]                  "
     ]
    },
    {
     "name": "stdout",
     "output_type": "stream",
     "text": [
      "[INFO] dump xmodel: /tmp/vitis-ai-user/tensorflow_model_optimization/tmp_sub_graph_xnnc_20240730-124916-522682_QLDbJt.xmodel\n"
     ]
    },
    {
     "name": "stderr",
     "output_type": "stream",
     "text": [
      "\n",
      "I20240730 12:49:19.385604  1068 compile_pass_manager.cpp:352] [UNILOG][INFO] Compile mode: dpu\n",
      "I20240730 12:49:19.385681  1068 compile_pass_manager.cpp:353] [UNILOG][INFO] Debug mode: null\n",
      "I20240730 12:49:19.385700  1068 compile_pass_manager.cpp:357] [UNILOG][INFO] Target architecture: DPUCZDX8G_ISA1_B4096_0101000016010407\n",
      "I20240730 12:49:19.385790  1068 compile_pass_manager.cpp:465] [UNILOG][INFO] Graph name: model_5, with op num: 9\n",
      "I20240730 12:49:19.385809  1068 compile_pass_manager.cpp:478] [UNILOG][INFO] Begin to compile...\n",
      "I20240730 12:49:19.389606  1068 compile_pass_manager.cpp:489] [UNILOG][INFO] Total device subgraph number 3, DPU subgraph number 1\n",
      "I20240730 12:49:19.389652  1068 compile_pass_manager.cpp:504] [UNILOG][INFO] Compile done.\n"
     ]
    },
    {
     "name": "stdout",
     "output_type": "stream",
     "text": [
      "[INFO] Namespace(batchsize=1, inputs_shape=None, layout='NHWC', model_files=['/tmp/vitis-ai-user/tensorflow_model_optimization/tmp_sub_graph_quantized_20240730-124916-522682_QLDbJt.h5'], model_type='tensorflow2', named_inputs_shape=None, out_filename='/tmp/vitis-ai-user/tensorflow_model_optimization/tmp_sub_graph_xnnc_20240730-124916-522682_QLDbJt.xmodel', proto=None)\n",
      "[INFO] tensorflow2 model: /tmp/vitis-ai-user/tensorflow_model_optimization/tmp_sub_graph_quantized_20240730-124916-522682_QLDbJt.h5\n",
      "[INFO] keras version: 2.12.0\n",
      "[INFO] Tensorflow Keras model type: functional\n"
     ]
    },
    {
     "name": "stderr",
     "output_type": "stream",
     "text": [
      "[INFO] parse raw model     :100%|██████████| 4/4 [00:00<00:00, 6727.03it/s]                  \n",
      "[INFO] infer shape (NHWC)  :100%|██████████| 5/5 [00:00<00:00, 3306.77it/s]                  \n",
      "[INFO] perform level-0 opt :100%|██████████| 1/1 [00:00<00:00, 2388.56it/s]                  \n",
      "[INFO] perform level-1 opt :100%|██████████| 2/2 [00:00<00:00, 7724.32it/s]                  \n",
      "[INFO] generate xmodel     :100%|██████████| 5/5 [00:00<00:00, 1991.60it/s]                  \n",
      "I20240730 12:49:19.520862  1068 compile_pass_manager.cpp:352] [UNILOG][INFO] Compile mode: dpu\n",
      "I20240730 12:49:19.520911  1068 compile_pass_manager.cpp:353] [UNILOG][INFO] Debug mode: null\n",
      "I20240730 12:49:19.520922  1068 compile_pass_manager.cpp:357] [UNILOG][INFO] Target architecture: DPUCZDX8G_ISA1_B4096_0101000016010407\n",
      "I20240730 12:49:19.520995  1068 compile_pass_manager.cpp:465] [UNILOG][INFO] Graph name: model_6, with op num: 9\n",
      "I20240730 12:49:19.521004  1068 compile_pass_manager.cpp:478] [UNILOG][INFO] Begin to compile...\n",
      "I20240730 12:49:19.525492  1068 compile_pass_manager.cpp:489] [UNILOG][INFO] Total device subgraph number 3, DPU subgraph number 1\n",
      "I20240730 12:49:19.525532  1068 compile_pass_manager.cpp:504] [UNILOG][INFO] Compile done.\n"
     ]
    },
    {
     "name": "stdout",
     "output_type": "stream",
     "text": [
      "[INFO] dump xmodel: /tmp/vitis-ai-user/tensorflow_model_optimization/tmp_sub_graph_xnnc_20240730-124916-522682_QLDbJt.xmodel\n",
      "[INFO] Namespace(batchsize=1, inputs_shape=None, layout='NHWC', model_files=['/tmp/vitis-ai-user/tensorflow_model_optimization/tmp_sub_graph_quantized_20240730-124916-522682_QLDbJt.h5'], model_type='tensorflow2', named_inputs_shape=None, out_filename='/tmp/vitis-ai-user/tensorflow_model_optimization/tmp_sub_graph_xnnc_20240730-124916-522682_QLDbJt.xmodel', proto=None)\n",
      "[INFO] tensorflow2 model: /tmp/vitis-ai-user/tensorflow_model_optimization/tmp_sub_graph_quantized_20240730-124916-522682_QLDbJt.h5\n",
      "[INFO] keras version: 2.12.0\n",
      "[INFO] Tensorflow Keras model type: functional\n"
     ]
    },
    {
     "name": "stderr",
     "output_type": "stream",
     "text": [
      "[INFO] parse raw model     :100%|██████████| 4/4 [00:00<00:00, 5917.89it/s]                  \n",
      "[INFO] infer shape (NHWC)  :100%|██████████| 5/5 [00:00<00:00, 2828.26it/s]                  \n",
      "[INFO] perform level-0 opt :100%|██████████| 1/1 [00:00<00:00, 2730.67it/s]                  \n",
      "[INFO] perform level-1 opt :100%|██████████| 2/2 [00:00<00:00, 7913.78it/s]                  \n",
      "[INFO] generate xmodel     :100%|██████████| 5/5 [00:00<00:00, 2583.97it/s]                  "
     ]
    },
    {
     "name": "stdout",
     "output_type": "stream",
     "text": [
      "[INFO] dump xmodel: /tmp/vitis-ai-user/tensorflow_model_optimization/tmp_sub_graph_xnnc_20240730-124916-522682_QLDbJt.xmodel\n"
     ]
    },
    {
     "name": "stderr",
     "output_type": "stream",
     "text": [
      "\n",
      "I20240730 12:49:19.658975  1068 compile_pass_manager.cpp:352] [UNILOG][INFO] Compile mode: dpu\n",
      "I20240730 12:49:19.659034  1068 compile_pass_manager.cpp:353] [UNILOG][INFO] Debug mode: null\n",
      "I20240730 12:49:19.659049  1068 compile_pass_manager.cpp:357] [UNILOG][INFO] Target architecture: DPUCZDX8G_ISA1_B4096_0101000016010407\n",
      "I20240730 12:49:19.659133  1068 compile_pass_manager.cpp:465] [UNILOG][INFO] Graph name: model_7, with op num: 9\n",
      "I20240730 12:49:19.659147  1068 compile_pass_manager.cpp:478] [UNILOG][INFO] Begin to compile...\n",
      "I20240730 12:49:19.663623  1068 compile_pass_manager.cpp:489] [UNILOG][INFO] Total device subgraph number 3, DPU subgraph number 1\n",
      "I20240730 12:49:19.663697  1068 compile_pass_manager.cpp:504] [UNILOG][INFO] Compile done.\n"
     ]
    },
    {
     "name": "stdout",
     "output_type": "stream",
     "text": [
      "[INFO] Namespace(batchsize=1, inputs_shape=None, layout='NHWC', model_files=['/tmp/vitis-ai-user/tensorflow_model_optimization/tmp_sub_graph_quantized_20240730-124916-522682_QLDbJt.h5'], model_type='tensorflow2', named_inputs_shape=None, out_filename='/tmp/vitis-ai-user/tensorflow_model_optimization/tmp_sub_graph_xnnc_20240730-124916-522682_QLDbJt.xmodel', proto=None)\n",
      "[INFO] tensorflow2 model: /tmp/vitis-ai-user/tensorflow_model_optimization/tmp_sub_graph_quantized_20240730-124916-522682_QLDbJt.h5\n",
      "[INFO] keras version: 2.12.0\n",
      "[INFO] Tensorflow Keras model type: functional\n"
     ]
    },
    {
     "name": "stderr",
     "output_type": "stream",
     "text": [
      "[INFO] parse raw model     :100%|██████████| 4/4 [00:00<00:00, 6692.15it/s]                  \n",
      "[INFO] infer shape (NHWC)  :100%|██████████| 5/5 [00:00<00:00, 3564.16it/s]                  \n",
      "[INFO] perform level-0 opt :100%|██████████| 1/1 [00:00<00:00, 2347.12it/s]                  \n",
      "[INFO] perform level-1 opt :100%|██████████| 2/2 [00:00<00:00, 6538.28it/s]                  \n",
      "[INFO] generate xmodel     :100%|██████████| 5/5 [00:00<00:00, 2618.82it/s]                  "
     ]
    },
    {
     "name": "stdout",
     "output_type": "stream",
     "text": [
      "[INFO] dump xmodel: /tmp/vitis-ai-user/tensorflow_model_optimization/tmp_sub_graph_xnnc_20240730-124916-522682_QLDbJt.xmodel\n"
     ]
    },
    {
     "name": "stderr",
     "output_type": "stream",
     "text": [
      "\n",
      "I20240730 12:49:19.790516  1068 compile_pass_manager.cpp:352] [UNILOG][INFO] Compile mode: dpu\n",
      "I20240730 12:49:19.790562  1068 compile_pass_manager.cpp:353] [UNILOG][INFO] Debug mode: null\n",
      "I20240730 12:49:19.790575  1068 compile_pass_manager.cpp:357] [UNILOG][INFO] Target architecture: DPUCZDX8G_ISA1_B4096_0101000016010407\n",
      "I20240730 12:49:19.790668  1068 compile_pass_manager.cpp:465] [UNILOG][INFO] Graph name: model_8, with op num: 9\n",
      "I20240730 12:49:19.790684  1068 compile_pass_manager.cpp:478] [UNILOG][INFO] Begin to compile...\n",
      "I20240730 12:49:19.795729  1068 compile_pass_manager.cpp:489] [UNILOG][INFO] Total device subgraph number 3, DPU subgraph number 1\n",
      "I20240730 12:49:19.795774  1068 compile_pass_manager.cpp:504] [UNILOG][INFO] Compile done.\n"
     ]
    },
    {
     "name": "stdout",
     "output_type": "stream",
     "text": [
      "[INFO] Namespace(batchsize=1, inputs_shape=None, layout='NHWC', model_files=['/tmp/vitis-ai-user/tensorflow_model_optimization/tmp_sub_graph_quantized_20240730-124916-522682_QLDbJt.h5'], model_type='tensorflow2', named_inputs_shape=None, out_filename='/tmp/vitis-ai-user/tensorflow_model_optimization/tmp_sub_graph_xnnc_20240730-124916-522682_QLDbJt.xmodel', proto=None)\n",
      "[INFO] tensorflow2 model: /tmp/vitis-ai-user/tensorflow_model_optimization/tmp_sub_graph_quantized_20240730-124916-522682_QLDbJt.h5\n",
      "[INFO] keras version: 2.12.0\n",
      "[INFO] Tensorflow Keras model type: functional\n"
     ]
    },
    {
     "name": "stderr",
     "output_type": "stream",
     "text": [
      "[INFO] parse raw model     :100%|██████████| 4/4 [00:00<00:00, 5849.80it/s]                  \n",
      "[INFO] infer shape (NHWC)  :100%|██████████| 5/5 [00:00<00:00, 3217.97it/s]                  \n",
      "[INFO] perform level-0 opt :100%|██████████| 1/1 [00:00<00:00, 2714.76it/s]                  \n",
      "[INFO] perform level-1 opt :100%|██████████| 2/2 [00:00<00:00, 5757.45it/s]                  \n",
      "[INFO] generate xmodel     :100%|██████████| 5/5 [00:00<00:00, 2187.72it/s]                  "
     ]
    },
    {
     "name": "stdout",
     "output_type": "stream",
     "text": [
      "[INFO] dump xmodel: /tmp/vitis-ai-user/tensorflow_model_optimization/tmp_sub_graph_xnnc_20240730-124916-522682_QLDbJt.xmodel\n"
     ]
    },
    {
     "name": "stderr",
     "output_type": "stream",
     "text": [
      "\n",
      "I20240730 12:49:19.926064  1068 compile_pass_manager.cpp:352] [UNILOG][INFO] Compile mode: dpu\n",
      "I20240730 12:49:19.926139  1068 compile_pass_manager.cpp:353] [UNILOG][INFO] Debug mode: null\n",
      "I20240730 12:49:19.926156  1068 compile_pass_manager.cpp:357] [UNILOG][INFO] Target architecture: DPUCZDX8G_ISA1_B4096_0101000016010407\n",
      "I20240730 12:49:19.926250  1068 compile_pass_manager.cpp:465] [UNILOG][INFO] Graph name: model_9, with op num: 9\n",
      "I20240730 12:49:19.926265  1068 compile_pass_manager.cpp:478] [UNILOG][INFO] Begin to compile...\n",
      "I20240730 12:49:19.934664  1068 compile_pass_manager.cpp:489] [UNILOG][INFO] Total device subgraph number 3, DPU subgraph number 1\n",
      "I20240730 12:49:19.934751  1068 compile_pass_manager.cpp:504] [UNILOG][INFO] Compile done.\n"
     ]
    },
    {
     "name": "stdout",
     "output_type": "stream",
     "text": [
      "[INFO] Namespace(batchsize=1, inputs_shape=None, layout='NHWC', model_files=['/tmp/vitis-ai-user/tensorflow_model_optimization/tmp_sub_graph_quantized_20240730-124916-522682_QLDbJt.h5'], model_type='tensorflow2', named_inputs_shape=None, out_filename='/tmp/vitis-ai-user/tensorflow_model_optimization/tmp_sub_graph_xnnc_20240730-124916-522682_QLDbJt.xmodel', proto=None)\n",
      "[INFO] tensorflow2 model: /tmp/vitis-ai-user/tensorflow_model_optimization/tmp_sub_graph_quantized_20240730-124916-522682_QLDbJt.h5\n",
      "[INFO] keras version: 2.12.0\n",
      "[INFO] Tensorflow Keras model type: functional\n"
     ]
    },
    {
     "name": "stderr",
     "output_type": "stream",
     "text": [
      "[INFO] parse raw model     :100%|██████████| 4/4 [00:00<00:00, 7947.52it/s]                  \n",
      "[INFO] infer shape (NHWC)  :100%|██████████| 5/5 [00:00<00:00, 3879.30it/s]                  \n",
      "[INFO] perform level-0 opt :100%|██████████| 1/1 [00:00<00:00, 3120.76it/s]                  \n",
      "[INFO] perform level-1 opt :100%|██████████| 2/2 [00:00<00:00, 8481.91it/s]                  \n",
      "[INFO] generate xmodel     :100%|██████████| 5/5 [00:00<00:00, 2126.93it/s]                  "
     ]
    },
    {
     "name": "stdout",
     "output_type": "stream",
     "text": [
      "[INFO] dump xmodel: /tmp/vitis-ai-user/tensorflow_model_optimization/tmp_sub_graph_xnnc_20240730-124916-522682_QLDbJt.xmodel\n"
     ]
    },
    {
     "name": "stderr",
     "output_type": "stream",
     "text": [
      "\n",
      "I20240730 12:49:20.069198  1068 compile_pass_manager.cpp:352] [UNILOG][INFO] Compile mode: dpu\n",
      "I20240730 12:49:20.069270  1068 compile_pass_manager.cpp:353] [UNILOG][INFO] Debug mode: null\n",
      "I20240730 12:49:20.069284  1068 compile_pass_manager.cpp:357] [UNILOG][INFO] Target architecture: DPUCZDX8G_ISA1_B4096_0101000016010407\n",
      "I20240730 12:49:20.069424  1068 compile_pass_manager.cpp:465] [UNILOG][INFO] Graph name: model_10, with op num: 9\n",
      "I20240730 12:49:20.069444  1068 compile_pass_manager.cpp:478] [UNILOG][INFO] Begin to compile...\n",
      "I20240730 12:49:20.074206  1068 compile_pass_manager.cpp:489] [UNILOG][INFO] Total device subgraph number 3, DPU subgraph number 1\n",
      "I20240730 12:49:20.074245  1068 compile_pass_manager.cpp:504] [UNILOG][INFO] Compile done.\n"
     ]
    },
    {
     "name": "stdout",
     "output_type": "stream",
     "text": [
      "[INFO] Namespace(batchsize=1, inputs_shape=None, layout='NHWC', model_files=['/tmp/vitis-ai-user/tensorflow_model_optimization/tmp_sub_graph_quantized_20240730-124916-522682_QLDbJt.h5'], model_type='tensorflow2', named_inputs_shape=None, out_filename='/tmp/vitis-ai-user/tensorflow_model_optimization/tmp_sub_graph_xnnc_20240730-124916-522682_QLDbJt.xmodel', proto=None)\n",
      "[INFO] tensorflow2 model: /tmp/vitis-ai-user/tensorflow_model_optimization/tmp_sub_graph_quantized_20240730-124916-522682_QLDbJt.h5\n",
      "[INFO] keras version: 2.12.0\n",
      "[INFO] Tensorflow Keras model type: functional\n"
     ]
    },
    {
     "name": "stderr",
     "output_type": "stream",
     "text": [
      "[INFO] parse raw model     :100%|██████████| 4/4 [00:00<00:00, 5962.05it/s]                  \n",
      "[INFO] infer shape (NHWC)  :100%|██████████| 5/5 [00:00<00:00, 2478.02it/s]                  \n",
      "[INFO] perform level-0 opt :100%|██████████| 1/1 [00:00<00:00, 2656.30it/s]                  \n",
      "[INFO] perform level-1 opt :100%|██████████| 2/2 [00:00<00:00, 5603.61it/s]                  \n",
      "[INFO] generate xmodel     :100%|██████████| 5/5 [00:00<00:00, 2394.56it/s]                  "
     ]
    },
    {
     "name": "stdout",
     "output_type": "stream",
     "text": [
      "[INFO] dump xmodel: /tmp/vitis-ai-user/tensorflow_model_optimization/tmp_sub_graph_xnnc_20240730-124916-522682_QLDbJt.xmodel\n"
     ]
    },
    {
     "name": "stderr",
     "output_type": "stream",
     "text": [
      "\n",
      "I20240730 12:49:20.202421  1068 compile_pass_manager.cpp:352] [UNILOG][INFO] Compile mode: dpu\n",
      "I20240730 12:49:20.202467  1068 compile_pass_manager.cpp:353] [UNILOG][INFO] Debug mode: null\n",
      "I20240730 12:49:20.202479  1068 compile_pass_manager.cpp:357] [UNILOG][INFO] Target architecture: DPUCZDX8G_ISA1_B4096_0101000016010407\n",
      "I20240730 12:49:20.202551  1068 compile_pass_manager.cpp:465] [UNILOG][INFO] Graph name: model_11, with op num: 9\n",
      "I20240730 12:49:20.202560  1068 compile_pass_manager.cpp:478] [UNILOG][INFO] Begin to compile...\n",
      "I20240730 12:49:20.207743  1068 compile_pass_manager.cpp:489] [UNILOG][INFO] Total device subgraph number 3, DPU subgraph number 1\n",
      "I20240730 12:49:20.207789  1068 compile_pass_manager.cpp:504] [UNILOG][INFO] Compile done.\n"
     ]
    },
    {
     "name": "stdout",
     "output_type": "stream",
     "text": [
      "[INFO] Namespace(batchsize=1, inputs_shape=None, layout='NHWC', model_files=['/tmp/vitis-ai-user/tensorflow_model_optimization/tmp_sub_graph_quantized_20240730-124916-522682_QLDbJt.h5'], model_type='tensorflow2', named_inputs_shape=None, out_filename='/tmp/vitis-ai-user/tensorflow_model_optimization/tmp_sub_graph_xnnc_20240730-124916-522682_QLDbJt.xmodel', proto=None)\n",
      "[INFO] tensorflow2 model: /tmp/vitis-ai-user/tensorflow_model_optimization/tmp_sub_graph_quantized_20240730-124916-522682_QLDbJt.h5\n",
      "[INFO] keras version: 2.12.0\n",
      "[INFO] Tensorflow Keras model type: functional\n"
     ]
    },
    {
     "name": "stderr",
     "output_type": "stream",
     "text": [
      "[INFO] parse raw model     :100%|██████████| 4/4 [00:00<00:00, 6759.56it/s]                  \n",
      "[INFO] infer shape (NHWC)  :100%|██████████| 5/5 [00:00<00:00, 5666.45it/s]                  \n",
      "[INFO] perform level-0 opt :100%|██████████| 1/1 [00:00<00:00, 2269.65it/s]                  \n",
      "[INFO] perform level-1 opt :100%|██████████| 2/2 [00:00<00:00, 7025.63it/s]                  \n",
      "[INFO] generate xmodel     :100%|██████████| 5/5 [00:00<00:00, 2325.00it/s]                  "
     ]
    },
    {
     "name": "stdout",
     "output_type": "stream",
     "text": [
      "[INFO] dump xmodel: /tmp/vitis-ai-user/tensorflow_model_optimization/tmp_sub_graph_xnnc_20240730-124916-522682_QLDbJt.xmodel\n"
     ]
    },
    {
     "name": "stderr",
     "output_type": "stream",
     "text": [
      "\n",
      "I20240730 12:49:20.334355  1068 compile_pass_manager.cpp:352] [UNILOG][INFO] Compile mode: dpu\n",
      "I20240730 12:49:20.334416  1068 compile_pass_manager.cpp:353] [UNILOG][INFO] Debug mode: null\n",
      "I20240730 12:49:20.334431  1068 compile_pass_manager.cpp:357] [UNILOG][INFO] Target architecture: DPUCZDX8G_ISA1_B4096_0101000016010407\n",
      "I20240730 12:49:20.334509  1068 compile_pass_manager.cpp:465] [UNILOG][INFO] Graph name: model_12, with op num: 9\n",
      "I20240730 12:49:20.334518  1068 compile_pass_manager.cpp:478] [UNILOG][INFO] Begin to compile...\n",
      "I20240730 12:49:20.342391  1068 compile_pass_manager.cpp:489] [UNILOG][INFO] Total device subgraph number 3, DPU subgraph number 1\n",
      "I20240730 12:49:20.342450  1068 compile_pass_manager.cpp:504] [UNILOG][INFO] Compile done.\n"
     ]
    },
    {
     "name": "stdout",
     "output_type": "stream",
     "text": [
      "[INFO] Namespace(batchsize=1, inputs_shape=None, layout='NHWC', model_files=['/tmp/vitis-ai-user/tensorflow_model_optimization/tmp_sub_graph_quantized_20240730-124916-522682_QLDbJt.h5'], model_type='tensorflow2', named_inputs_shape=None, out_filename='/tmp/vitis-ai-user/tensorflow_model_optimization/tmp_sub_graph_xnnc_20240730-124916-522682_QLDbJt.xmodel', proto=None)\n",
      "[INFO] tensorflow2 model: /tmp/vitis-ai-user/tensorflow_model_optimization/tmp_sub_graph_quantized_20240730-124916-522682_QLDbJt.h5\n",
      "[INFO] keras version: 2.12.0\n",
      "[INFO] Tensorflow Keras model type: functional\n"
     ]
    },
    {
     "name": "stderr",
     "output_type": "stream",
     "text": [
      "[INFO] parse raw model     :100%|██████████| 4/4 [00:00<00:00, 12557.80it/s]                 \n",
      "[INFO] infer shape (NHWC)  :100%|██████████| 5/5 [00:00<00:00, 3140.39it/s]                  \n",
      "[INFO] perform level-0 opt :100%|██████████| 1/1 [00:00<00:00, 2335.36it/s]                  \n",
      "[INFO] perform level-1 opt :100%|██████████| 2/2 [00:00<00:00, 7774.43it/s]                  \n",
      "[INFO] generate xmodel     :100%|██████████| 5/5 [00:00<00:00, 1772.44it/s]                  "
     ]
    },
    {
     "name": "stdout",
     "output_type": "stream",
     "text": [
      "[INFO] dump xmodel: /tmp/vitis-ai-user/tensorflow_model_optimization/tmp_sub_graph_xnnc_20240730-124916-522682_QLDbJt.xmodel\n"
     ]
    },
    {
     "name": "stderr",
     "output_type": "stream",
     "text": [
      "\n",
      "I20240730 12:49:20.471905  1068 compile_pass_manager.cpp:352] [UNILOG][INFO] Compile mode: dpu\n",
      "I20240730 12:49:20.471953  1068 compile_pass_manager.cpp:353] [UNILOG][INFO] Debug mode: null\n",
      "I20240730 12:49:20.471967  1068 compile_pass_manager.cpp:357] [UNILOG][INFO] Target architecture: DPUCZDX8G_ISA1_B4096_0101000016010407\n",
      "I20240730 12:49:20.472055  1068 compile_pass_manager.cpp:465] [UNILOG][INFO] Graph name: model_13, with op num: 9\n",
      "I20240730 12:49:20.472074  1068 compile_pass_manager.cpp:478] [UNILOG][INFO] Begin to compile...\n",
      "I20240730 12:49:20.478328  1068 compile_pass_manager.cpp:489] [UNILOG][INFO] Total device subgraph number 3, DPU subgraph number 1\n",
      "I20240730 12:49:20.478374  1068 compile_pass_manager.cpp:504] [UNILOG][INFO] Compile done.\n"
     ]
    },
    {
     "name": "stdout",
     "output_type": "stream",
     "text": [
      "[INFO] Namespace(batchsize=1, inputs_shape=None, layout='NHWC', model_files=['/tmp/vitis-ai-user/tensorflow_model_optimization/tmp_sub_graph_quantized_20240730-124916-522682_QLDbJt.h5'], model_type='tensorflow2', named_inputs_shape=None, out_filename='/tmp/vitis-ai-user/tensorflow_model_optimization/tmp_sub_graph_xnnc_20240730-124916-522682_QLDbJt.xmodel', proto=None)\n",
      "[INFO] tensorflow2 model: /tmp/vitis-ai-user/tensorflow_model_optimization/tmp_sub_graph_quantized_20240730-124916-522682_QLDbJt.h5\n",
      "[INFO] keras version: 2.12.0\n",
      "[INFO] Tensorflow Keras model type: functional\n"
     ]
    },
    {
     "name": "stderr",
     "output_type": "stream",
     "text": [
      "[INFO] parse raw model     :100%|██████████| 4/4 [00:00<00:00, 16256.99it/s]                 \n",
      "[INFO] infer shape (NHWC)  :100%|██████████| 5/5 [00:00<00:00, 3425.04it/s]                  \n",
      "[INFO] perform level-0 opt :100%|██████████| 1/1 [00:00<00:00, 2520.62it/s]                  \n",
      "[INFO] perform level-1 opt :100%|██████████| 2/2 [00:00<00:00, 7869.24it/s]                  \n",
      "[INFO] generate xmodel     :100%|██████████| 5/5 [00:00<00:00, 1785.42it/s]                  "
     ]
    },
    {
     "name": "stdout",
     "output_type": "stream",
     "text": [
      "[INFO] dump xmodel: /tmp/vitis-ai-user/tensorflow_model_optimization/tmp_sub_graph_xnnc_20240730-124916-522682_QLDbJt.xmodel\n"
     ]
    },
    {
     "name": "stderr",
     "output_type": "stream",
     "text": [
      "\n",
      "I20240730 12:49:20.612396  1068 compile_pass_manager.cpp:352] [UNILOG][INFO] Compile mode: dpu\n",
      "I20240730 12:49:20.612443  1068 compile_pass_manager.cpp:353] [UNILOG][INFO] Debug mode: null\n",
      "I20240730 12:49:20.612454  1068 compile_pass_manager.cpp:357] [UNILOG][INFO] Target architecture: DPUCZDX8G_ISA1_B4096_0101000016010407\n",
      "I20240730 12:49:20.612529  1068 compile_pass_manager.cpp:465] [UNILOG][INFO] Graph name: model_14, with op num: 9\n",
      "I20240730 12:49:20.612538  1068 compile_pass_manager.cpp:478] [UNILOG][INFO] Begin to compile...\n",
      "I20240730 12:49:20.621174  1068 compile_pass_manager.cpp:489] [UNILOG][INFO] Total device subgraph number 3, DPU subgraph number 1\n",
      "I20240730 12:49:20.621217  1068 compile_pass_manager.cpp:504] [UNILOG][INFO] Compile done.\n"
     ]
    },
    {
     "name": "stdout",
     "output_type": "stream",
     "text": [
      "[INFO] Namespace(batchsize=1, inputs_shape=None, layout='NHWC', model_files=['/tmp/vitis-ai-user/tensorflow_model_optimization/tmp_sub_graph_quantized_20240730-124916-522682_QLDbJt.h5'], model_type='tensorflow2', named_inputs_shape=None, out_filename='/tmp/vitis-ai-user/tensorflow_model_optimization/tmp_sub_graph_xnnc_20240730-124916-522682_QLDbJt.xmodel', proto=None)\n",
      "[INFO] tensorflow2 model: /tmp/vitis-ai-user/tensorflow_model_optimization/tmp_sub_graph_quantized_20240730-124916-522682_QLDbJt.h5\n",
      "[INFO] keras version: 2.12.0\n",
      "[INFO] Tensorflow Keras model type: functional\n"
     ]
    },
    {
     "name": "stderr",
     "output_type": "stream",
     "text": [
      "[INFO] parse raw model     :100%|██████████| 4/4 [00:00<00:00, 9921.48it/s]                  \n",
      "[INFO] infer shape (NHWC)  :100%|██████████| 5/5 [00:00<00:00, 2945.02it/s]                  \n",
      "[INFO] perform level-0 opt :100%|██████████| 1/1 [00:00<00:00, 2430.07it/s]                  \n",
      "[INFO] perform level-1 opt :100%|██████████| 2/2 [00:00<00:00, 6620.84it/s]                  \n",
      "[INFO] generate xmodel     :100%|██████████| 5/5 [00:00<00:00, 2786.17it/s]                  "
     ]
    },
    {
     "name": "stdout",
     "output_type": "stream",
     "text": [
      "[INFO] dump xmodel: /tmp/vitis-ai-user/tensorflow_model_optimization/tmp_sub_graph_xnnc_20240730-124916-522682_QLDbJt.xmodel\n"
     ]
    },
    {
     "name": "stderr",
     "output_type": "stream",
     "text": [
      "\n",
      "I20240730 12:49:20.750221  1068 compile_pass_manager.cpp:352] [UNILOG][INFO] Compile mode: dpu\n",
      "I20240730 12:49:20.750270  1068 compile_pass_manager.cpp:353] [UNILOG][INFO] Debug mode: null\n",
      "I20240730 12:49:20.750281  1068 compile_pass_manager.cpp:357] [UNILOG][INFO] Target architecture: DPUCZDX8G_ISA1_B4096_0101000016010407\n",
      "I20240730 12:49:20.750355  1068 compile_pass_manager.cpp:465] [UNILOG][INFO] Graph name: model_15, with op num: 9\n",
      "I20240730 12:49:20.750365  1068 compile_pass_manager.cpp:478] [UNILOG][INFO] Begin to compile...\n",
      "I20240730 12:49:20.755378  1068 compile_pass_manager.cpp:489] [UNILOG][INFO] Total device subgraph number 3, DPU subgraph number 1\n",
      "I20240730 12:49:20.755417  1068 compile_pass_manager.cpp:504] [UNILOG][INFO] Compile done.\n"
     ]
    },
    {
     "name": "stdout",
     "output_type": "stream",
     "text": [
      "[INFO] Namespace(batchsize=1, inputs_shape=None, layout='NHWC', model_files=['/tmp/vitis-ai-user/tensorflow_model_optimization/tmp_sub_graph_quantized_20240730-124916-522682_QLDbJt.h5'], model_type='tensorflow2', named_inputs_shape=None, out_filename='/tmp/vitis-ai-user/tensorflow_model_optimization/tmp_sub_graph_xnnc_20240730-124916-522682_QLDbJt.xmodel', proto=None)\n",
      "[INFO] tensorflow2 model: /tmp/vitis-ai-user/tensorflow_model_optimization/tmp_sub_graph_quantized_20240730-124916-522682_QLDbJt.h5\n",
      "[INFO] keras version: 2.12.0\n",
      "[INFO] Tensorflow Keras model type: functional\n"
     ]
    },
    {
     "name": "stderr",
     "output_type": "stream",
     "text": [
      "[INFO] parse raw model     :100%|██████████| 4/4 [00:00<00:00, 6184.01it/s]                  \n",
      "[INFO] infer shape (NHWC)  :100%|██████████| 5/5 [00:00<00:00, 5919.14it/s]                  \n",
      "[INFO] perform level-0 opt :100%|██████████| 1/1 [00:00<00:00, 2542.00it/s]                  \n",
      "[INFO] perform level-1 opt :100%|██████████| 2/2 [00:00<00:00, 6803.41it/s]                  \n",
      "[INFO] generate xmodel     :100%|██████████| 5/5 [00:00<00:00, 2274.08it/s]                  "
     ]
    },
    {
     "name": "stdout",
     "output_type": "stream",
     "text": [
      "[INFO] dump xmodel: /tmp/vitis-ai-user/tensorflow_model_optimization/tmp_sub_graph_xnnc_20240730-124916-522682_QLDbJt.xmodel\n"
     ]
    },
    {
     "name": "stderr",
     "output_type": "stream",
     "text": [
      "\n",
      "I20240730 12:49:20.885239  1068 compile_pass_manager.cpp:352] [UNILOG][INFO] Compile mode: dpu\n",
      "I20240730 12:49:20.885298  1068 compile_pass_manager.cpp:353] [UNILOG][INFO] Debug mode: null\n",
      "I20240730 12:49:20.885315  1068 compile_pass_manager.cpp:357] [UNILOG][INFO] Target architecture: DPUCZDX8G_ISA1_B4096_0101000016010407\n",
      "I20240730 12:49:20.885459  1068 compile_pass_manager.cpp:465] [UNILOG][INFO] Graph name: model_16, with op num: 9\n",
      "I20240730 12:49:20.885478  1068 compile_pass_manager.cpp:478] [UNILOG][INFO] Begin to compile...\n",
      "I20240730 12:49:20.894546  1068 compile_pass_manager.cpp:489] [UNILOG][INFO] Total device subgraph number 3, DPU subgraph number 1\n",
      "I20240730 12:49:20.894615  1068 compile_pass_manager.cpp:504] [UNILOG][INFO] Compile done.\n"
     ]
    },
    {
     "name": "stdout",
     "output_type": "stream",
     "text": [
      "[INFO] Namespace(batchsize=1, inputs_shape=None, layout='NHWC', model_files=['/tmp/vitis-ai-user/tensorflow_model_optimization/tmp_sub_graph_quantized_20240730-124916-522682_QLDbJt.h5'], model_type='tensorflow2', named_inputs_shape=None, out_filename='/tmp/vitis-ai-user/tensorflow_model_optimization/tmp_sub_graph_xnnc_20240730-124916-522682_QLDbJt.xmodel', proto=None)\n",
      "[INFO] tensorflow2 model: /tmp/vitis-ai-user/tensorflow_model_optimization/tmp_sub_graph_quantized_20240730-124916-522682_QLDbJt.h5\n",
      "[INFO] keras version: 2.12.0\n",
      "[INFO] Tensorflow Keras model type: functional\n"
     ]
    },
    {
     "name": "stderr",
     "output_type": "stream",
     "text": [
      "[INFO] parse raw model     :100%|██████████| 4/4 [00:00<00:00, 6836.68it/s]                  \n",
      "[INFO] infer shape (NHWC)  :100%|██████████| 5/5 [00:00<00:00, 3661.23it/s]                  \n",
      "[INFO] perform level-0 opt :100%|██████████| 1/1 [00:00<00:00, 1699.47it/s]                  \n",
      "[INFO] perform level-1 opt :100%|██████████| 2/2 [00:00<00:00, 7738.57it/s]                  \n",
      "[INFO] generate xmodel     :100%|██████████| 5/5 [00:00<00:00, 2375.03it/s]                  "
     ]
    },
    {
     "name": "stdout",
     "output_type": "stream",
     "text": [
      "[INFO] dump xmodel: /tmp/vitis-ai-user/tensorflow_model_optimization/tmp_sub_graph_xnnc_20240730-124916-522682_QLDbJt.xmodel\n"
     ]
    },
    {
     "name": "stderr",
     "output_type": "stream",
     "text": [
      "\n",
      "I20240730 12:49:21.021641  1068 compile_pass_manager.cpp:352] [UNILOG][INFO] Compile mode: dpu\n",
      "I20240730 12:49:21.021703  1068 compile_pass_manager.cpp:353] [UNILOG][INFO] Debug mode: null\n",
      "I20240730 12:49:21.021723  1068 compile_pass_manager.cpp:357] [UNILOG][INFO] Target architecture: DPUCZDX8G_ISA1_B4096_0101000016010407\n",
      "I20240730 12:49:21.021811  1068 compile_pass_manager.cpp:465] [UNILOG][INFO] Graph name: model_17, with op num: 9\n",
      "I20240730 12:49:21.021823  1068 compile_pass_manager.cpp:478] [UNILOG][INFO] Begin to compile...\n",
      "I20240730 12:49:21.027514  1068 compile_pass_manager.cpp:489] [UNILOG][INFO] Total device subgraph number 3, DPU subgraph number 1\n",
      "I20240730 12:49:21.027556  1068 compile_pass_manager.cpp:504] [UNILOG][INFO] Compile done.\n"
     ]
    },
    {
     "name": "stdout",
     "output_type": "stream",
     "text": [
      "[INFO] Namespace(batchsize=1, inputs_shape=None, layout='NHWC', model_files=['/tmp/vitis-ai-user/tensorflow_model_optimization/tmp_sub_graph_quantized_20240730-124916-522682_QLDbJt.h5'], model_type='tensorflow2', named_inputs_shape=None, out_filename='/tmp/vitis-ai-user/tensorflow_model_optimization/tmp_sub_graph_xnnc_20240730-124916-522682_QLDbJt.xmodel', proto=None)\n",
      "[INFO] tensorflow2 model: /tmp/vitis-ai-user/tensorflow_model_optimization/tmp_sub_graph_quantized_20240730-124916-522682_QLDbJt.h5\n",
      "[INFO] keras version: 2.12.0\n",
      "[INFO] Tensorflow Keras model type: functional\n"
     ]
    },
    {
     "name": "stderr",
     "output_type": "stream",
     "text": [
      "[INFO] parse raw model     :100%|██████████| 4/4 [00:00<00:00, 6759.56it/s]                  \n",
      "[INFO] infer shape (NHWC)  :100%|██████████| 5/5 [00:00<00:00, 6486.71it/s]                  \n",
      "[INFO] perform level-0 opt :100%|██████████| 1/1 [00:00<00:00, 2763.05it/s]                  \n",
      "[INFO] perform level-1 opt :100%|██████████| 2/2 [00:00<00:00, 6684.15it/s]                  \n",
      "[INFO] generate xmodel     :100%|██████████| 5/5 [00:00<00:00, 2060.07it/s]                  "
     ]
    },
    {
     "name": "stdout",
     "output_type": "stream",
     "text": [
      "[INFO] dump xmodel: /tmp/vitis-ai-user/tensorflow_model_optimization/tmp_sub_graph_xnnc_20240730-124916-522682_QLDbJt.xmodel\n"
     ]
    },
    {
     "name": "stderr",
     "output_type": "stream",
     "text": [
      "\n",
      "I20240730 12:49:21.157348  1068 compile_pass_manager.cpp:352] [UNILOG][INFO] Compile mode: dpu\n",
      "I20240730 12:49:21.157398  1068 compile_pass_manager.cpp:353] [UNILOG][INFO] Debug mode: null\n",
      "I20240730 12:49:21.157410  1068 compile_pass_manager.cpp:357] [UNILOG][INFO] Target architecture: DPUCZDX8G_ISA1_B4096_0101000016010407\n",
      "I20240730 12:49:21.157492  1068 compile_pass_manager.cpp:465] [UNILOG][INFO] Graph name: model_18, with op num: 9\n",
      "I20240730 12:49:21.157501  1068 compile_pass_manager.cpp:478] [UNILOG][INFO] Begin to compile...\n",
      "I20240730 12:49:21.165729  1068 compile_pass_manager.cpp:489] [UNILOG][INFO] Total device subgraph number 3, DPU subgraph number 1\n",
      "I20240730 12:49:21.165772  1068 compile_pass_manager.cpp:504] [UNILOG][INFO] Compile done.\n"
     ]
    },
    {
     "name": "stdout",
     "output_type": "stream",
     "text": [
      "[INFO] Namespace(batchsize=1, inputs_shape=None, layout='NHWC', model_files=['/tmp/vitis-ai-user/tensorflow_model_optimization/tmp_sub_graph_quantized_20240730-124916-522682_QLDbJt.h5'], model_type='tensorflow2', named_inputs_shape=None, out_filename='/tmp/vitis-ai-user/tensorflow_model_optimization/tmp_sub_graph_xnnc_20240730-124916-522682_QLDbJt.xmodel', proto=None)\n",
      "[INFO] tensorflow2 model: /tmp/vitis-ai-user/tensorflow_model_optimization/tmp_sub_graph_quantized_20240730-124916-522682_QLDbJt.h5\n",
      "[INFO] keras version: 2.12.0\n",
      "[INFO] Tensorflow Keras model type: functional\n"
     ]
    },
    {
     "name": "stderr",
     "output_type": "stream",
     "text": [
      "[INFO] parse raw model     :100%|██████████| 4/4 [00:00<00:00, 8811.56it/s]                  \n",
      "[INFO] infer shape (NHWC)  :100%|██████████| 5/5 [00:00<00:00, 3246.37it/s]                  \n",
      "[INFO] perform level-0 opt :100%|██████████| 1/1 [00:00<00:00, 2809.31it/s]                  \n",
      "[INFO] perform level-1 opt :100%|██████████| 2/2 [00:00<00:00, 8981.38it/s]                  \n",
      "[INFO] generate xmodel     :100%|██████████| 5/5 [00:00<00:00, 1696.31it/s]                  "
     ]
    },
    {
     "name": "stdout",
     "output_type": "stream",
     "text": [
      "[INFO] dump xmodel: /tmp/vitis-ai-user/tensorflow_model_optimization/tmp_sub_graph_xnnc_20240730-124916-522682_QLDbJt.xmodel\n"
     ]
    },
    {
     "name": "stderr",
     "output_type": "stream",
     "text": [
      "\n",
      "I20240730 12:49:21.298818  1068 compile_pass_manager.cpp:352] [UNILOG][INFO] Compile mode: dpu\n",
      "I20240730 12:49:21.298869  1068 compile_pass_manager.cpp:353] [UNILOG][INFO] Debug mode: null\n",
      "I20240730 12:49:21.298882  1068 compile_pass_manager.cpp:357] [UNILOG][INFO] Target architecture: DPUCZDX8G_ISA1_B4096_0101000016010407\n",
      "I20240730 12:49:21.298962  1068 compile_pass_manager.cpp:465] [UNILOG][INFO] Graph name: model_19, with op num: 9\n",
      "I20240730 12:49:21.298972  1068 compile_pass_manager.cpp:478] [UNILOG][INFO] Begin to compile...\n",
      "I20240730 12:49:21.306788  1068 compile_pass_manager.cpp:489] [UNILOG][INFO] Total device subgraph number 3, DPU subgraph number 1\n",
      "I20240730 12:49:21.306831  1068 compile_pass_manager.cpp:504] [UNILOG][INFO] Compile done.\n"
     ]
    },
    {
     "name": "stdout",
     "output_type": "stream",
     "text": [
      "[INFO] Namespace(batchsize=1, inputs_shape=None, layout='NHWC', model_files=['/tmp/vitis-ai-user/tensorflow_model_optimization/tmp_sub_graph_quantized_20240730-124916-522682_QLDbJt.h5'], model_type='tensorflow2', named_inputs_shape=None, out_filename='/tmp/vitis-ai-user/tensorflow_model_optimization/tmp_sub_graph_xnnc_20240730-124916-522682_QLDbJt.xmodel', proto=None)\n",
      "[INFO] tensorflow2 model: /tmp/vitis-ai-user/tensorflow_model_optimization/tmp_sub_graph_quantized_20240730-124916-522682_QLDbJt.h5\n",
      "[INFO] keras version: 2.12.0\n",
      "[INFO] Tensorflow Keras model type: functional\n"
     ]
    },
    {
     "name": "stderr",
     "output_type": "stream",
     "text": [
      "[INFO] parse raw model     :100%|██████████| 4/4 [00:00<00:00, 11052.18it/s]                 \n",
      "[INFO] infer shape (NHWC)  :100%|██████████| 5/5 [00:00<00:00, 10656.26it/s]                 \n",
      "[INFO] perform level-0 opt :100%|██████████| 1/1 [00:00<00:00, 2229.83it/s]                  \n",
      "[INFO] perform level-1 opt :100%|██████████| 2/2 [00:00<00:00, 6909.89it/s]                  \n",
      "[INFO] generate xmodel     :100%|██████████| 5/5 [00:00<00:00, 662.90it/s]                   "
     ]
    },
    {
     "name": "stdout",
     "output_type": "stream",
     "text": [
      "[INFO] dump xmodel: /tmp/vitis-ai-user/tensorflow_model_optimization/tmp_sub_graph_xnnc_20240730-124916-522682_QLDbJt.xmodel\n"
     ]
    },
    {
     "name": "stderr",
     "output_type": "stream",
     "text": [
      "\n",
      "I20240730 12:49:21.456563  1068 compile_pass_manager.cpp:352] [UNILOG][INFO] Compile mode: dpu\n",
      "I20240730 12:49:21.456616  1068 compile_pass_manager.cpp:353] [UNILOG][INFO] Debug mode: null\n",
      "I20240730 12:49:21.456629  1068 compile_pass_manager.cpp:357] [UNILOG][INFO] Target architecture: DPUCZDX8G_ISA1_B4096_0101000016010407\n",
      "I20240730 12:49:21.456697  1068 compile_pass_manager.cpp:465] [UNILOG][INFO] Graph name: model_20, with op num: 9\n",
      "I20240730 12:49:21.456705  1068 compile_pass_manager.cpp:478] [UNILOG][INFO] Begin to compile...\n",
      "I20240730 12:49:21.476096  1068 compile_pass_manager.cpp:489] [UNILOG][INFO] Total device subgraph number 3, DPU subgraph number 1\n",
      "I20240730 12:49:21.476153  1068 compile_pass_manager.cpp:504] [UNILOG][INFO] Compile done.\n"
     ]
    },
    {
     "name": "stdout",
     "output_type": "stream",
     "text": [
      "[INFO] Namespace(batchsize=1, inputs_shape=None, layout='NHWC', model_files=['/tmp/vitis-ai-user/tensorflow_model_optimization/tmp_sub_graph_quantized_20240730-124916-522682_QLDbJt.h5'], model_type='tensorflow2', named_inputs_shape=None, out_filename='/tmp/vitis-ai-user/tensorflow_model_optimization/tmp_sub_graph_xnnc_20240730-124916-522682_QLDbJt.xmodel', proto=None)\n",
      "[INFO] tensorflow2 model: /tmp/vitis-ai-user/tensorflow_model_optimization/tmp_sub_graph_quantized_20240730-124916-522682_QLDbJt.h5\n",
      "[INFO] keras version: 2.12.0\n",
      "[INFO] Tensorflow Keras model type: functional\n"
     ]
    },
    {
     "name": "stderr",
     "output_type": "stream",
     "text": [
      "[INFO] parse raw model     :100%|██████████| 4/4 [00:00<00:00, 14475.60it/s]                 \n",
      "[INFO] infer shape (NHWC)  :100%|██████████| 5/5 [00:00<00:00, 5907.47it/s]                  \n",
      "[INFO] perform level-0 opt :100%|██████████| 1/1 [00:00<00:00, 2826.35it/s]                  \n",
      "[INFO] perform level-1 opt :100%|██████████| 2/2 [00:00<00:00, 6668.21it/s]                  \n",
      "[INFO] generate xmodel     :100%|██████████| 5/5 [00:00<00:00, 1409.57it/s]                  "
     ]
    },
    {
     "name": "stdout",
     "output_type": "stream",
     "text": [
      "[INFO] dump xmodel: /tmp/vitis-ai-user/tensorflow_model_optimization/tmp_sub_graph_xnnc_20240730-124916-522682_QLDbJt.xmodel\n"
     ]
    },
    {
     "name": "stderr",
     "output_type": "stream",
     "text": [
      "\n",
      "I20240730 12:49:21.605211  1068 compile_pass_manager.cpp:352] [UNILOG][INFO] Compile mode: dpu\n",
      "I20240730 12:49:21.605264  1068 compile_pass_manager.cpp:353] [UNILOG][INFO] Debug mode: null\n",
      "I20240730 12:49:21.605281  1068 compile_pass_manager.cpp:357] [UNILOG][INFO] Target architecture: DPUCZDX8G_ISA1_B4096_0101000016010407\n",
      "I20240730 12:49:21.605402  1068 compile_pass_manager.cpp:465] [UNILOG][INFO] Graph name: model_21, with op num: 9\n",
      "I20240730 12:49:21.605412  1068 compile_pass_manager.cpp:478] [UNILOG][INFO] Begin to compile...\n",
      "I20240730 12:49:21.619470  1068 compile_pass_manager.cpp:489] [UNILOG][INFO] Total device subgraph number 3, DPU subgraph number 1\n",
      "I20240730 12:49:21.619519  1068 compile_pass_manager.cpp:504] [UNILOG][INFO] Compile done.\n"
     ]
    },
    {
     "name": "stdout",
     "output_type": "stream",
     "text": [
      "[INFO] Namespace(batchsize=1, inputs_shape=None, layout='NHWC', model_files=['/tmp/vitis-ai-user/tensorflow_model_optimization/tmp_sub_graph_quantized_20240730-124916-522682_QLDbJt.h5'], model_type='tensorflow2', named_inputs_shape=None, out_filename='/tmp/vitis-ai-user/tensorflow_model_optimization/tmp_sub_graph_xnnc_20240730-124916-522682_QLDbJt.xmodel', proto=None)\n",
      "[INFO] tensorflow2 model: /tmp/vitis-ai-user/tensorflow_model_optimization/tmp_sub_graph_quantized_20240730-124916-522682_QLDbJt.h5\n",
      "[INFO] keras version: 2.12.0\n",
      "[INFO] Tensorflow Keras model type: functional\n"
     ]
    },
    {
     "name": "stderr",
     "output_type": "stream",
     "text": [
      "[INFO] parse raw model     :100%|██████████| 4/4 [00:00<00:00, 16100.98it/s]                 \n",
      "[INFO] infer shape (NHWC)  :100%|██████████| 5/5 [00:00<00:00, 7264.12it/s]                  \n",
      "[INFO] perform level-0 opt :100%|██████████| 1/1 [00:00<00:00, 2448.51it/s]                  \n",
      "[INFO] perform level-1 opt :100%|██████████| 2/2 [00:00<00:00, 8224.13it/s]                  \n",
      "[INFO] generate xmodel     :100%|██████████| 5/5 [00:00<00:00, 1238.79it/s]                  "
     ]
    },
    {
     "name": "stdout",
     "output_type": "stream",
     "text": [
      "[INFO] dump xmodel: /tmp/vitis-ai-user/tensorflow_model_optimization/tmp_sub_graph_xnnc_20240730-124916-522682_QLDbJt.xmodel\n"
     ]
    },
    {
     "name": "stderr",
     "output_type": "stream",
     "text": [
      "\n",
      "I20240730 12:49:21.757951  1068 compile_pass_manager.cpp:352] [UNILOG][INFO] Compile mode: dpu\n",
      "I20240730 12:49:21.758003  1068 compile_pass_manager.cpp:353] [UNILOG][INFO] Debug mode: null\n",
      "I20240730 12:49:21.758015  1068 compile_pass_manager.cpp:357] [UNILOG][INFO] Target architecture: DPUCZDX8G_ISA1_B4096_0101000016010407\n",
      "I20240730 12:49:21.758096  1068 compile_pass_manager.cpp:465] [UNILOG][INFO] Graph name: model_22, with op num: 9\n",
      "I20240730 12:49:21.758106  1068 compile_pass_manager.cpp:478] [UNILOG][INFO] Begin to compile...\n",
      "I20240730 12:49:21.777439  1068 compile_pass_manager.cpp:489] [UNILOG][INFO] Total device subgraph number 3, DPU subgraph number 1\n",
      "I20240730 12:49:21.777491  1068 compile_pass_manager.cpp:504] [UNILOG][INFO] Compile done.\n"
     ]
    },
    {
     "name": "stdout",
     "output_type": "stream",
     "text": [
      "[INFO] Namespace(batchsize=1, inputs_shape=None, layout='NHWC', model_files=['/tmp/vitis-ai-user/tensorflow_model_optimization/tmp_sub_graph_quantized_20240730-124916-522682_QLDbJt.h5'], model_type='tensorflow2', named_inputs_shape=None, out_filename='/tmp/vitis-ai-user/tensorflow_model_optimization/tmp_sub_graph_xnnc_20240730-124916-522682_QLDbJt.xmodel', proto=None)\n",
      "[INFO] tensorflow2 model: /tmp/vitis-ai-user/tensorflow_model_optimization/tmp_sub_graph_quantized_20240730-124916-522682_QLDbJt.h5\n",
      "[INFO] keras version: 2.12.0\n",
      "[INFO] Tensorflow Keras model type: functional\n"
     ]
    },
    {
     "name": "stderr",
     "output_type": "stream",
     "text": [
      "[INFO] parse raw model     :100%|██████████| 4/4 [00:00<00:00, 7037.42it/s]                  \n",
      "[INFO] infer shape (NHWC)  :100%|██████████| 5/5 [00:00<00:00, 8619.61it/s]                  \n",
      "[INFO] perform level-0 opt :100%|██████████| 1/1 [00:00<00:00, 2826.35it/s]                  \n",
      "[INFO] perform level-1 opt :100%|██████████| 2/2 [00:00<00:00, 7436.71it/s]                  \n",
      "[INFO] generate xmodel     :100%|██████████| 5/5 [00:00<00:00, 1640.45it/s]                  "
     ]
    },
    {
     "name": "stdout",
     "output_type": "stream",
     "text": [
      "[INFO] dump xmodel: /tmp/vitis-ai-user/tensorflow_model_optimization/tmp_sub_graph_xnnc_20240730-124916-522682_QLDbJt.xmodel\n"
     ]
    },
    {
     "name": "stderr",
     "output_type": "stream",
     "text": [
      "\n",
      "I20240730 12:49:21.913134  1068 compile_pass_manager.cpp:352] [UNILOG][INFO] Compile mode: dpu\n",
      "I20240730 12:49:21.913185  1068 compile_pass_manager.cpp:353] [UNILOG][INFO] Debug mode: null\n",
      "I20240730 12:49:21.913197  1068 compile_pass_manager.cpp:357] [UNILOG][INFO] Target architecture: DPUCZDX8G_ISA1_B4096_0101000016010407\n",
      "I20240730 12:49:21.913275  1068 compile_pass_manager.cpp:465] [UNILOG][INFO] Graph name: model_23, with op num: 9\n",
      "I20240730 12:49:21.913283  1068 compile_pass_manager.cpp:478] [UNILOG][INFO] Begin to compile...\n",
      "I20240730 12:49:21.923454  1068 compile_pass_manager.cpp:489] [UNILOG][INFO] Total device subgraph number 3, DPU subgraph number 1\n",
      "I20240730 12:49:21.923491  1068 compile_pass_manager.cpp:504] [UNILOG][INFO] Compile done.\n"
     ]
    },
    {
     "name": "stdout",
     "output_type": "stream",
     "text": [
      "[INFO] Namespace(batchsize=1, inputs_shape=None, layout='NHWC', model_files=['/tmp/vitis-ai-user/tensorflow_model_optimization/tmp_sub_graph_quantized_20240730-124916-522682_QLDbJt.h5'], model_type='tensorflow2', named_inputs_shape=None, out_filename='/tmp/vitis-ai-user/tensorflow_model_optimization/tmp_sub_graph_xnnc_20240730-124916-522682_QLDbJt.xmodel', proto=None)\n",
      "[INFO] tensorflow2 model: /tmp/vitis-ai-user/tensorflow_model_optimization/tmp_sub_graph_quantized_20240730-124916-522682_QLDbJt.h5\n",
      "[INFO] keras version: 2.12.0\n",
      "[INFO] Tensorflow Keras model type: functional\n"
     ]
    },
    {
     "name": "stderr",
     "output_type": "stream",
     "text": [
      "[INFO] parse raw model     :100%|██████████| 4/4 [00:00<00:00, 13573.80it/s]                 \n",
      "[INFO] infer shape (NHWC)  :100%|██████████| 5/5 [00:00<00:00, 12431.25it/s]                 \n",
      "[INFO] perform level-0 opt :100%|██████████| 1/1 [00:00<00:00, 2387.20it/s]                  \n",
      "[INFO] perform level-1 opt :100%|██████████| 2/2 [00:00<00:00, 6408.41it/s]                  \n",
      "[INFO] generate xmodel     :100%|██████████| 5/5 [00:00<00:00, 989.22it/s]                   "
     ]
    },
    {
     "name": "stdout",
     "output_type": "stream",
     "text": [
      "[INFO] dump xmodel: /tmp/vitis-ai-user/tensorflow_model_optimization/tmp_sub_graph_xnnc_20240730-124916-522682_QLDbJt.xmodel\n"
     ]
    },
    {
     "name": "stderr",
     "output_type": "stream",
     "text": [
      "\n",
      "I20240730 12:49:22.066129  1068 compile_pass_manager.cpp:352] [UNILOG][INFO] Compile mode: dpu\n",
      "I20240730 12:49:22.066175  1068 compile_pass_manager.cpp:353] [UNILOG][INFO] Debug mode: null\n",
      "I20240730 12:49:22.066186  1068 compile_pass_manager.cpp:357] [UNILOG][INFO] Target architecture: DPUCZDX8G_ISA1_B4096_0101000016010407\n",
      "I20240730 12:49:22.066258  1068 compile_pass_manager.cpp:465] [UNILOG][INFO] Graph name: model_24, with op num: 9\n",
      "I20240730 12:49:22.066267  1068 compile_pass_manager.cpp:478] [UNILOG][INFO] Begin to compile...\n",
      "I20240730 12:49:22.087430  1068 compile_pass_manager.cpp:489] [UNILOG][INFO] Total device subgraph number 3, DPU subgraph number 1\n",
      "I20240730 12:49:22.087474  1068 compile_pass_manager.cpp:504] [UNILOG][INFO] Compile done.\n"
     ]
    },
    {
     "name": "stdout",
     "output_type": "stream",
     "text": [
      "[INFO] Namespace(batchsize=1, inputs_shape=None, layout='NHWC', model_files=['/tmp/vitis-ai-user/tensorflow_model_optimization/tmp_sub_graph_quantized_20240730-124916-522682_QLDbJt.h5'], model_type='tensorflow2', named_inputs_shape=None, out_filename='/tmp/vitis-ai-user/tensorflow_model_optimization/tmp_sub_graph_xnnc_20240730-124916-522682_QLDbJt.xmodel', proto=None)\n",
      "[INFO] tensorflow2 model: /tmp/vitis-ai-user/tensorflow_model_optimization/tmp_sub_graph_quantized_20240730-124916-522682_QLDbJt.h5\n",
      "[INFO] keras version: 2.12.0\n",
      "[INFO] Tensorflow Keras model type: functional\n"
     ]
    },
    {
     "name": "stderr",
     "output_type": "stream",
     "text": [
      "[INFO] parse raw model     :100%|██████████| 4/4 [00:00<00:00, 12729.30it/s]                 \n",
      "[INFO] infer shape (NHWC)  :100%|██████████| 5/5 [00:00<00:00, 4758.68it/s]                  \n",
      "[INFO] perform level-0 opt :100%|██████████| 1/1 [00:00<00:00, 2343.19it/s]                  \n",
      "[INFO] perform level-1 opt :100%|██████████| 2/2 [00:00<00:00, 7646.86it/s]                  \n",
      "[INFO] generate xmodel     :100%|██████████| 5/5 [00:00<00:00, 1923.64it/s]                  "
     ]
    },
    {
     "name": "stdout",
     "output_type": "stream",
     "text": [
      "[INFO] dump xmodel: /tmp/vitis-ai-user/tensorflow_model_optimization/tmp_sub_graph_xnnc_20240730-124916-522682_QLDbJt.xmodel\n"
     ]
    },
    {
     "name": "stderr",
     "output_type": "stream",
     "text": [
      "\n",
      "I20240730 12:49:22.223729  1068 compile_pass_manager.cpp:352] [UNILOG][INFO] Compile mode: dpu\n",
      "I20240730 12:49:22.223790  1068 compile_pass_manager.cpp:353] [UNILOG][INFO] Debug mode: null\n",
      "I20240730 12:49:22.223804  1068 compile_pass_manager.cpp:357] [UNILOG][INFO] Target architecture: DPUCZDX8G_ISA1_B4096_0101000016010407\n",
      "I20240730 12:49:22.223886  1068 compile_pass_manager.cpp:465] [UNILOG][INFO] Graph name: model_25, with op num: 9\n",
      "I20240730 12:49:22.223896  1068 compile_pass_manager.cpp:478] [UNILOG][INFO] Begin to compile...\n",
      "I20240730 12:49:22.236580  1068 compile_pass_manager.cpp:489] [UNILOG][INFO] Total device subgraph number 3, DPU subgraph number 1\n",
      "I20240730 12:49:22.236624  1068 compile_pass_manager.cpp:504] [UNILOG][INFO] Compile done.\n"
     ]
    },
    {
     "name": "stdout",
     "output_type": "stream",
     "text": [
      "[INFO] Namespace(batchsize=1, inputs_shape=None, layout='NHWC', model_files=['/tmp/vitis-ai-user/tensorflow_model_optimization/tmp_sub_graph_quantized_20240730-124916-522682_QLDbJt.h5'], model_type='tensorflow2', named_inputs_shape=None, out_filename='/tmp/vitis-ai-user/tensorflow_model_optimization/tmp_sub_graph_xnnc_20240730-124916-522682_QLDbJt.xmodel', proto=None)\n",
      "[INFO] tensorflow2 model: /tmp/vitis-ai-user/tensorflow_model_optimization/tmp_sub_graph_quantized_20240730-124916-522682_QLDbJt.h5\n",
      "[INFO] keras version: 2.12.0\n",
      "[INFO] Tensorflow Keras model type: functional\n"
     ]
    },
    {
     "name": "stderr",
     "output_type": "stream",
     "text": [
      "[INFO] parse raw model     :100%|██████████| 4/4 [00:00<00:00, 11578.48it/s]                 \n",
      "[INFO] infer shape (NHWC)  :100%|██████████| 5/5 [00:00<00:00, 8542.37it/s]                  \n",
      "[INFO] perform level-0 opt :100%|██████████| 1/1 [00:00<00:00, 2953.74it/s]                  \n",
      "[INFO] perform level-1 opt :100%|██████████| 2/2 [00:00<00:00, 6538.28it/s]                  \n",
      "[INFO] generate xmodel     :100%|██████████| 5/5 [00:00<00:00, 1215.95it/s]                  "
     ]
    },
    {
     "name": "stdout",
     "output_type": "stream",
     "text": [
      "[INFO] dump xmodel: /tmp/vitis-ai-user/tensorflow_model_optimization/tmp_sub_graph_xnnc_20240730-124916-522682_QLDbJt.xmodel\n"
     ]
    },
    {
     "name": "stderr",
     "output_type": "stream",
     "text": [
      "\n",
      "I20240730 12:49:22.372898  1068 compile_pass_manager.cpp:352] [UNILOG][INFO] Compile mode: dpu\n",
      "I20240730 12:49:22.372943  1068 compile_pass_manager.cpp:353] [UNILOG][INFO] Debug mode: null\n",
      "I20240730 12:49:22.372956  1068 compile_pass_manager.cpp:357] [UNILOG][INFO] Target architecture: DPUCZDX8G_ISA1_B4096_0101000016010407\n",
      "I20240730 12:49:22.373028  1068 compile_pass_manager.cpp:465] [UNILOG][INFO] Graph name: model_26, with op num: 9\n",
      "I20240730 12:49:22.373036  1068 compile_pass_manager.cpp:478] [UNILOG][INFO] Begin to compile...\n",
      "I20240730 12:49:22.395804  1068 compile_pass_manager.cpp:489] [UNILOG][INFO] Total device subgraph number 3, DPU subgraph number 1\n",
      "I20240730 12:49:22.395871  1068 compile_pass_manager.cpp:504] [UNILOG][INFO] Compile done.\n"
     ]
    },
    {
     "name": "stdout",
     "output_type": "stream",
     "text": [
      "[INFO] Namespace(batchsize=1, inputs_shape=None, layout='NHWC', model_files=['/tmp/vitis-ai-user/tensorflow_model_optimization/tmp_sub_graph_quantized_20240730-124916-522682_QLDbJt.h5'], model_type='tensorflow2', named_inputs_shape=None, out_filename='/tmp/vitis-ai-user/tensorflow_model_optimization/tmp_sub_graph_xnnc_20240730-124916-522682_QLDbJt.xmodel', proto=None)\n",
      "[INFO] tensorflow2 model: /tmp/vitis-ai-user/tensorflow_model_optimization/tmp_sub_graph_quantized_20240730-124916-522682_QLDbJt.h5\n",
      "[INFO] keras version: 2.12.0\n",
      "[INFO] Tensorflow Keras model type: functional\n"
     ]
    },
    {
     "name": "stderr",
     "output_type": "stream",
     "text": [
      "[INFO] parse raw model     :100%|██████████| 4/4 [00:00<00:00, 5913.72it/s]                  \n",
      "[INFO] infer shape (NHWC)  :100%|██████████| 5/5 [00:00<00:00, 6828.89it/s]                  \n",
      "[INFO] perform level-0 opt :100%|██████████| 1/1 [00:00<00:00, 2360.33it/s]                  \n",
      "[INFO] perform level-1 opt :100%|██████████| 2/2 [00:00<00:00, 7256.58it/s]                  \n",
      "[INFO] generate xmodel     :100%|██████████| 5/5 [00:00<00:00, 1667.18it/s]                  "
     ]
    },
    {
     "name": "stdout",
     "output_type": "stream",
     "text": [
      "[INFO] dump xmodel: /tmp/vitis-ai-user/tensorflow_model_optimization/tmp_sub_graph_xnnc_20240730-124916-522682_QLDbJt.xmodel\n"
     ]
    },
    {
     "name": "stderr",
     "output_type": "stream",
     "text": [
      "\n",
      "I20240730 12:49:22.530294  1068 compile_pass_manager.cpp:352] [UNILOG][INFO] Compile mode: dpu\n",
      "I20240730 12:49:22.530364  1068 compile_pass_manager.cpp:353] [UNILOG][INFO] Debug mode: null\n",
      "I20240730 12:49:22.530380  1068 compile_pass_manager.cpp:357] [UNILOG][INFO] Target architecture: DPUCZDX8G_ISA1_B4096_0101000016010407\n",
      "I20240730 12:49:22.530496  1068 compile_pass_manager.cpp:465] [UNILOG][INFO] Graph name: model_27, with op num: 9\n",
      "I20240730 12:49:22.530515  1068 compile_pass_manager.cpp:478] [UNILOG][INFO] Begin to compile...\n",
      "I20240730 12:49:22.541213  1068 compile_pass_manager.cpp:489] [UNILOG][INFO] Total device subgraph number 3, DPU subgraph number 1\n",
      "I20240730 12:49:22.541270  1068 compile_pass_manager.cpp:504] [UNILOG][INFO] Compile done.\n"
     ]
    },
    {
     "name": "stdout",
     "output_type": "stream",
     "text": [
      "[INFO] Namespace(batchsize=1, inputs_shape=None, layout='NHWC', model_files=['/tmp/vitis-ai-user/tensorflow_model_optimization/tmp_sub_graph_quantized_20240730-124916-522682_QLDbJt.h5'], model_type='tensorflow2', named_inputs_shape=None, out_filename='/tmp/vitis-ai-user/tensorflow_model_optimization/tmp_sub_graph_xnnc_20240730-124916-522682_QLDbJt.xmodel', proto=None)\n",
      "[INFO] tensorflow2 model: /tmp/vitis-ai-user/tensorflow_model_optimization/tmp_sub_graph_quantized_20240730-124916-522682_QLDbJt.h5\n",
      "[INFO] keras version: 2.12.0\n",
      "[INFO] Tensorflow Keras model type: functional\n"
     ]
    },
    {
     "name": "stderr",
     "output_type": "stream",
     "text": [
      "[INFO] parse raw model     :100%|██████████| 4/4 [00:00<00:00, 13411.04it/s]                 \n",
      "[INFO] infer shape (NHWC)  :100%|██████████| 5/5 [00:00<00:00, 6438.91it/s]                  \n",
      "[INFO] perform level-0 opt :100%|██████████| 1/1 [00:00<00:00, 2568.47it/s]                  \n",
      "[INFO] perform level-1 opt :100%|██████████| 2/2 [00:00<00:00, 8924.05it/s]                  \n",
      "[INFO] generate xmodel     :100%|██████████| 5/5 [00:00<00:00, 902.39it/s]                   "
     ]
    },
    {
     "name": "stdout",
     "output_type": "stream",
     "text": [
      "[INFO] dump xmodel: /tmp/vitis-ai-user/tensorflow_model_optimization/tmp_sub_graph_xnnc_20240730-124916-522682_QLDbJt.xmodel\n"
     ]
    },
    {
     "name": "stderr",
     "output_type": "stream",
     "text": [
      "\n",
      "I20240730 12:49:22.685194  1068 compile_pass_manager.cpp:352] [UNILOG][INFO] Compile mode: dpu\n",
      "I20240730 12:49:22.685237  1068 compile_pass_manager.cpp:353] [UNILOG][INFO] Debug mode: null\n",
      "I20240730 12:49:22.685249  1068 compile_pass_manager.cpp:357] [UNILOG][INFO] Target architecture: DPUCZDX8G_ISA1_B4096_0101000016010407\n",
      "I20240730 12:49:22.685321  1068 compile_pass_manager.cpp:465] [UNILOG][INFO] Graph name: model_28, with op num: 9\n",
      "I20240730 12:49:22.685329  1068 compile_pass_manager.cpp:478] [UNILOG][INFO] Begin to compile...\n",
      "I20240730 12:49:22.704360  1068 compile_pass_manager.cpp:489] [UNILOG][INFO] Total device subgraph number 3, DPU subgraph number 1\n",
      "I20240730 12:49:22.704401  1068 compile_pass_manager.cpp:504] [UNILOG][INFO] Compile done.\n"
     ]
    },
    {
     "name": "stdout",
     "output_type": "stream",
     "text": [
      "[INFO] Namespace(batchsize=1, inputs_shape=None, layout='NHWC', model_files=['/tmp/vitis-ai-user/tensorflow_model_optimization/tmp_sub_graph_quantized_20240730-124916-522682_QLDbJt.h5'], model_type='tensorflow2', named_inputs_shape=None, out_filename='/tmp/vitis-ai-user/tensorflow_model_optimization/tmp_sub_graph_xnnc_20240730-124916-522682_QLDbJt.xmodel', proto=None)\n",
      "[INFO] tensorflow2 model: /tmp/vitis-ai-user/tensorflow_model_optimization/tmp_sub_graph_quantized_20240730-124916-522682_QLDbJt.h5\n",
      "[INFO] keras version: 2.12.0\n",
      "[INFO] Tensorflow Keras model type: functional\n"
     ]
    },
    {
     "name": "stderr",
     "output_type": "stream",
     "text": [
      "[INFO] parse raw model     :100%|██████████| 4/4 [00:00<00:00, 7351.98it/s]                  \n",
      "[INFO] infer shape (NHWC)  :100%|██████████| 5/5 [00:00<00:00, 3317.75it/s]                  \n",
      "[INFO] perform level-0 opt :100%|██████████| 1/1 [00:00<00:00, 2182.26it/s]                  \n",
      "[INFO] perform level-1 opt :100%|██████████| 2/2 [00:00<00:00, 6528.10it/s]                  \n",
      "[INFO] generate xmodel     :100%|██████████| 5/5 [00:00<00:00, 1791.06it/s]                  "
     ]
    },
    {
     "name": "stdout",
     "output_type": "stream",
     "text": [
      "[INFO] dump xmodel: /tmp/vitis-ai-user/tensorflow_model_optimization/tmp_sub_graph_xnnc_20240730-124916-522682_QLDbJt.xmodel\n"
     ]
    },
    {
     "name": "stderr",
     "output_type": "stream",
     "text": [
      "\n",
      "I20240730 12:49:22.836943  1068 compile_pass_manager.cpp:352] [UNILOG][INFO] Compile mode: dpu\n",
      "I20240730 12:49:22.836990  1068 compile_pass_manager.cpp:353] [UNILOG][INFO] Debug mode: null\n",
      "I20240730 12:49:22.837002  1068 compile_pass_manager.cpp:357] [UNILOG][INFO] Target architecture: DPUCZDX8G_ISA1_B4096_0101000016010407\n",
      "I20240730 12:49:22.837074  1068 compile_pass_manager.cpp:465] [UNILOG][INFO] Graph name: model_29, with op num: 9\n",
      "I20240730 12:49:22.837083  1068 compile_pass_manager.cpp:478] [UNILOG][INFO] Begin to compile...\n",
      "I20240730 12:49:22.847246  1068 compile_pass_manager.cpp:489] [UNILOG][INFO] Total device subgraph number 3, DPU subgraph number 1\n",
      "I20240730 12:49:22.847285  1068 compile_pass_manager.cpp:504] [UNILOG][INFO] Compile done.\n"
     ]
    },
    {
     "name": "stdout",
     "output_type": "stream",
     "text": [
      "[INFO] Namespace(batchsize=1, inputs_shape=None, layout='NHWC', model_files=['/tmp/vitis-ai-user/tensorflow_model_optimization/tmp_sub_graph_quantized_20240730-124916-522682_QLDbJt.h5'], model_type='tensorflow2', named_inputs_shape=None, out_filename='/tmp/vitis-ai-user/tensorflow_model_optimization/tmp_sub_graph_xnnc_20240730-124916-522682_QLDbJt.xmodel', proto=None)\n",
      "[INFO] tensorflow2 model: /tmp/vitis-ai-user/tensorflow_model_optimization/tmp_sub_graph_quantized_20240730-124916-522682_QLDbJt.h5\n",
      "[INFO] keras version: 2.12.0\n",
      "[INFO] Tensorflow Keras model type: functional\n"
     ]
    },
    {
     "name": "stderr",
     "output_type": "stream",
     "text": [
      "[INFO] parse raw model     :100%|██████████| 4/4 [00:00<00:00, 7070.04it/s]                  \n",
      "[INFO] infer shape (NHWC)  :100%|██████████| 5/5 [00:00<00:00, 6800.10it/s]                  \n",
      "[INFO] perform level-0 opt :100%|██████████| 1/1 [00:00<00:00, 2410.52it/s]                  \n",
      "[INFO] perform level-1 opt :100%|██████████| 2/2 [00:00<00:00, 8430.76it/s]                  \n",
      "[INFO] generate xmodel     :100%|██████████| 5/5 [00:00<00:00, 759.65it/s]                   "
     ]
    },
    {
     "name": "stdout",
     "output_type": "stream",
     "text": [
      "[INFO] dump xmodel: /tmp/vitis-ai-user/tensorflow_model_optimization/tmp_sub_graph_xnnc_20240730-124916-522682_QLDbJt.xmodel\n"
     ]
    },
    {
     "name": "stderr",
     "output_type": "stream",
     "text": [
      "\n",
      "I20240730 12:49:22.992389  1068 compile_pass_manager.cpp:352] [UNILOG][INFO] Compile mode: dpu\n",
      "I20240730 12:49:22.992445  1068 compile_pass_manager.cpp:353] [UNILOG][INFO] Debug mode: null\n",
      "I20240730 12:49:22.992457  1068 compile_pass_manager.cpp:357] [UNILOG][INFO] Target architecture: DPUCZDX8G_ISA1_B4096_0101000016010407\n",
      "I20240730 12:49:22.992538  1068 compile_pass_manager.cpp:465] [UNILOG][INFO] Graph name: model_30, with op num: 9\n",
      "I20240730 12:49:22.992547  1068 compile_pass_manager.cpp:478] [UNILOG][INFO] Begin to compile...\n",
      "I20240730 12:49:23.014569  1068 compile_pass_manager.cpp:489] [UNILOG][INFO] Total device subgraph number 3, DPU subgraph number 1\n",
      "I20240730 12:49:23.014614  1068 compile_pass_manager.cpp:504] [UNILOG][INFO] Compile done.\n"
     ]
    },
    {
     "name": "stdout",
     "output_type": "stream",
     "text": [
      "[INFO] Namespace(batchsize=1, inputs_shape=None, layout='NHWC', model_files=['/tmp/vitis-ai-user/tensorflow_model_optimization/tmp_sub_graph_quantized_20240730-124916-522682_QLDbJt.h5'], model_type='tensorflow2', named_inputs_shape=None, out_filename='/tmp/vitis-ai-user/tensorflow_model_optimization/tmp_sub_graph_xnnc_20240730-124916-522682_QLDbJt.xmodel', proto=None)\n",
      "[INFO] tensorflow2 model: /tmp/vitis-ai-user/tensorflow_model_optimization/tmp_sub_graph_quantized_20240730-124916-522682_QLDbJt.h5\n",
      "[INFO] keras version: 2.12.0\n",
      "[INFO] Tensorflow Keras model type: functional\n"
     ]
    },
    {
     "name": "stderr",
     "output_type": "stream",
     "text": [
      "[INFO] parse raw model     :100%|██████████| 4/4 [00:00<00:00, 14051.27it/s]                 \n",
      "[INFO] infer shape (NHWC)  :100%|██████████| 5/5 [00:00<00:00, 6995.17it/s]                  \n",
      "[INFO] perform level-0 opt :100%|██████████| 1/1 [00:00<00:00, 2326.29it/s]                  \n",
      "[INFO] perform level-1 opt :100%|██████████| 2/2 [00:00<00:00, 8422.30it/s]                  \n",
      "[INFO] generate xmodel     :100%|██████████| 5/5 [00:00<00:00, 1031.25it/s]                  "
     ]
    },
    {
     "name": "stdout",
     "output_type": "stream",
     "text": [
      "[INFO] dump xmodel: /tmp/vitis-ai-user/tensorflow_model_optimization/tmp_sub_graph_xnnc_20240730-124916-522682_QLDbJt.xmodel\n"
     ]
    },
    {
     "name": "stderr",
     "output_type": "stream",
     "text": [
      "\n",
      "I20240730 12:49:23.142911  1068 compile_pass_manager.cpp:352] [UNILOG][INFO] Compile mode: dpu\n",
      "I20240730 12:49:23.142961  1068 compile_pass_manager.cpp:353] [UNILOG][INFO] Debug mode: null\n",
      "I20240730 12:49:23.142972  1068 compile_pass_manager.cpp:357] [UNILOG][INFO] Target architecture: DPUCZDX8G_ISA1_B4096_0101000016010407\n",
      "I20240730 12:49:23.143044  1068 compile_pass_manager.cpp:465] [UNILOG][INFO] Graph name: model_31, with op num: 9\n",
      "I20240730 12:49:23.143054  1068 compile_pass_manager.cpp:478] [UNILOG][INFO] Begin to compile...\n",
      "I20240730 12:49:23.160194  1068 compile_pass_manager.cpp:489] [UNILOG][INFO] Total device subgraph number 3, DPU subgraph number 1\n",
      "I20240730 12:49:23.160233  1068 compile_pass_manager.cpp:504] [UNILOG][INFO] Compile done.\n"
     ]
    },
    {
     "name": "stdout",
     "output_type": "stream",
     "text": [
      "[INFO] Namespace(batchsize=1, inputs_shape=None, layout='NHWC', model_files=['/tmp/vitis-ai-user/tensorflow_model_optimization/tmp_sub_graph_quantized_20240730-124916-522682_QLDbJt.h5'], model_type='tensorflow2', named_inputs_shape=None, out_filename='/tmp/vitis-ai-user/tensorflow_model_optimization/tmp_sub_graph_xnnc_20240730-124916-522682_QLDbJt.xmodel', proto=None)\n",
      "[INFO] tensorflow2 model: /tmp/vitis-ai-user/tensorflow_model_optimization/tmp_sub_graph_quantized_20240730-124916-522682_QLDbJt.h5\n",
      "[INFO] keras version: 2.12.0\n",
      "[INFO] Tensorflow Keras model type: functional\n"
     ]
    },
    {
     "name": "stderr",
     "output_type": "stream",
     "text": [
      "[INFO] parse raw model     :100%|██████████| 4/4 [00:00<00:00, 11865.07it/s]                 \n",
      "[INFO] infer shape (NHWC)  :100%|██████████| 5/5 [00:00<00:00, 7399.97it/s]                  \n",
      "[INFO] perform level-0 opt :100%|██████████| 1/1 [00:00<00:00, 2966.27it/s]                  \n",
      "[INFO] perform level-1 opt :100%|██████████| 2/2 [00:00<00:00, 5932.54it/s]                  \n",
      "[INFO] generate xmodel     :100%|██████████| 5/5 [00:00<00:00, 213.93it/s]                   \n"
     ]
    },
    {
     "name": "stdout",
     "output_type": "stream",
     "text": [
      "[INFO] dump xmodel: /tmp/vitis-ai-user/tensorflow_model_optimization/tmp_sub_graph_xnnc_20240730-124916-522682_QLDbJt.xmodel\n"
     ]
    },
    {
     "name": "stderr",
     "output_type": "stream",
     "text": [
      "I20240730 12:49:23.351703  1068 compile_pass_manager.cpp:352] [UNILOG][INFO] Compile mode: dpu\n",
      "I20240730 12:49:23.351751  1068 compile_pass_manager.cpp:353] [UNILOG][INFO] Debug mode: null\n",
      "I20240730 12:49:23.351764  1068 compile_pass_manager.cpp:357] [UNILOG][INFO] Target architecture: DPUCZDX8G_ISA1_B4096_0101000016010407\n",
      "I20240730 12:49:23.351878  1068 compile_pass_manager.cpp:465] [UNILOG][INFO] Graph name: model_32, with op num: 9\n",
      "I20240730 12:49:23.351887  1068 compile_pass_manager.cpp:478] [UNILOG][INFO] Begin to compile...\n",
      "I20240730 12:49:23.420194  1068 compile_pass_manager.cpp:489] [UNILOG][INFO] Total device subgraph number 3, DPU subgraph number 1\n",
      "I20240730 12:49:23.420238  1068 compile_pass_manager.cpp:504] [UNILOG][INFO] Compile done.\n"
     ]
    },
    {
     "name": "stdout",
     "output_type": "stream",
     "text": [
      "[INFO] Namespace(batchsize=1, inputs_shape=None, layout='NHWC', model_files=['/tmp/vitis-ai-user/tensorflow_model_optimization/tmp_sub_graph_quantized_20240730-124916-522682_QLDbJt.h5'], model_type='tensorflow2', named_inputs_shape=None, out_filename='/tmp/vitis-ai-user/tensorflow_model_optimization/tmp_sub_graph_xnnc_20240730-124916-522682_QLDbJt.xmodel', proto=None)\n",
      "[INFO] tensorflow2 model: /tmp/vitis-ai-user/tensorflow_model_optimization/tmp_sub_graph_quantized_20240730-124916-522682_QLDbJt.h5\n",
      "[INFO] keras version: 2.12.0\n",
      "[INFO] Tensorflow Keras model type: functional\n"
     ]
    },
    {
     "name": "stderr",
     "output_type": "stream",
     "text": [
      "[INFO] parse raw model     :100%|██████████| 4/4 [00:00<00:00, 7037.42it/s]                  \n",
      "[INFO] infer shape (NHWC)  :100%|██████████| 5/5 [00:00<00:00, 8683.86it/s]                  \n",
      "[INFO] perform level-0 opt :100%|██████████| 1/1 [00:00<00:00, 2449.94it/s]                  \n",
      "[INFO] perform level-1 opt :100%|██████████| 2/2 [00:00<00:00, 7339.11it/s]                  \n",
      "[INFO] generate xmodel     :100%|██████████| 5/5 [00:00<00:00, 517.83it/s]                   \n",
      "I20240730 12:49:23.569442  1068 compile_pass_manager.cpp:352] [UNILOG][INFO] Compile mode: dpu\n",
      "I20240730 12:49:23.569490  1068 compile_pass_manager.cpp:353] [UNILOG][INFO] Debug mode: null\n",
      "I20240730 12:49:23.569501  1068 compile_pass_manager.cpp:357] [UNILOG][INFO] Target architecture: DPUCZDX8G_ISA1_B4096_0101000016010407\n",
      "I20240730 12:49:23.569572  1068 compile_pass_manager.cpp:465] [UNILOG][INFO] Graph name: model_33, with op num: 9\n",
      "I20240730 12:49:23.569581  1068 compile_pass_manager.cpp:478] [UNILOG][INFO] Begin to compile...\n",
      "I20240730 12:49:23.601133  1068 compile_pass_manager.cpp:489] [UNILOG][INFO] Total device subgraph number 3, DPU subgraph number 1\n",
      "I20240730 12:49:23.601174  1068 compile_pass_manager.cpp:504] [UNILOG][INFO] Compile done.\n"
     ]
    },
    {
     "name": "stdout",
     "output_type": "stream",
     "text": [
      "[INFO] dump xmodel: /tmp/vitis-ai-user/tensorflow_model_optimization/tmp_sub_graph_xnnc_20240730-124916-522682_QLDbJt.xmodel\n",
      "[INFO] Namespace(batchsize=1, inputs_shape=None, layout='NHWC', model_files=['/tmp/vitis-ai-user/tensorflow_model_optimization/tmp_sub_graph_quantized_20240730-124916-522682_QLDbJt.h5'], model_type='tensorflow2', named_inputs_shape=None, out_filename='/tmp/vitis-ai-user/tensorflow_model_optimization/tmp_sub_graph_xnnc_20240730-124916-522682_QLDbJt.xmodel', proto=None)\n",
      "[INFO] tensorflow2 model: /tmp/vitis-ai-user/tensorflow_model_optimization/tmp_sub_graph_quantized_20240730-124916-522682_QLDbJt.h5\n",
      "[INFO] keras version: 2.12.0\n",
      "[INFO] Tensorflow Keras model type: functional\n"
     ]
    },
    {
     "name": "stderr",
     "output_type": "stream",
     "text": [
      "[INFO] parse raw model     :100%|██████████| 4/4 [00:00<00:00, 14614.30it/s]                 \n",
      "[INFO] infer shape (NHWC)  :100%|██████████| 5/5 [00:00<00:00, 9541.18it/s]                  \n",
      "[INFO] perform level-0 opt :100%|██████████| 1/1 [00:00<00:00, 3030.57it/s]                  \n",
      "[INFO] perform level-1 opt :100%|██████████| 2/2 [00:00<00:00, 8152.19it/s]                  \n",
      "[INFO] generate xmodel     :100%|██████████| 5/5 [00:00<00:00, 206.53it/s]                   \n",
      "I20240730 12:49:23.797492  1068 compile_pass_manager.cpp:352] [UNILOG][INFO] Compile mode: dpu\n",
      "I20240730 12:49:23.797541  1068 compile_pass_manager.cpp:353] [UNILOG][INFO] Debug mode: null\n",
      "I20240730 12:49:23.797552  1068 compile_pass_manager.cpp:357] [UNILOG][INFO] Target architecture: DPUCZDX8G_ISA1_B4096_0101000016010407\n",
      "I20240730 12:49:23.797626  1068 compile_pass_manager.cpp:465] [UNILOG][INFO] Graph name: model_34, with op num: 9\n",
      "I20240730 12:49:23.797633  1068 compile_pass_manager.cpp:478] [UNILOG][INFO] Begin to compile...\n",
      "I20240730 12:49:23.867197  1068 compile_pass_manager.cpp:489] [UNILOG][INFO] Total device subgraph number 3, DPU subgraph number 1\n",
      "I20240730 12:49:23.867241  1068 compile_pass_manager.cpp:504] [UNILOG][INFO] Compile done.\n"
     ]
    },
    {
     "name": "stdout",
     "output_type": "stream",
     "text": [
      "[INFO] dump xmodel: /tmp/vitis-ai-user/tensorflow_model_optimization/tmp_sub_graph_xnnc_20240730-124916-522682_QLDbJt.xmodel\n",
      "[INFO] Namespace(batchsize=1, inputs_shape=None, layout='NHWC', model_files=['/tmp/vitis-ai-user/tensorflow_model_optimization/tmp_sub_graph_quantized_20240730-124916-522682_QLDbJt.h5'], model_type='tensorflow2', named_inputs_shape=None, out_filename='/tmp/vitis-ai-user/tensorflow_model_optimization/tmp_sub_graph_xnnc_20240730-124916-522682_QLDbJt.xmodel', proto=None)\n",
      "[INFO] tensorflow2 model: /tmp/vitis-ai-user/tensorflow_model_optimization/tmp_sub_graph_quantized_20240730-124916-522682_QLDbJt.h5\n",
      "[INFO] keras version: 2.12.0\n",
      "[INFO] Tensorflow Keras model type: functional\n"
     ]
    },
    {
     "name": "stderr",
     "output_type": "stream",
     "text": [
      "[INFO] parse raw model     :100%|██████████| 4/4 [00:00<00:00, 12492.34it/s]                 \n",
      "[INFO] infer shape (NHWC)  :100%|██████████| 5/5 [00:00<00:00, 7934.74it/s]                  \n",
      "[INFO] perform level-0 opt :100%|██████████| 1/1 [00:00<00:00, 2616.53it/s]                  \n",
      "[INFO] perform level-1 opt :100%|██████████| 2/2 [00:00<00:00, 8542.37it/s]                  \n",
      "[INFO] generate xmodel     :100%|██████████| 5/5 [00:00<00:00, 660.02it/s]                   \n",
      "I20240730 12:49:24.013967  1068 compile_pass_manager.cpp:352] [UNILOG][INFO] Compile mode: dpu\n",
      "I20240730 12:49:24.014014  1068 compile_pass_manager.cpp:353] [UNILOG][INFO] Debug mode: null\n",
      "I20240730 12:49:24.014026  1068 compile_pass_manager.cpp:357] [UNILOG][INFO] Target architecture: DPUCZDX8G_ISA1_B4096_0101000016010407\n",
      "I20240730 12:49:24.014098  1068 compile_pass_manager.cpp:465] [UNILOG][INFO] Graph name: model_35, with op num: 9\n",
      "I20240730 12:49:24.014107  1068 compile_pass_manager.cpp:478] [UNILOG][INFO] Begin to compile...\n",
      "I20240730 12:49:24.044806  1068 compile_pass_manager.cpp:489] [UNILOG][INFO] Total device subgraph number 3, DPU subgraph number 1\n",
      "I20240730 12:49:24.044850  1068 compile_pass_manager.cpp:504] [UNILOG][INFO] Compile done.\n"
     ]
    },
    {
     "name": "stdout",
     "output_type": "stream",
     "text": [
      "[INFO] dump xmodel: /tmp/vitis-ai-user/tensorflow_model_optimization/tmp_sub_graph_xnnc_20240730-124916-522682_QLDbJt.xmodel\n",
      "[INFO] Namespace(batchsize=1, inputs_shape=None, layout='NHWC', model_files=['/tmp/vitis-ai-user/tensorflow_model_optimization/tmp_sub_graph_quantized_20240730-124916-522682_QLDbJt.h5'], model_type='tensorflow2', named_inputs_shape=None, out_filename='/tmp/vitis-ai-user/tensorflow_model_optimization/tmp_sub_graph_xnnc_20240730-124916-522682_QLDbJt.xmodel', proto=None)\n",
      "[INFO] tensorflow2 model: /tmp/vitis-ai-user/tensorflow_model_optimization/tmp_sub_graph_quantized_20240730-124916-522682_QLDbJt.h5\n",
      "[INFO] keras version: 2.12.0\n",
      "[INFO] Tensorflow Keras model type: functional\n"
     ]
    },
    {
     "name": "stderr",
     "output_type": "stream",
     "text": [
      "[INFO] parse raw model     :100%|██████████| 4/4 [00:00<00:00, 13378.96it/s]                 \n",
      "[INFO] infer shape (NHWC)  :100%|██████████| 5/5 [00:00<00:00, 14453.15it/s]                 \n",
      "[INFO] perform level-0 opt :100%|██████████| 1/1 [00:00<00:00, 2983.15it/s]                  \n",
      "[INFO] perform level-1 opt :100%|██████████| 2/2 [00:00<00:00, 6437.92it/s]                  \n",
      "[INFO] generate xmodel     :100%|██████████| 5/5 [00:00<00:00, 214.96it/s]                   \n"
     ]
    },
    {
     "name": "stdout",
     "output_type": "stream",
     "text": [
      "[INFO] dump xmodel ...\r"
     ]
    },
    {
     "name": "stderr",
     "output_type": "stream",
     "text": [
      "I20240730 12:49:24.232175  1068 compile_pass_manager.cpp:352] [UNILOG][INFO] Compile mode: dpu\n",
      "I20240730 12:49:24.232254  1068 compile_pass_manager.cpp:353] [UNILOG][INFO] Debug mode: null\n",
      "I20240730 12:49:24.232266  1068 compile_pass_manager.cpp:357] [UNILOG][INFO] Target architecture: DPUCZDX8G_ISA1_B4096_0101000016010407\n",
      "I20240730 12:49:24.232342  1068 compile_pass_manager.cpp:465] [UNILOG][INFO] Graph name: model_36, with op num: 9\n",
      "I20240730 12:49:24.232349  1068 compile_pass_manager.cpp:478] [UNILOG][INFO] Begin to compile...\n",
      "I20240730 12:49:24.301834  1068 compile_pass_manager.cpp:489] [UNILOG][INFO] Total device subgraph number 3, DPU subgraph number 1\n",
      "I20240730 12:49:24.301890  1068 compile_pass_manager.cpp:504] [UNILOG][INFO] Compile done.\n"
     ]
    },
    {
     "name": "stdout",
     "output_type": "stream",
     "text": [
      "[INFO] dump xmodel: /tmp/vitis-ai-user/tensorflow_model_optimization/tmp_sub_graph_xnnc_20240730-124916-522682_QLDbJt.xmodel\n",
      "[INFO] Namespace(batchsize=1, inputs_shape=None, layout='NHWC', model_files=['/tmp/vitis-ai-user/tensorflow_model_optimization/tmp_sub_graph_quantized_20240730-124916-522682_QLDbJt.h5'], model_type='tensorflow2', named_inputs_shape=None, out_filename='/tmp/vitis-ai-user/tensorflow_model_optimization/tmp_sub_graph_xnnc_20240730-124916-522682_QLDbJt.xmodel', proto=None)\n",
      "[INFO] tensorflow2 model: /tmp/vitis-ai-user/tensorflow_model_optimization/tmp_sub_graph_quantized_20240730-124916-522682_QLDbJt.h5\n",
      "[INFO] keras version: 2.12.0\n",
      "[INFO] Tensorflow Keras model type: functional\n"
     ]
    },
    {
     "name": "stderr",
     "output_type": "stream",
     "text": [
      "[INFO] parse raw model     :100%|██████████| 4/4 [00:00<00:00, 12955.38it/s]                 \n",
      "[INFO] infer shape (NHWC)  :100%|██████████| 7/7 [00:00<00:00, 1357.94it/s]                  \n",
      "[INFO] perform level-0 opt :100%|██████████| 1/1 [00:00<00:00, 1985.94it/s]                  \n",
      "[INFO] perform level-1 opt :100%|██████████| 2/2 [00:00<00:00, 7133.17it/s]                  \n",
      "[INFO] generate xmodel     :100%|██████████| 7/7 [00:00<00:00, 61.98it/s]                    \n",
      "I20240730 12:49:24.584961  1068 compile_pass_manager.cpp:352] [UNILOG][INFO] Compile mode: dpu\n",
      "I20240730 12:49:24.585011  1068 compile_pass_manager.cpp:353] [UNILOG][INFO] Debug mode: null\n",
      "I20240730 12:49:24.585021  1068 compile_pass_manager.cpp:357] [UNILOG][INFO] Target architecture: DPUCZDX8G_ISA1_B4096_0101000016010407\n",
      "I20240730 12:49:24.585093  1068 compile_pass_manager.cpp:465] [UNILOG][INFO] Graph name: model_37, with op num: 9\n",
      "I20240730 12:49:24.585101  1068 compile_pass_manager.cpp:478] [UNILOG][INFO] Begin to compile...\n",
      "I20240730 12:49:24.873270  1068 compile_pass_manager.cpp:489] [UNILOG][INFO] Total device subgraph number 3, DPU subgraph number 1\n",
      "I20240730 12:49:24.873329  1068 compile_pass_manager.cpp:504] [UNILOG][INFO] Compile done.\n"
     ]
    },
    {
     "name": "stdout",
     "output_type": "stream",
     "text": [
      "[INFO] dump xmodel: /tmp/vitis-ai-user/tensorflow_model_optimization/tmp_sub_graph_xnnc_20240730-124916-522682_QLDbJt.xmodel\n",
      "[INFO] Namespace(batchsize=1, inputs_shape=None, layout='NHWC', model_files=['/tmp/vitis-ai-user/tensorflow_model_optimization/tmp_sub_graph_quantized_20240730-124916-522780_mFGupb.h5'], model_type='tensorflow2', named_inputs_shape=None, out_filename='/tmp/vitis-ai-user/tensorflow_model_optimization/tmp_sub_graph_xnnc_20240730-124916-522780_mFGupb.xmodel', proto=None)\n",
      "[INFO] tensorflow2 model: /tmp/vitis-ai-user/tensorflow_model_optimization/tmp_sub_graph_quantized_20240730-124916-522780_mFGupb.h5\n",
      "[INFO] keras version: 2.12.0\n",
      "[INFO] Tensorflow Keras model type: functional\n"
     ]
    },
    {
     "name": "stderr",
     "output_type": "stream",
     "text": [
      "[INFO] parse raw model     :100%|██████████| 3/3 [00:00<00:00, 8118.01it/s]                  \n",
      "[INFO] infer shape (NHWC)  :100%|██████████| 4/4 [00:00<00:00, 2843.60it/s]                  \n",
      "[INFO] perform level-0 opt :100%|██████████| 1/1 [00:00<00:00, 3374.34it/s]                  \n",
      "[INFO] perform level-1 opt :100%|██████████| 2/2 [00:00<00:00, 9187.96it/s]                  \n",
      "[INFO] generate xmodel     :100%|██████████| 4/4 [00:00<00:00, 2499.59it/s]                  \n",
      "I20240730 12:49:24.998853  1068 compile_pass_manager.cpp:352] [UNILOG][INFO] Compile mode: dpu\n",
      "I20240730 12:49:24.998904  1068 compile_pass_manager.cpp:353] [UNILOG][INFO] Debug mode: null\n",
      "I20240730 12:49:24.998919  1068 compile_pass_manager.cpp:357] [UNILOG][INFO] Target architecture: DPUCZDX8G_ISA1_B4096_0101000016010407\n",
      "I20240730 12:49:24.998997  1068 compile_pass_manager.cpp:465] [UNILOG][INFO] Graph name: model_38, with op num: 8\n",
      "I20240730 12:49:24.999009  1068 compile_pass_manager.cpp:478] [UNILOG][INFO] Begin to compile...\n",
      "I20240730 12:49:25.002969  1068 compile_pass_manager.cpp:489] [UNILOG][INFO] Total device subgraph number 3, DPU subgraph number 1\n",
      "I20240730 12:49:25.003001  1068 compile_pass_manager.cpp:504] [UNILOG][INFO] Compile done.\n"
     ]
    },
    {
     "name": "stdout",
     "output_type": "stream",
     "text": [
      "[INFO] dump xmodel: /tmp/vitis-ai-user/tensorflow_model_optimization/tmp_sub_graph_xnnc_20240730-124916-522780_mFGupb.xmodel\n",
      "[INFO] Namespace(batchsize=1, inputs_shape=None, layout='NHWC', model_files=['/tmp/vitis-ai-user/tensorflow_model_optimization/tmp_sub_graph_quantized_20240730-124916-522780_mFGupb.h5'], model_type='tensorflow2', named_inputs_shape=None, out_filename='/tmp/vitis-ai-user/tensorflow_model_optimization/tmp_sub_graph_xnnc_20240730-124916-522780_mFGupb.xmodel', proto=None)\n",
      "[INFO] tensorflow2 model: /tmp/vitis-ai-user/tensorflow_model_optimization/tmp_sub_graph_quantized_20240730-124916-522780_mFGupb.h5\n",
      "[INFO] keras version: 2.12.0\n",
      "[INFO] Tensorflow Keras model type: functional\n"
     ]
    },
    {
     "name": "stderr",
     "output_type": "stream",
     "text": [
      "[INFO] parse raw model     :100%|██████████| 3/3 [00:00<00:00, 3813.00it/s]                  \n",
      "[INFO] infer shape (NHWC)  :100%|██████████| 4/4 [00:00<00:00, 2674.94it/s]                  \n",
      "[INFO] perform level-0 opt :100%|██████████| 1/1 [00:00<00:00, 2987.40it/s]                  \n",
      "[INFO] perform level-1 opt :100%|██████████| 2/2 [00:00<00:00, 9868.95it/s]                  \n",
      "[INFO] generate xmodel     :100%|██████████| 4/4 [00:00<00:00, 1938.22it/s]                  "
     ]
    },
    {
     "name": "stdout",
     "output_type": "stream",
     "text": [
      "[INFO] dump xmodel: /tmp/vitis-ai-user/tensorflow_model_optimization/tmp_sub_graph_xnnc_20240730-124916-522780_mFGupb.xmodel\n"
     ]
    },
    {
     "name": "stderr",
     "output_type": "stream",
     "text": [
      "\n",
      "I20240730 12:49:25.112709  1068 compile_pass_manager.cpp:352] [UNILOG][INFO] Compile mode: dpu\n",
      "I20240730 12:49:25.112759  1068 compile_pass_manager.cpp:353] [UNILOG][INFO] Debug mode: null\n",
      "I20240730 12:49:25.112771  1068 compile_pass_manager.cpp:357] [UNILOG][INFO] Target architecture: DPUCZDX8G_ISA1_B4096_0101000016010407\n",
      "I20240730 12:49:25.112847  1068 compile_pass_manager.cpp:465] [UNILOG][INFO] Graph name: model_39, with op num: 8\n",
      "I20240730 12:49:25.112856  1068 compile_pass_manager.cpp:478] [UNILOG][INFO] Begin to compile...\n",
      "I20240730 12:49:25.116248  1068 compile_pass_manager.cpp:489] [UNILOG][INFO] Total device subgraph number 3, DPU subgraph number 1\n",
      "I20240730 12:49:25.116281  1068 compile_pass_manager.cpp:504] [UNILOG][INFO] Compile done.\n"
     ]
    },
    {
     "name": "stdout",
     "output_type": "stream",
     "text": [
      "[INFO] Namespace(batchsize=1, inputs_shape=None, layout='NHWC', model_files=['/tmp/vitis-ai-user/tensorflow_model_optimization/tmp_sub_graph_quantized_20240730-124916-522780_mFGupb.h5'], model_type='tensorflow2', named_inputs_shape=None, out_filename='/tmp/vitis-ai-user/tensorflow_model_optimization/tmp_sub_graph_xnnc_20240730-124916-522780_mFGupb.xmodel', proto=None)\n",
      "[INFO] tensorflow2 model: /tmp/vitis-ai-user/tensorflow_model_optimization/tmp_sub_graph_quantized_20240730-124916-522780_mFGupb.h5\n",
      "[INFO] keras version: 2.12.0\n",
      "[INFO] Tensorflow Keras model type: functional\n"
     ]
    },
    {
     "name": "stderr",
     "output_type": "stream",
     "text": [
      "[INFO] parse raw model     :100%|██████████| 3/3 [00:00<00:00, 4435.29it/s]                  \n",
      "[INFO] infer shape (NHWC)  :100%|██████████| 4/4 [00:00<00:00, 3586.41it/s]                  \n",
      "[INFO] perform level-0 opt :100%|██████████| 1/1 [00:00<00:00, 3591.01it/s]                  \n",
      "[INFO] perform level-1 opt :100%|██████████| 2/2 [00:00<00:00, 7810.62it/s]                  \n",
      "[INFO] generate xmodel     :100%|██████████| 4/4 [00:00<00:00, 3015.86it/s]                  \n",
      "I20240730 12:49:25.509727  1068 compile_pass_manager.cpp:352] [UNILOG][INFO] Compile mode: dpu\n",
      "I20240730 12:49:25.509775  1068 compile_pass_manager.cpp:353] [UNILOG][INFO] Debug mode: null\n",
      "I20240730 12:49:25.509786  1068 compile_pass_manager.cpp:357] [UNILOG][INFO] Target architecture: DPUCZDX8G_ISA1_B4096_0101000016010407\n",
      "I20240730 12:49:25.509860  1068 compile_pass_manager.cpp:465] [UNILOG][INFO] Graph name: model_40, with op num: 8\n",
      "I20240730 12:49:25.509868  1068 compile_pass_manager.cpp:478] [UNILOG][INFO] Begin to compile...\n",
      "I20240730 12:49:25.513105  1068 compile_pass_manager.cpp:489] [UNILOG][INFO] Total device subgraph number 3, DPU subgraph number 1\n",
      "I20240730 12:49:25.513134  1068 compile_pass_manager.cpp:504] [UNILOG][INFO] Compile done.\n"
     ]
    },
    {
     "name": "stdout",
     "output_type": "stream",
     "text": [
      "[INFO] dump xmodel: /tmp/vitis-ai-user/tensorflow_model_optimization/tmp_sub_graph_xnnc_20240730-124916-522780_mFGupb.xmodel\n",
      "[INFO] Namespace(batchsize=1, inputs_shape=None, layout='NHWC', model_files=['/tmp/vitis-ai-user/tensorflow_model_optimization/tmp_sub_graph_quantized_20240730-124916-522780_mFGupb.h5'], model_type='tensorflow2', named_inputs_shape=None, out_filename='/tmp/vitis-ai-user/tensorflow_model_optimization/tmp_sub_graph_xnnc_20240730-124916-522780_mFGupb.xmodel', proto=None)\n",
      "[INFO] tensorflow2 model: /tmp/vitis-ai-user/tensorflow_model_optimization/tmp_sub_graph_quantized_20240730-124916-522780_mFGupb.h5\n",
      "[INFO] keras version: 2.12.0\n",
      "[INFO] Tensorflow Keras model type: functional\n"
     ]
    },
    {
     "name": "stderr",
     "output_type": "stream",
     "text": [
      "[INFO] parse raw model     :100%|██████████| 3/3 [00:00<00:00, 4338.94it/s]                  \n",
      "[INFO] infer shape (NHWC)  :100%|██████████| 4/4 [00:00<00:00, 2813.55it/s]                  \n",
      "[INFO] perform level-0 opt :100%|██████████| 1/1 [00:00<00:00, 2685.21it/s]                  \n",
      "[INFO] perform level-1 opt :100%|██████████| 2/2 [00:00<00:00, 9446.63it/s]                  \n",
      "[INFO] generate xmodel     :100%|██████████| 4/4 [00:00<00:00, 2613.27it/s]                  "
     ]
    },
    {
     "name": "stdout",
     "output_type": "stream",
     "text": [
      "[INFO] dump xmodel: /tmp/vitis-ai-user/tensorflow_model_optimization/tmp_sub_graph_xnnc_20240730-124916-522780_mFGupb.xmodel\n"
     ]
    },
    {
     "name": "stderr",
     "output_type": "stream",
     "text": [
      "\n",
      "I20240730 12:49:25.623394  1068 compile_pass_manager.cpp:352] [UNILOG][INFO] Compile mode: dpu\n",
      "I20240730 12:49:25.623451  1068 compile_pass_manager.cpp:353] [UNILOG][INFO] Debug mode: null\n",
      "I20240730 12:49:25.623468  1068 compile_pass_manager.cpp:357] [UNILOG][INFO] Target architecture: DPUCZDX8G_ISA1_B4096_0101000016010407\n",
      "I20240730 12:49:25.623567  1068 compile_pass_manager.cpp:465] [UNILOG][INFO] Graph name: model_41, with op num: 8\n",
      "I20240730 12:49:25.623584  1068 compile_pass_manager.cpp:478] [UNILOG][INFO] Begin to compile...\n",
      "I20240730 12:49:25.627362  1068 compile_pass_manager.cpp:489] [UNILOG][INFO] Total device subgraph number 3, DPU subgraph number 1\n",
      "I20240730 12:49:25.627399  1068 compile_pass_manager.cpp:504] [UNILOG][INFO] Compile done.\n"
     ]
    },
    {
     "name": "stdout",
     "output_type": "stream",
     "text": [
      "[INFO] Namespace(batchsize=1, inputs_shape=None, layout='NHWC', model_files=['/tmp/vitis-ai-user/tensorflow_model_optimization/tmp_sub_graph_quantized_20240730-124916-522780_mFGupb.h5'], model_type='tensorflow2', named_inputs_shape=None, out_filename='/tmp/vitis-ai-user/tensorflow_model_optimization/tmp_sub_graph_xnnc_20240730-124916-522780_mFGupb.xmodel', proto=None)\n",
      "[INFO] tensorflow2 model: /tmp/vitis-ai-user/tensorflow_model_optimization/tmp_sub_graph_quantized_20240730-124916-522780_mFGupb.h5\n",
      "[INFO] keras version: 2.12.0\n",
      "[INFO] Tensorflow Keras model type: functional\n"
     ]
    },
    {
     "name": "stderr",
     "output_type": "stream",
     "text": [
      "[INFO] parse raw model     :100%|██████████| 3/3 [00:00<00:00, 3265.74it/s]                  \n",
      "[INFO] infer shape (NHWC)  :100%|██████████| 4/4 [00:00<00:00, 2671.96it/s]                  \n",
      "[INFO] perform level-0 opt :100%|██████████| 1/1 [00:00<00:00, 2768.52it/s]                  \n",
      "[INFO] perform level-1 opt :100%|██████████| 2/2 [00:00<00:00, 10292.77it/s]                 \n",
      "[INFO] generate xmodel     :100%|██████████| 4/4 [00:00<00:00, 1693.64it/s]                  \n",
      "I20240730 12:49:25.746968  1068 compile_pass_manager.cpp:352] [UNILOG][INFO] Compile mode: dpu\n",
      "I20240730 12:49:25.747015  1068 compile_pass_manager.cpp:353] [UNILOG][INFO] Debug mode: null\n",
      "I20240730 12:49:25.747032  1068 compile_pass_manager.cpp:357] [UNILOG][INFO] Target architecture: DPUCZDX8G_ISA1_B4096_0101000016010407\n",
      "I20240730 12:49:25.747154  1068 compile_pass_manager.cpp:465] [UNILOG][INFO] Graph name: model_42, with op num: 8\n",
      "I20240730 12:49:25.747165  1068 compile_pass_manager.cpp:478] [UNILOG][INFO] Begin to compile...\n",
      "I20240730 12:49:25.753669  1068 compile_pass_manager.cpp:489] [UNILOG][INFO] Total device subgraph number 3, DPU subgraph number 1\n",
      "I20240730 12:49:25.753701  1068 compile_pass_manager.cpp:504] [UNILOG][INFO] Compile done.\n"
     ]
    },
    {
     "name": "stdout",
     "output_type": "stream",
     "text": [
      "[INFO] dump xmodel: /tmp/vitis-ai-user/tensorflow_model_optimization/tmp_sub_graph_xnnc_20240730-124916-522780_mFGupb.xmodel\n",
      "[INFO] Namespace(batchsize=1, inputs_shape=None, layout='NHWC', model_files=['/tmp/vitis-ai-user/tensorflow_model_optimization/tmp_sub_graph_quantized_20240730-124916-522780_mFGupb.h5'], model_type='tensorflow2', named_inputs_shape=None, out_filename='/tmp/vitis-ai-user/tensorflow_model_optimization/tmp_sub_graph_xnnc_20240730-124916-522780_mFGupb.xmodel', proto=None)\n",
      "[INFO] tensorflow2 model: /tmp/vitis-ai-user/tensorflow_model_optimization/tmp_sub_graph_quantized_20240730-124916-522780_mFGupb.h5\n",
      "[INFO] keras version: 2.12.0\n",
      "[INFO] Tensorflow Keras model type: functional\n"
     ]
    },
    {
     "name": "stderr",
     "output_type": "stream",
     "text": [
      "[INFO] parse raw model     :100%|██████████| 3/3 [00:00<00:00, 8305.55it/s]                  \n",
      "[INFO] infer shape (NHWC)  :100%|██████████| 4/4 [00:00<00:00, 4282.09it/s]                  \n",
      "[INFO] perform level-0 opt :100%|██████████| 1/1 [00:00<00:00, 3276.80it/s]                  \n",
      "[INFO] perform level-1 opt :100%|██████████| 2/2 [00:00<00:00, 7632.95it/s]                  \n",
      "[INFO] generate xmodel     :100%|██████████| 4/4 [00:00<00:00, 2034.59it/s]                  "
     ]
    },
    {
     "name": "stdout",
     "output_type": "stream",
     "text": [
      "[INFO] dump xmodel: /tmp/vitis-ai-user/tensorflow_model_optimization/tmp_sub_graph_xnnc_20240730-124916-522780_mFGupb.xmodel\n"
     ]
    },
    {
     "name": "stderr",
     "output_type": "stream",
     "text": [
      "\n",
      "I20240730 12:49:25.865974  1068 compile_pass_manager.cpp:352] [UNILOG][INFO] Compile mode: dpu\n",
      "I20240730 12:49:25.866034  1068 compile_pass_manager.cpp:353] [UNILOG][INFO] Debug mode: null\n",
      "I20240730 12:49:25.866055  1068 compile_pass_manager.cpp:357] [UNILOG][INFO] Target architecture: DPUCZDX8G_ISA1_B4096_0101000016010407\n",
      "I20240730 12:49:25.866144  1068 compile_pass_manager.cpp:465] [UNILOG][INFO] Graph name: model_43, with op num: 8\n",
      "I20240730 12:49:25.866163  1068 compile_pass_manager.cpp:478] [UNILOG][INFO] Begin to compile...\n",
      "I20240730 12:49:25.871903  1068 compile_pass_manager.cpp:489] [UNILOG][INFO] Total device subgraph number 3, DPU subgraph number 1\n",
      "I20240730 12:49:25.871940  1068 compile_pass_manager.cpp:504] [UNILOG][INFO] Compile done.\n"
     ]
    },
    {
     "name": "stdout",
     "output_type": "stream",
     "text": [
      "[INFO] Namespace(batchsize=1, inputs_shape=None, layout='NHWC', model_files=['/tmp/vitis-ai-user/tensorflow_model_optimization/tmp_sub_graph_quantized_20240730-124916-522780_mFGupb.h5'], model_type='tensorflow2', named_inputs_shape=None, out_filename='/tmp/vitis-ai-user/tensorflow_model_optimization/tmp_sub_graph_xnnc_20240730-124916-522780_mFGupb.xmodel', proto=None)\n",
      "[INFO] tensorflow2 model: /tmp/vitis-ai-user/tensorflow_model_optimization/tmp_sub_graph_quantized_20240730-124916-522780_mFGupb.h5\n",
      "[INFO] keras version: 2.12.0\n",
      "[INFO] Tensorflow Keras model type: functional\n"
     ]
    },
    {
     "name": "stderr",
     "output_type": "stream",
     "text": [
      "[INFO] parse raw model     :100%|██████████| 3/3 [00:00<00:00, 4366.03it/s]                  \n",
      "[INFO] infer shape (NHWC)  :100%|██████████| 4/4 [00:00<00:00, 4332.96it/s]                  \n",
      "[INFO] perform level-0 opt :100%|██████████| 1/1 [00:00<00:00, 3650.40it/s]                  \n",
      "[INFO] perform level-1 opt :100%|██████████| 2/2 [00:00<00:00, 9279.43it/s]                  \n",
      "[INFO] generate xmodel     :100%|██████████| 4/4 [00:00<00:00, 1734.26it/s]                  "
     ]
    },
    {
     "name": "stdout",
     "output_type": "stream",
     "text": [
      "[INFO] dump xmodel: /tmp/vitis-ai-user/tensorflow_model_optimization/tmp_sub_graph_xnnc_20240730-124916-522780_mFGupb.xmodel\n"
     ]
    },
    {
     "name": "stderr",
     "output_type": "stream",
     "text": [
      "\n",
      "I20240730 12:49:25.996332  1068 compile_pass_manager.cpp:352] [UNILOG][INFO] Compile mode: dpu\n",
      "I20240730 12:49:25.996377  1068 compile_pass_manager.cpp:353] [UNILOG][INFO] Debug mode: null\n",
      "I20240730 12:49:25.996388  1068 compile_pass_manager.cpp:357] [UNILOG][INFO] Target architecture: DPUCZDX8G_ISA1_B4096_0101000016010407\n",
      "I20240730 12:49:25.996460  1068 compile_pass_manager.cpp:465] [UNILOG][INFO] Graph name: model_44, with op num: 8\n",
      "I20240730 12:49:25.996470  1068 compile_pass_manager.cpp:478] [UNILOG][INFO] Begin to compile...\n",
      "I20240730 12:49:26.001272  1068 compile_pass_manager.cpp:489] [UNILOG][INFO] Total device subgraph number 3, DPU subgraph number 1\n",
      "I20240730 12:49:26.001317  1068 compile_pass_manager.cpp:504] [UNILOG][INFO] Compile done.\n"
     ]
    },
    {
     "name": "stdout",
     "output_type": "stream",
     "text": [
      "[INFO] Namespace(batchsize=1, inputs_shape=None, layout='NHWC', model_files=['/tmp/vitis-ai-user/tensorflow_model_optimization/tmp_sub_graph_quantized_20240730-124916-522780_mFGupb.h5'], model_type='tensorflow2', named_inputs_shape=None, out_filename='/tmp/vitis-ai-user/tensorflow_model_optimization/tmp_sub_graph_xnnc_20240730-124916-522780_mFGupb.xmodel', proto=None)\n",
      "[INFO] tensorflow2 model: /tmp/vitis-ai-user/tensorflow_model_optimization/tmp_sub_graph_quantized_20240730-124916-522780_mFGupb.h5\n",
      "[INFO] keras version: 2.12.0\n",
      "[INFO] Tensorflow Keras model type: functional\n"
     ]
    },
    {
     "name": "stderr",
     "output_type": "stream",
     "text": [
      "[INFO] parse raw model     :100%|██████████| 3/3 [00:00<00:00, 4641.43it/s]                  \n",
      "[INFO] infer shape (NHWC)  :100%|██████████| 4/4 [00:00<00:00, 2605.16it/s]                  \n",
      "[INFO] perform level-0 opt :100%|██████████| 1/1 [00:00<00:00, 2783.21it/s]                  \n",
      "[INFO] perform level-1 opt :100%|██████████| 2/2 [00:00<00:00, 6428.05it/s]                  \n",
      "[INFO] generate xmodel     :100%|██████████| 4/4 [00:00<00:00, 1881.28it/s]                  "
     ]
    },
    {
     "name": "stdout",
     "output_type": "stream",
     "text": [
      "[INFO] dump xmodel: /tmp/vitis-ai-user/tensorflow_model_optimization/tmp_sub_graph_xnnc_20240730-124916-522780_mFGupb.xmodel\n"
     ]
    },
    {
     "name": "stderr",
     "output_type": "stream",
     "text": [
      "\n",
      "I20240730 12:49:26.118515  1068 compile_pass_manager.cpp:352] [UNILOG][INFO] Compile mode: dpu\n",
      "I20240730 12:49:26.118561  1068 compile_pass_manager.cpp:353] [UNILOG][INFO] Debug mode: null\n",
      "I20240730 12:49:26.118573  1068 compile_pass_manager.cpp:357] [UNILOG][INFO] Target architecture: DPUCZDX8G_ISA1_B4096_0101000016010407\n",
      "I20240730 12:49:26.118644  1068 compile_pass_manager.cpp:465] [UNILOG][INFO] Graph name: model_45, with op num: 8\n",
      "I20240730 12:49:26.118654  1068 compile_pass_manager.cpp:478] [UNILOG][INFO] Begin to compile...\n",
      "I20240730 12:49:26.123507  1068 compile_pass_manager.cpp:489] [UNILOG][INFO] Total device subgraph number 3, DPU subgraph number 1\n",
      "I20240730 12:49:26.123543  1068 compile_pass_manager.cpp:504] [UNILOG][INFO] Compile done.\n"
     ]
    },
    {
     "name": "stdout",
     "output_type": "stream",
     "text": [
      "[INFO] Namespace(batchsize=1, inputs_shape=None, layout='NHWC', model_files=['/tmp/vitis-ai-user/tensorflow_model_optimization/tmp_sub_graph_quantized_20240730-124916-522780_mFGupb.h5'], model_type='tensorflow2', named_inputs_shape=None, out_filename='/tmp/vitis-ai-user/tensorflow_model_optimization/tmp_sub_graph_xnnc_20240730-124916-522780_mFGupb.xmodel', proto=None)\n",
      "[INFO] tensorflow2 model: /tmp/vitis-ai-user/tensorflow_model_optimization/tmp_sub_graph_quantized_20240730-124916-522780_mFGupb.h5\n",
      "[INFO] keras version: 2.12.0\n",
      "[INFO] Tensorflow Keras model type: functional\n"
     ]
    },
    {
     "name": "stderr",
     "output_type": "stream",
     "text": [
      "[INFO] parse raw model     :100%|██████████| 3/3 [00:00<00:00, 10196.85it/s]                 \n",
      "[INFO] infer shape (NHWC)  :100%|██████████| 4/4 [00:00<00:00, 3880.92it/s]                  \n",
      "[INFO] perform level-0 opt :100%|██████████| 1/1 [00:00<00:00, 2507.06it/s]                  \n",
      "[INFO] perform level-1 opt :100%|██████████| 2/2 [00:00<00:00, 6065.52it/s]                  \n",
      "[INFO] generate xmodel     :100%|██████████| 4/4 [00:00<00:00, 2111.14it/s]                  "
     ]
    },
    {
     "name": "stdout",
     "output_type": "stream",
     "text": [
      "[INFO] dump xmodel: /tmp/vitis-ai-user/tensorflow_model_optimization/tmp_sub_graph_xnnc_20240730-124916-522780_mFGupb.xmodel\n"
     ]
    },
    {
     "name": "stderr",
     "output_type": "stream",
     "text": [
      "\n",
      "I20240730 12:49:26.236115  1068 compile_pass_manager.cpp:352] [UNILOG][INFO] Compile mode: dpu\n",
      "I20240730 12:49:26.236164  1068 compile_pass_manager.cpp:353] [UNILOG][INFO] Debug mode: null\n",
      "I20240730 12:49:26.236182  1068 compile_pass_manager.cpp:357] [UNILOG][INFO] Target architecture: DPUCZDX8G_ISA1_B4096_0101000016010407\n",
      "I20240730 12:49:26.236280  1068 compile_pass_manager.cpp:465] [UNILOG][INFO] Graph name: model_46, with op num: 8\n",
      "I20240730 12:49:26.236297  1068 compile_pass_manager.cpp:478] [UNILOG][INFO] Begin to compile...\n",
      "I20240730 12:49:26.241312  1068 compile_pass_manager.cpp:489] [UNILOG][INFO] Total device subgraph number 3, DPU subgraph number 1\n",
      "I20240730 12:49:26.241393  1068 compile_pass_manager.cpp:504] [UNILOG][INFO] Compile done.\n"
     ]
    },
    {
     "name": "stdout",
     "output_type": "stream",
     "text": [
      "[INFO] Namespace(batchsize=1, inputs_shape=None, layout='NHWC', model_files=['/tmp/vitis-ai-user/tensorflow_model_optimization/tmp_sub_graph_quantized_20240730-124916-522780_mFGupb.h5'], model_type='tensorflow2', named_inputs_shape=None, out_filename='/tmp/vitis-ai-user/tensorflow_model_optimization/tmp_sub_graph_xnnc_20240730-124916-522780_mFGupb.xmodel', proto=None)\n",
      "[INFO] tensorflow2 model: /tmp/vitis-ai-user/tensorflow_model_optimization/tmp_sub_graph_quantized_20240730-124916-522780_mFGupb.h5\n",
      "[INFO] keras version: 2.12.0\n",
      "[INFO] Tensorflow Keras model type: functional\n"
     ]
    },
    {
     "name": "stderr",
     "output_type": "stream",
     "text": [
      "[INFO] parse raw model     :100%|██████████| 3/3 [00:00<00:00, 3163.13it/s]                  \n",
      "[INFO] infer shape (NHWC)  :100%|██████████| 4/4 [00:00<00:00, 2701.21it/s]                  \n",
      "[INFO] perform level-0 opt :100%|██████████| 1/1 [00:00<00:00, 2654.62it/s]                  \n",
      "[INFO] perform level-1 opt :100%|██████████| 2/2 [00:00<00:00, 3860.38it/s]                  \n",
      "[INFO] generate xmodel     :100%|██████████| 4/4 [00:00<00:00, 774.57it/s]                   "
     ]
    },
    {
     "name": "stdout",
     "output_type": "stream",
     "text": [
      "[INFO] dump xmodel: /tmp/vitis-ai-user/tensorflow_model_optimization/tmp_sub_graph_xnnc_20240730-124916-522780_mFGupb.xmodel\n"
     ]
    },
    {
     "name": "stderr",
     "output_type": "stream",
     "text": [
      "\n",
      "I20240730 12:49:26.415983  1068 compile_pass_manager.cpp:352] [UNILOG][INFO] Compile mode: dpu\n",
      "I20240730 12:49:26.416054  1068 compile_pass_manager.cpp:353] [UNILOG][INFO] Debug mode: null\n",
      "I20240730 12:49:26.416071  1068 compile_pass_manager.cpp:357] [UNILOG][INFO] Target architecture: DPUCZDX8G_ISA1_B4096_0101000016010407\n",
      "I20240730 12:49:26.416160  1068 compile_pass_manager.cpp:465] [UNILOG][INFO] Graph name: model_47, with op num: 8\n",
      "I20240730 12:49:26.416174  1068 compile_pass_manager.cpp:478] [UNILOG][INFO] Begin to compile...\n",
      "I20240730 12:49:26.439602  1068 compile_pass_manager.cpp:489] [UNILOG][INFO] Total device subgraph number 3, DPU subgraph number 1\n",
      "I20240730 12:49:26.439651  1068 compile_pass_manager.cpp:504] [UNILOG][INFO] Compile done.\n"
     ]
    },
    {
     "name": "stdout",
     "output_type": "stream",
     "text": [
      "[INFO] Namespace(batchsize=1, inputs_shape=None, layout='NHWC', model_files=['/tmp/vitis-ai-user/tensorflow_model_optimization/tmp_sub_graph_quantized_20240730-124916-522780_mFGupb.h5'], model_type='tensorflow2', named_inputs_shape=None, out_filename='/tmp/vitis-ai-user/tensorflow_model_optimization/tmp_sub_graph_xnnc_20240730-124916-522780_mFGupb.xmodel', proto=None)\n",
      "[INFO] tensorflow2 model: /tmp/vitis-ai-user/tensorflow_model_optimization/tmp_sub_graph_quantized_20240730-124916-522780_mFGupb.h5\n",
      "[INFO] keras version: 2.12.0\n",
      "[INFO] Tensorflow Keras model type: functional\n"
     ]
    },
    {
     "name": "stderr",
     "output_type": "stream",
     "text": [
      "[INFO] parse raw model     :100%|██████████| 3/3 [00:00<00:00, 12264.05it/s]                 \n",
      "[INFO] infer shape (NHWC)  :100%|██████████| 4/4 [00:00<00:00, 14302.83it/s]                 \n",
      "[INFO] perform level-0 opt :100%|██████████| 1/1 [00:00<00:00, 3146.51it/s]                  \n",
      "[INFO] perform level-1 opt :100%|██████████| 2/2 [00:00<00:00, 9576.04it/s]                  \n",
      "[INFO] generate xmodel     :100%|██████████| 4/4 [00:00<00:00, 1480.12it/s]                  \n",
      "I20240730 12:49:26.588447  1068 compile_pass_manager.cpp:352] [UNILOG][INFO] Compile mode: dpu\n",
      "I20240730 12:49:26.588507  1068 compile_pass_manager.cpp:353] [UNILOG][INFO] Debug mode: null\n",
      "I20240730 12:49:26.588523  1068 compile_pass_manager.cpp:357] [UNILOG][INFO] Target architecture: DPUCZDX8G_ISA1_B4096_0101000016010407\n",
      "I20240730 12:49:26.588609  1068 compile_pass_manager.cpp:465] [UNILOG][INFO] Graph name: model_48, with op num: 8\n",
      "I20240730 12:49:26.588627  1068 compile_pass_manager.cpp:478] [UNILOG][INFO] Begin to compile...\n",
      "I20240730 12:49:26.600040  1068 compile_pass_manager.cpp:489] [UNILOG][INFO] Total device subgraph number 3, DPU subgraph number 1\n",
      "I20240730 12:49:26.600104  1068 compile_pass_manager.cpp:504] [UNILOG][INFO] Compile done.\n"
     ]
    },
    {
     "name": "stdout",
     "output_type": "stream",
     "text": [
      "[INFO] dump xmodel: /tmp/vitis-ai-user/tensorflow_model_optimization/tmp_sub_graph_xnnc_20240730-124916-522780_mFGupb.xmodel\n",
      "[INFO] Namespace(batchsize=1, inputs_shape=None, layout='NHWC', model_files=['/tmp/vitis-ai-user/tensorflow_model_optimization/tmp_sub_graph_quantized_20240730-124916-522780_mFGupb.h5'], model_type='tensorflow2', named_inputs_shape=None, out_filename='/tmp/vitis-ai-user/tensorflow_model_optimization/tmp_sub_graph_xnnc_20240730-124916-522780_mFGupb.xmodel', proto=None)\n",
      "[INFO] tensorflow2 model: /tmp/vitis-ai-user/tensorflow_model_optimization/tmp_sub_graph_quantized_20240730-124916-522780_mFGupb.h5\n",
      "[INFO] keras version: 2.12.0\n",
      "[INFO] Tensorflow Keras model type: functional\n"
     ]
    },
    {
     "name": "stderr",
     "output_type": "stream",
     "text": [
      "[INFO] parse raw model     :100%|██████████| 3/3 [00:00<00:00, 8962.19it/s]                  \n",
      "[INFO] infer shape (NHWC)  :100%|██████████| 4/4 [00:00<00:00, 10311.75it/s]                 \n",
      "[INFO] perform level-0 opt :100%|██████████| 1/1 [00:00<00:00, 2720.04it/s]                  \n",
      "[INFO] perform level-1 opt :100%|██████████| 2/2 [00:00<00:00, 8073.73it/s]                  \n",
      "[INFO] generate xmodel     :100%|██████████| 4/4 [00:00<00:00, 1357.05it/s]                  "
     ]
    },
    {
     "name": "stdout",
     "output_type": "stream",
     "text": [
      "[INFO] dump xmodel: /tmp/vitis-ai-user/tensorflow_model_optimization/tmp_sub_graph_xnnc_20240730-124916-522780_mFGupb.xmodel\n"
     ]
    },
    {
     "name": "stderr",
     "output_type": "stream",
     "text": [
      "\n",
      "I20240730 12:49:26.725304  1068 compile_pass_manager.cpp:352] [UNILOG][INFO] Compile mode: dpu\n",
      "I20240730 12:49:26.725355  1068 compile_pass_manager.cpp:353] [UNILOG][INFO] Debug mode: null\n",
      "I20240730 12:49:26.725379  1068 compile_pass_manager.cpp:357] [UNILOG][INFO] Target architecture: DPUCZDX8G_ISA1_B4096_0101000016010407\n",
      "I20240730 12:49:26.725459  1068 compile_pass_manager.cpp:465] [UNILOG][INFO] Graph name: model_49, with op num: 8\n",
      "I20240730 12:49:26.725468  1068 compile_pass_manager.cpp:478] [UNILOG][INFO] Begin to compile...\n",
      "I20240730 12:49:26.736490  1068 compile_pass_manager.cpp:489] [UNILOG][INFO] Total device subgraph number 3, DPU subgraph number 1\n",
      "I20240730 12:49:26.736536  1068 compile_pass_manager.cpp:504] [UNILOG][INFO] Compile done.\n"
     ]
    },
    {
     "name": "stdout",
     "output_type": "stream",
     "text": [
      "[INFO] Namespace(batchsize=1, inputs_shape=None, layout='NHWC', model_files=['/tmp/vitis-ai-user/tensorflow_model_optimization/tmp_sub_graph_quantized_20240730-124916-522780_mFGupb.h5'], model_type='tensorflow2', named_inputs_shape=None, out_filename='/tmp/vitis-ai-user/tensorflow_model_optimization/tmp_sub_graph_xnnc_20240730-124916-522780_mFGupb.xmodel', proto=None)\n",
      "[INFO] tensorflow2 model: /tmp/vitis-ai-user/tensorflow_model_optimization/tmp_sub_graph_quantized_20240730-124916-522780_mFGupb.h5\n",
      "[INFO] keras version: 2.12.0\n",
      "[INFO] Tensorflow Keras model type: functional\n"
     ]
    },
    {
     "name": "stderr",
     "output_type": "stream",
     "text": [
      "[INFO] parse raw model     :100%|██████████| 3/3 [00:00<00:00, 5240.70it/s]                  \n",
      "[INFO] infer shape (NHWC)  :100%|██████████| 4/4 [00:00<00:00, 6190.85it/s]                  \n",
      "[INFO] perform level-0 opt :100%|██████████| 1/1 [00:00<00:00, 2592.28it/s]                  \n",
      "[INFO] perform level-1 opt :100%|██████████| 2/2 [00:00<00:00, 10082.46it/s]                 \n",
      "[INFO] generate xmodel     :100%|██████████| 4/4 [00:00<00:00, 1082.75it/s]                  "
     ]
    },
    {
     "name": "stdout",
     "output_type": "stream",
     "text": [
      "[INFO] dump xmodel: /tmp/vitis-ai-user/tensorflow_model_optimization/tmp_sub_graph_xnnc_20240730-124916-522780_mFGupb.xmodel\n"
     ]
    },
    {
     "name": "stderr",
     "output_type": "stream",
     "text": [
      "\n",
      "I20240730 12:49:26.861907  1068 compile_pass_manager.cpp:352] [UNILOG][INFO] Compile mode: dpu\n",
      "I20240730 12:49:26.861953  1068 compile_pass_manager.cpp:353] [UNILOG][INFO] Debug mode: null\n",
      "I20240730 12:49:26.861965  1068 compile_pass_manager.cpp:357] [UNILOG][INFO] Target architecture: DPUCZDX8G_ISA1_B4096_0101000016010407\n",
      "I20240730 12:49:26.862041  1068 compile_pass_manager.cpp:465] [UNILOG][INFO] Graph name: model_50, with op num: 8\n",
      "I20240730 12:49:26.862051  1068 compile_pass_manager.cpp:478] [UNILOG][INFO] Begin to compile...\n",
      "I20240730 12:49:26.873119  1068 compile_pass_manager.cpp:489] [UNILOG][INFO] Total device subgraph number 3, DPU subgraph number 1\n",
      "I20240730 12:49:26.873157  1068 compile_pass_manager.cpp:504] [UNILOG][INFO] Compile done.\n"
     ]
    },
    {
     "name": "stdout",
     "output_type": "stream",
     "text": [
      "[INFO] Namespace(batchsize=1, inputs_shape=None, layout='NHWC', model_files=['/tmp/vitis-ai-user/tensorflow_model_optimization/tmp_sub_graph_quantized_20240730-124916-522780_mFGupb.h5'], model_type='tensorflow2', named_inputs_shape=None, out_filename='/tmp/vitis-ai-user/tensorflow_model_optimization/tmp_sub_graph_xnnc_20240730-124916-522780_mFGupb.xmodel', proto=None)\n",
      "[INFO] tensorflow2 model: /tmp/vitis-ai-user/tensorflow_model_optimization/tmp_sub_graph_quantized_20240730-124916-522780_mFGupb.h5\n",
      "[INFO] keras version: 2.12.0\n",
      "[INFO] Tensorflow Keras model type: functional\n"
     ]
    },
    {
     "name": "stderr",
     "output_type": "stream",
     "text": [
      "[INFO] parse raw model     :100%|██████████| 3/3 [00:00<00:00, 9884.46it/s]                  \n",
      "[INFO] infer shape (NHWC)  :100%|██████████| 4/4 [00:00<00:00, 8679.37it/s]                  \n",
      "[INFO] perform level-0 opt :100%|██████████| 1/1 [00:00<00:00, 3153.61it/s]                  \n",
      "[INFO] perform level-1 opt :100%|██████████| 2/2 [00:00<00:00, 4793.49it/s]                  \n",
      "[INFO] generate xmodel     :100%|██████████| 4/4 [00:00<00:00, 1069.91it/s]                  "
     ]
    },
    {
     "name": "stdout",
     "output_type": "stream",
     "text": [
      "[INFO] dump xmodel: /tmp/vitis-ai-user/tensorflow_model_optimization/tmp_sub_graph_xnnc_20240730-124916-522780_mFGupb.xmodel\n"
     ]
    },
    {
     "name": "stderr",
     "output_type": "stream",
     "text": [
      "\n",
      "I20240730 12:49:27.002107  1068 compile_pass_manager.cpp:352] [UNILOG][INFO] Compile mode: dpu\n",
      "I20240730 12:49:27.002157  1068 compile_pass_manager.cpp:353] [UNILOG][INFO] Debug mode: null\n",
      "I20240730 12:49:27.002169  1068 compile_pass_manager.cpp:357] [UNILOG][INFO] Target architecture: DPUCZDX8G_ISA1_B4096_0101000016010407\n",
      "I20240730 12:49:27.002297  1068 compile_pass_manager.cpp:465] [UNILOG][INFO] Graph name: model_51, with op num: 8\n",
      "I20240730 12:49:27.002310  1068 compile_pass_manager.cpp:478] [UNILOG][INFO] Begin to compile...\n",
      "I20240730 12:49:27.015585  1068 compile_pass_manager.cpp:489] [UNILOG][INFO] Total device subgraph number 3, DPU subgraph number 1\n",
      "I20240730 12:49:27.015646  1068 compile_pass_manager.cpp:504] [UNILOG][INFO] Compile done.\n"
     ]
    },
    {
     "name": "stdout",
     "output_type": "stream",
     "text": [
      "[INFO] Namespace(batchsize=1, inputs_shape=None, layout='NHWC', model_files=['/tmp/vitis-ai-user/tensorflow_model_optimization/tmp_sub_graph_quantized_20240730-124916-522780_mFGupb.h5'], model_type='tensorflow2', named_inputs_shape=None, out_filename='/tmp/vitis-ai-user/tensorflow_model_optimization/tmp_sub_graph_xnnc_20240730-124916-522780_mFGupb.xmodel', proto=None)\n",
      "[INFO] tensorflow2 model: /tmp/vitis-ai-user/tensorflow_model_optimization/tmp_sub_graph_quantized_20240730-124916-522780_mFGupb.h5\n",
      "[INFO] keras version: 2.12.0\n",
      "[INFO] Tensorflow Keras model type: functional\n"
     ]
    },
    {
     "name": "stderr",
     "output_type": "stream",
     "text": [
      "[INFO] parse raw model     :100%|██████████| 3/3 [00:00<00:00, 10288.56it/s]                 \n",
      "[INFO] infer shape (NHWC)  :100%|██████████| 4/4 [00:00<00:00, 5295.84it/s]                  \n",
      "[INFO] perform level-0 opt :100%|██████████| 1/1 [00:00<00:00, 3426.72it/s]                  \n",
      "[INFO] perform level-1 opt :100%|██████████| 2/2 [00:00<00:00, 8330.30it/s]                  \n",
      "[INFO] generate xmodel     :100%|██████████| 4/4 [00:00<00:00, 1107.26it/s]                  "
     ]
    },
    {
     "name": "stdout",
     "output_type": "stream",
     "text": [
      "[INFO] dump xmodel: /tmp/vitis-ai-user/tensorflow_model_optimization/tmp_sub_graph_xnnc_20240730-124916-522780_mFGupb.xmodel\n"
     ]
    },
    {
     "name": "stderr",
     "output_type": "stream",
     "text": [
      "\n",
      "I20240730 12:49:27.144486  1068 compile_pass_manager.cpp:352] [UNILOG][INFO] Compile mode: dpu\n",
      "I20240730 12:49:27.144537  1068 compile_pass_manager.cpp:353] [UNILOG][INFO] Debug mode: null\n",
      "I20240730 12:49:27.144548  1068 compile_pass_manager.cpp:357] [UNILOG][INFO] Target architecture: DPUCZDX8G_ISA1_B4096_0101000016010407\n",
      "I20240730 12:49:27.144625  1068 compile_pass_manager.cpp:465] [UNILOG][INFO] Graph name: model_52, with op num: 8\n",
      "I20240730 12:49:27.144634  1068 compile_pass_manager.cpp:478] [UNILOG][INFO] Begin to compile...\n",
      "I20240730 12:49:27.155449  1068 compile_pass_manager.cpp:489] [UNILOG][INFO] Total device subgraph number 3, DPU subgraph number 1\n",
      "I20240730 12:49:27.155490  1068 compile_pass_manager.cpp:504] [UNILOG][INFO] Compile done.\n"
     ]
    },
    {
     "name": "stdout",
     "output_type": "stream",
     "text": [
      "[INFO] Namespace(batchsize=1, inputs_shape=None, layout='NHWC', model_files=['/tmp/vitis-ai-user/tensorflow_model_optimization/tmp_sub_graph_quantized_20240730-124916-522780_mFGupb.h5'], model_type='tensorflow2', named_inputs_shape=None, out_filename='/tmp/vitis-ai-user/tensorflow_model_optimization/tmp_sub_graph_xnnc_20240730-124916-522780_mFGupb.xmodel', proto=None)\n",
      "[INFO] tensorflow2 model: /tmp/vitis-ai-user/tensorflow_model_optimization/tmp_sub_graph_quantized_20240730-124916-522780_mFGupb.h5\n",
      "[INFO] keras version: 2.12.0\n",
      "[INFO] Tensorflow Keras model type: functional\n"
     ]
    },
    {
     "name": "stderr",
     "output_type": "stream",
     "text": [
      "[INFO] parse raw model     :100%|██████████| 3/3 [00:00<00:00, 9642.08it/s]                  \n",
      "[INFO] infer shape (NHWC)  :100%|██████████| 4/4 [00:00<00:00, 6713.57it/s]                  \n",
      "[INFO] perform level-0 opt :100%|██████████| 1/1 [00:00<00:00, 3679.21it/s]                  \n",
      "[INFO] perform level-1 opt :100%|██████████| 2/2 [00:00<00:00, 9709.04it/s]                  \n",
      "[INFO] generate xmodel     :100%|██████████| 4/4 [00:00<00:00, 1481.96it/s]                  "
     ]
    },
    {
     "name": "stdout",
     "output_type": "stream",
     "text": [
      "[INFO] dump xmodel: /tmp/vitis-ai-user/tensorflow_model_optimization/tmp_sub_graph_xnnc_20240730-124916-522780_mFGupb.xmodel\n"
     ]
    },
    {
     "name": "stderr",
     "output_type": "stream",
     "text": [
      "\n",
      "I20240730 12:49:27.302418  1068 compile_pass_manager.cpp:352] [UNILOG][INFO] Compile mode: dpu\n",
      "I20240730 12:49:27.302472  1068 compile_pass_manager.cpp:353] [UNILOG][INFO] Debug mode: null\n",
      "I20240730 12:49:27.302487  1068 compile_pass_manager.cpp:357] [UNILOG][INFO] Target architecture: DPUCZDX8G_ISA1_B4096_0101000016010407\n",
      "I20240730 12:49:27.302570  1068 compile_pass_manager.cpp:465] [UNILOG][INFO] Graph name: model_53, with op num: 8\n",
      "I20240730 12:49:27.302583  1068 compile_pass_manager.cpp:478] [UNILOG][INFO] Begin to compile...\n",
      "I20240730 12:49:27.313735  1068 compile_pass_manager.cpp:489] [UNILOG][INFO] Total device subgraph number 3, DPU subgraph number 1\n",
      "I20240730 12:49:27.313781  1068 compile_pass_manager.cpp:504] [UNILOG][INFO] Compile done.\n"
     ]
    },
    {
     "name": "stdout",
     "output_type": "stream",
     "text": [
      "[INFO] Namespace(batchsize=1, inputs_shape=None, layout='NHWC', model_files=['/tmp/vitis-ai-user/tensorflow_model_optimization/tmp_sub_graph_quantized_20240730-124916-522780_mFGupb.h5'], model_type='tensorflow2', named_inputs_shape=None, out_filename='/tmp/vitis-ai-user/tensorflow_model_optimization/tmp_sub_graph_xnnc_20240730-124916-522780_mFGupb.xmodel', proto=None)\n",
      "[INFO] tensorflow2 model: /tmp/vitis-ai-user/tensorflow_model_optimization/tmp_sub_graph_quantized_20240730-124916-522780_mFGupb.h5\n",
      "[INFO] keras version: 2.12.0\n",
      "[INFO] Tensorflow Keras model type: functional\n"
     ]
    },
    {
     "name": "stderr",
     "output_type": "stream",
     "text": [
      "[INFO] parse raw model     :100%|██████████| 3/3 [00:00<00:00, 5156.93it/s]                  \n",
      "[INFO] infer shape (NHWC)  :100%|██████████| 4/4 [00:00<00:00, 4445.47it/s]                  \n",
      "[INFO] perform level-0 opt :100%|██████████| 1/1 [00:00<00:00, 2549.73it/s]                  \n",
      "[INFO] perform level-1 opt :100%|██████████| 2/2 [00:00<00:00, 6647.07it/s]                  \n",
      "[INFO] generate xmodel     :100%|██████████| 4/4 [00:00<00:00, 141.11it/s]                   \n"
     ]
    },
    {
     "name": "stdout",
     "output_type": "stream",
     "text": [
      "[INFO] dump xmodel: /tmp/vitis-ai-user/tensorflow_model_optimization/tmp_sub_graph_xnnc_20240730-124916-522780_mFGupb.xmodel\n"
     ]
    },
    {
     "name": "stderr",
     "output_type": "stream",
     "text": [
      "I20240730 12:49:27.507784  1068 compile_pass_manager.cpp:352] [UNILOG][INFO] Compile mode: dpu\n",
      "I20240730 12:49:27.507841  1068 compile_pass_manager.cpp:353] [UNILOG][INFO] Debug mode: null\n",
      "I20240730 12:49:27.507855  1068 compile_pass_manager.cpp:357] [UNILOG][INFO] Target architecture: DPUCZDX8G_ISA1_B4096_0101000016010407\n",
      "I20240730 12:49:27.507946  1068 compile_pass_manager.cpp:465] [UNILOG][INFO] Graph name: model_54, with op num: 8\n",
      "I20240730 12:49:27.507957  1068 compile_pass_manager.cpp:478] [UNILOG][INFO] Begin to compile...\n",
      "I20240730 12:49:27.567065  1068 compile_pass_manager.cpp:489] [UNILOG][INFO] Total device subgraph number 3, DPU subgraph number 1\n",
      "I20240730 12:49:27.567112  1068 compile_pass_manager.cpp:504] [UNILOG][INFO] Compile done.\n"
     ]
    },
    {
     "name": "stdout",
     "output_type": "stream",
     "text": [
      "[INFO] Namespace(batchsize=1, inputs_shape=None, layout='NHWC', model_files=['/tmp/vitis-ai-user/tensorflow_model_optimization/tmp_sub_graph_quantized_20240730-124916-522780_mFGupb.h5'], model_type='tensorflow2', named_inputs_shape=None, out_filename='/tmp/vitis-ai-user/tensorflow_model_optimization/tmp_sub_graph_xnnc_20240730-124916-522780_mFGupb.xmodel', proto=None)\n",
      "[INFO] tensorflow2 model: /tmp/vitis-ai-user/tensorflow_model_optimization/tmp_sub_graph_quantized_20240730-124916-522780_mFGupb.h5\n",
      "[INFO] keras version: 2.12.0\n",
      "[INFO] Tensorflow Keras model type: functional\n"
     ]
    },
    {
     "name": "stderr",
     "output_type": "stream",
     "text": [
      "[INFO] parse raw model     :100%|██████████| 3/3 [00:00<00:00, 8981.38it/s]                  \n",
      "[INFO] infer shape (NHWC)  :100%|██████████| 4/4 [00:00<00:00, 6670.86it/s]                  \n",
      "[INFO] perform level-0 opt :100%|██████████| 1/1 [00:00<00:00, 3070.50it/s]                  \n",
      "[INFO] perform level-1 opt :100%|██████████| 2/2 [00:00<00:00, 8027.38it/s]                  \n",
      "[INFO] generate xmodel     :100%|██████████| 4/4 [00:00<00:00, 496.98it/s]                   \n",
      "I20240730 12:49:27.721213  1068 compile_pass_manager.cpp:352] [UNILOG][INFO] Compile mode: dpu\n",
      "I20240730 12:49:27.721271  1068 compile_pass_manager.cpp:353] [UNILOG][INFO] Debug mode: null\n",
      "I20240730 12:49:27.721284  1068 compile_pass_manager.cpp:357] [UNILOG][INFO] Target architecture: DPUCZDX8G_ISA1_B4096_0101000016010407\n",
      "I20240730 12:49:27.721367  1068 compile_pass_manager.cpp:465] [UNILOG][INFO] Graph name: model_55, with op num: 8\n",
      "I20240730 12:49:27.721379  1068 compile_pass_manager.cpp:478] [UNILOG][INFO] Begin to compile...\n",
      "I20240730 12:49:27.756340  1068 compile_pass_manager.cpp:489] [UNILOG][INFO] Total device subgraph number 3, DPU subgraph number 1\n",
      "I20240730 12:49:27.756387  1068 compile_pass_manager.cpp:504] [UNILOG][INFO] Compile done.\n"
     ]
    },
    {
     "name": "stdout",
     "output_type": "stream",
     "text": [
      "[INFO] dump xmodel: /tmp/vitis-ai-user/tensorflow_model_optimization/tmp_sub_graph_xnnc_20240730-124916-522780_mFGupb.xmodel\n",
      "[INFO] Namespace(batchsize=1, inputs_shape=None, layout='NHWC', model_files=['/tmp/vitis-ai-user/tensorflow_model_optimization/tmp_sub_graph_quantized_20240730-124916-522780_mFGupb.h5'], model_type='tensorflow2', named_inputs_shape=None, out_filename='/tmp/vitis-ai-user/tensorflow_model_optimization/tmp_sub_graph_xnnc_20240730-124916-522780_mFGupb.xmodel', proto=None)\n",
      "[INFO] tensorflow2 model: /tmp/vitis-ai-user/tensorflow_model_optimization/tmp_sub_graph_quantized_20240730-124916-522780_mFGupb.h5\n",
      "[INFO] keras version: 2.12.0\n",
      "[INFO] Tensorflow Keras model type: functional\n"
     ]
    },
    {
     "name": "stderr",
     "output_type": "stream",
     "text": [
      "[INFO] parse raw model     :100%|██████████| 3/3 [00:00<00:00, 8583.16it/s]                  \n",
      "[INFO] infer shape (NHWC)  :100%|██████████| 4/4 [00:00<00:00, 9554.22it/s]                  \n",
      "[INFO] perform level-0 opt :100%|██████████| 1/1 [00:00<00:00, 3127.74it/s]                  \n",
      "[INFO] perform level-1 opt :100%|██████████| 2/2 [00:00<00:00, 9108.15it/s]                  \n",
      "[INFO] generate xmodel     :100%|██████████| 4/4 [00:00<00:00, 455.04it/s]                   \n"
     ]
    },
    {
     "name": "stdout",
     "output_type": "stream",
     "text": [
      "[INFO] dump xmodel: /tmp/vitis-ai-user/tensorflow_model_optimization/tmp_sub_graph_xnnc_20240730-124916-522780_mFGupb.xmodel\n"
     ]
    },
    {
     "name": "stderr",
     "output_type": "stream",
     "text": [
      "I20240730 12:49:27.896514  1068 compile_pass_manager.cpp:352] [UNILOG][INFO] Compile mode: dpu\n",
      "I20240730 12:49:27.896566  1068 compile_pass_manager.cpp:353] [UNILOG][INFO] Debug mode: null\n",
      "I20240730 12:49:27.896579  1068 compile_pass_manager.cpp:357] [UNILOG][INFO] Target architecture: DPUCZDX8G_ISA1_B4096_0101000016010407\n",
      "I20240730 12:49:27.896653  1068 compile_pass_manager.cpp:465] [UNILOG][INFO] Graph name: model_56, with op num: 8\n",
      "I20240730 12:49:27.896661  1068 compile_pass_manager.cpp:478] [UNILOG][INFO] Begin to compile...\n",
      "I20240730 12:49:27.928342  1068 compile_pass_manager.cpp:489] [UNILOG][INFO] Total device subgraph number 3, DPU subgraph number 1\n",
      "I20240730 12:49:27.928390  1068 compile_pass_manager.cpp:504] [UNILOG][INFO] Compile done.\n"
     ]
    },
    {
     "name": "stdout",
     "output_type": "stream",
     "text": [
      "[INFO] Namespace(batchsize=1, inputs_shape=None, layout='NHWC', model_files=['/tmp/vitis-ai-user/tensorflow_model_optimization/tmp_sub_graph_quantized_20240730-124916-522780_mFGupb.h5'], model_type='tensorflow2', named_inputs_shape=None, out_filename='/tmp/vitis-ai-user/tensorflow_model_optimization/tmp_sub_graph_xnnc_20240730-124916-522780_mFGupb.xmodel', proto=None)\n",
      "[INFO] tensorflow2 model: /tmp/vitis-ai-user/tensorflow_model_optimization/tmp_sub_graph_quantized_20240730-124916-522780_mFGupb.h5\n",
      "[INFO] keras version: 2.12.0\n",
      "[INFO] Tensorflow Keras model type: functional\n"
     ]
    },
    {
     "name": "stderr",
     "output_type": "stream",
     "text": [
      "[INFO] parse raw model     :100%|██████████| 3/3 [00:00<00:00, 10875.46it/s]                 \n",
      "[INFO] infer shape (NHWC)  :100%|██████████| 4/4 [00:00<00:00, 5837.58it/s]                  \n",
      "[INFO] perform level-0 opt :100%|██████████| 1/1 [00:00<00:00, 3472.11it/s]                  \n",
      "[INFO] perform level-1 opt :100%|██████████| 2/2 [00:00<00:00, 6408.41it/s]                  \n",
      "[INFO] generate xmodel     :100%|██████████| 4/4 [00:00<00:00, 517.40it/s]                   \n"
     ]
    },
    {
     "name": "stdout",
     "output_type": "stream",
     "text": [
      "[INFO] dump xmodel: /tmp/vitis-ai-user/tensorflow_model_optimization/tmp_sub_graph_xnnc_20240730-124916-522780_mFGupb.xmodel\n"
     ]
    },
    {
     "name": "stderr",
     "output_type": "stream",
     "text": [
      "I20240730 12:49:28.069900  1068 compile_pass_manager.cpp:352] [UNILOG][INFO] Compile mode: dpu\n",
      "I20240730 12:49:28.069953  1068 compile_pass_manager.cpp:353] [UNILOG][INFO] Debug mode: null\n",
      "I20240730 12:49:28.069965  1068 compile_pass_manager.cpp:357] [UNILOG][INFO] Target architecture: DPUCZDX8G_ISA1_B4096_0101000016010407\n",
      "I20240730 12:49:28.070040  1068 compile_pass_manager.cpp:465] [UNILOG][INFO] Graph name: model_57, with op num: 8\n",
      "I20240730 12:49:28.070050  1068 compile_pass_manager.cpp:478] [UNILOG][INFO] Begin to compile...\n",
      "I20240730 12:49:28.101837  1068 compile_pass_manager.cpp:489] [UNILOG][INFO] Total device subgraph number 3, DPU subgraph number 1\n",
      "I20240730 12:49:28.101884  1068 compile_pass_manager.cpp:504] [UNILOG][INFO] Compile done.\n"
     ]
    },
    {
     "name": "stdout",
     "output_type": "stream",
     "text": [
      "[INFO] Namespace(batchsize=1, inputs_shape=None, layout='NHWC', model_files=['/tmp/vitis-ai-user/tensorflow_model_optimization/tmp_sub_graph_quantized_20240730-124916-522780_mFGupb.h5'], model_type='tensorflow2', named_inputs_shape=None, out_filename='/tmp/vitis-ai-user/tensorflow_model_optimization/tmp_sub_graph_xnnc_20240730-124916-522780_mFGupb.xmodel', proto=None)\n",
      "[INFO] tensorflow2 model: /tmp/vitis-ai-user/tensorflow_model_optimization/tmp_sub_graph_quantized_20240730-124916-522780_mFGupb.h5\n",
      "[INFO] keras version: 2.12.0\n",
      "[INFO] Tensorflow Keras model type: functional\n"
     ]
    },
    {
     "name": "stderr",
     "output_type": "stream",
     "text": [
      "[INFO] parse raw model     :100%|██████████| 3/3 [00:00<00:00, 11972.32it/s]                 \n",
      "[INFO] infer shape (NHWC)  :100%|██████████| 6/6 [00:00<00:00, 18978.75it/s]                 \n",
      "[INFO] perform level-0 opt :100%|██████████| 1/1 [00:00<00:00, 1729.61it/s]                  \n",
      "[INFO] perform level-1 opt :100%|██████████| 2/2 [00:00<00:00, 7839.82it/s]                  \n",
      "[INFO] generate xmodel     :100%|██████████| 6/6 [00:00<00:00, 3719.45it/s]                  "
     ]
    },
    {
     "name": "stdout",
     "output_type": "stream",
     "text": [
      "[INFO] dump xmodel: /tmp/vitis-ai-user/tensorflow_model_optimization/tmp_sub_graph_xnnc_20240730-124916-522780_mFGupb.xmodel\n"
     ]
    },
    {
     "name": "stderr",
     "output_type": "stream",
     "text": [
      "\n",
      "I20240730 12:49:28.219847  1068 compile_pass_manager.cpp:352] [UNILOG][INFO] Compile mode: dpu\n",
      "I20240730 12:49:28.219904  1068 compile_pass_manager.cpp:353] [UNILOG][INFO] Debug mode: null\n",
      "I20240730 12:49:28.219921  1068 compile_pass_manager.cpp:357] [UNILOG][INFO] Target architecture: DPUCZDX8G_ISA1_B4096_0101000016010407\n",
      "I20240730 12:49:28.220010  1068 compile_pass_manager.cpp:465] [UNILOG][INFO] Graph name: model_58, with op num: 8\n",
      "I20240730 12:49:28.220029  1068 compile_pass_manager.cpp:478] [UNILOG][INFO] Begin to compile...\n",
      "I20240730 12:49:28.227854  1068 compile_pass_manager.cpp:489] [UNILOG][INFO] Total device subgraph number 3, DPU subgraph number 1\n",
      "I20240730 12:49:28.227916  1068 compile_pass_manager.cpp:504] [UNILOG][INFO] Compile done.\n"
     ]
    },
    {
     "name": "stdout",
     "output_type": "stream",
     "text": [
      "[INFO] Namespace(batchsize=1, inputs_shape=None, layout='NHWC', model_files=['/tmp/vitis-ai-user/tensorflow_model_optimization/tmp_sub_graph_quantized_20240730-124916-522995_omlcDZ.h5'], model_type='tensorflow2', named_inputs_shape=None, out_filename='/tmp/vitis-ai-user/tensorflow_model_optimization/tmp_sub_graph_xnnc_20240730-124916-522995_omlcDZ.xmodel', proto=None)\n",
      "[INFO] tensorflow2 model: /tmp/vitis-ai-user/tensorflow_model_optimization/tmp_sub_graph_quantized_20240730-124916-522995_omlcDZ.h5\n",
      "[INFO] keras version: 2.12.0\n",
      "[INFO] Tensorflow Keras model type: functional\n"
     ]
    },
    {
     "name": "stderr",
     "output_type": "stream",
     "text": [
      "[INFO] parse raw model     :100%|██████████| 6/6 [00:00<00:00, 6978.88it/s]                  \n",
      "[INFO] infer shape (NHWC)  :100%|██████████| 7/7 [00:00<00:00, 2409.33it/s]                  \n",
      "[INFO] perform level-0 opt :100%|██████████| 1/1 [00:00<00:00, 2216.86it/s]                  \n",
      "[INFO] perform level-1 opt :100%|██████████| 2/2 [00:00<00:00, 6631.31it/s]                  \n",
      "[INFO] generate xmodel     :100%|██████████| 7/7 [00:00<00:00, 6565.32it/s]                  \n",
      "I20240730 12:49:28.681211  1068 compile_pass_manager.cpp:352] [UNILOG][INFO] Compile mode: dpu\n",
      "I20240730 12:49:28.681267  1068 compile_pass_manager.cpp:353] [UNILOG][INFO] Debug mode: null\n",
      "I20240730 12:49:28.681283  1068 compile_pass_manager.cpp:357] [UNILOG][INFO] Target architecture: DPUCZDX8G_ISA1_B4096_0101000016010407\n",
      "I20240730 12:49:28.681363  1068 compile_pass_manager.cpp:465] [UNILOG][INFO] Graph name: model_59, with op num: 7\n",
      "I20240730 12:49:28.681373  1068 compile_pass_manager.cpp:478] [UNILOG][INFO] Begin to compile...\n",
      "I20240730 12:49:28.683708  1068 compile_pass_manager.cpp:489] [UNILOG][INFO] Total device subgraph number 4, DPU subgraph number 1\n",
      "I20240730 12:49:28.683741  1068 compile_pass_manager.cpp:504] [UNILOG][INFO] Compile done.\n"
     ]
    },
    {
     "name": "stdout",
     "output_type": "stream",
     "text": [
      "[INFO] dump xmodel: /tmp/vitis-ai-user/tensorflow_model_optimization/tmp_sub_graph_xnnc_20240730-124916-522995_omlcDZ.xmodel\n",
      "[INFO] Namespace(batchsize=1, inputs_shape=None, layout='NHWC', model_files=['/tmp/vitis-ai-user/tensorflow_model_optimization/tmp_sub_graph_quantized_20240730-124916-522995_omlcDZ.h5'], model_type='tensorflow2', named_inputs_shape=None, out_filename='/tmp/vitis-ai-user/tensorflow_model_optimization/tmp_sub_graph_xnnc_20240730-124916-522995_omlcDZ.xmodel', proto=None)\n",
      "[INFO] tensorflow2 model: /tmp/vitis-ai-user/tensorflow_model_optimization/tmp_sub_graph_quantized_20240730-124916-522995_omlcDZ.h5\n",
      "[INFO] keras version: 2.12.0\n",
      "[INFO] Tensorflow Keras model type: functional\n"
     ]
    },
    {
     "name": "stderr",
     "output_type": "stream",
     "text": [
      "[INFO] parse raw model     :100%|██████████| 6/6 [00:00<00:00, 6507.84it/s]                  \n",
      "[INFO] infer shape (NHWC)  :100%|██████████| 7/7 [00:00<00:00, 892.24it/s]                   \n",
      "[INFO] perform level-0 opt :100%|██████████| 1/1 [00:00<00:00, 1987.82it/s]                  \n",
      "[INFO] perform level-1 opt :100%|██████████| 2/2 [00:00<00:00, 5596.14it/s]                  \n",
      "[INFO] generate xmodel     :100%|██████████| 7/7 [00:00<00:00, 4875.48it/s]                  "
     ]
    },
    {
     "name": "stdout",
     "output_type": "stream",
     "text": [
      "[INFO] dump xmodel: /tmp/vitis-ai-user/tensorflow_model_optimization/tmp_sub_graph_xnnc_20240730-124916-522995_omlcDZ.xmodel\n"
     ]
    },
    {
     "name": "stderr",
     "output_type": "stream",
     "text": [
      "\n",
      "I20240730 12:49:28.807348  1068 compile_pass_manager.cpp:352] [UNILOG][INFO] Compile mode: dpu\n",
      "I20240730 12:49:28.807400  1068 compile_pass_manager.cpp:353] [UNILOG][INFO] Debug mode: null\n",
      "I20240730 12:49:28.807413  1068 compile_pass_manager.cpp:357] [UNILOG][INFO] Target architecture: DPUCZDX8G_ISA1_B4096_0101000016010407\n",
      "I20240730 12:49:28.807503  1068 compile_pass_manager.cpp:465] [UNILOG][INFO] Graph name: model_60, with op num: 7\n",
      "I20240730 12:49:28.807519  1068 compile_pass_manager.cpp:478] [UNILOG][INFO] Begin to compile...\n",
      "I20240730 12:49:28.810125  1068 compile_pass_manager.cpp:489] [UNILOG][INFO] Total device subgraph number 4, DPU subgraph number 1\n",
      "I20240730 12:49:28.810163  1068 compile_pass_manager.cpp:504] [UNILOG][INFO] Compile done.\n"
     ]
    },
    {
     "name": "stdout",
     "output_type": "stream",
     "text": [
      "[INFO] Namespace(batchsize=1, inputs_shape=None, layout='NHWC', model_files=['/tmp/vitis-ai-user/tensorflow_model_optimization/tmp_sub_graph_quantized_20240730-124916-522995_omlcDZ.h5'], model_type='tensorflow2', named_inputs_shape=None, out_filename='/tmp/vitis-ai-user/tensorflow_model_optimization/tmp_sub_graph_xnnc_20240730-124916-522995_omlcDZ.xmodel', proto=None)\n",
      "[INFO] tensorflow2 model: /tmp/vitis-ai-user/tensorflow_model_optimization/tmp_sub_graph_quantized_20240730-124916-522995_omlcDZ.h5\n",
      "[INFO] keras version: 2.12.0\n",
      "[INFO] Tensorflow Keras model type: functional\n"
     ]
    },
    {
     "name": "stderr",
     "output_type": "stream",
     "text": [
      "[INFO] parse raw model     :100%|██████████| 6/6 [00:00<00:00, 6219.93it/s]                  \n",
      "[INFO] infer shape (NHWC)  :100%|██████████| 7/7 [00:00<00:00, 2140.42it/s]                  \n",
      "[INFO] perform level-0 opt :100%|██████████| 1/1 [00:00<00:00, 2042.02it/s]                  \n",
      "[INFO] perform level-1 opt :100%|██████████| 2/2 [00:00<00:00, 5008.12it/s]                  \n",
      "[INFO] generate xmodel     :100%|██████████| 7/7 [00:00<00:00, 5264.50it/s]                  \n",
      "I20240730 12:49:28.937481  1068 compile_pass_manager.cpp:352] [UNILOG][INFO] Compile mode: dpu\n",
      "I20240730 12:49:28.937537  1068 compile_pass_manager.cpp:353] [UNILOG][INFO] Debug mode: null\n",
      "I20240730 12:49:28.937549  1068 compile_pass_manager.cpp:357] [UNILOG][INFO] Target architecture: DPUCZDX8G_ISA1_B4096_0101000016010407\n",
      "I20240730 12:49:28.937691  1068 compile_pass_manager.cpp:465] [UNILOG][INFO] Graph name: model_61, with op num: 7\n",
      "I20240730 12:49:28.937706  1068 compile_pass_manager.cpp:478] [UNILOG][INFO] Begin to compile...\n",
      "I20240730 12:49:28.942375  1068 compile_pass_manager.cpp:489] [UNILOG][INFO] Total device subgraph number 4, DPU subgraph number 1\n",
      "I20240730 12:49:28.942420  1068 compile_pass_manager.cpp:504] [UNILOG][INFO] Compile done.\n"
     ]
    },
    {
     "name": "stdout",
     "output_type": "stream",
     "text": [
      "[INFO] dump xmodel: /tmp/vitis-ai-user/tensorflow_model_optimization/tmp_sub_graph_xnnc_20240730-124916-522995_omlcDZ.xmodel\n",
      "[INFO] Namespace(batchsize=1, inputs_shape=None, layout='NHWC', model_files=['/tmp/vitis-ai-user/tensorflow_model_optimization/tmp_sub_graph_quantized_20240730-124916-522995_omlcDZ.h5'], model_type='tensorflow2', named_inputs_shape=None, out_filename='/tmp/vitis-ai-user/tensorflow_model_optimization/tmp_sub_graph_xnnc_20240730-124916-522995_omlcDZ.xmodel', proto=None)\n",
      "[INFO] tensorflow2 model: /tmp/vitis-ai-user/tensorflow_model_optimization/tmp_sub_graph_quantized_20240730-124916-522995_omlcDZ.h5\n",
      "[INFO] keras version: 2.12.0\n",
      "[INFO] Tensorflow Keras model type: functional\n"
     ]
    },
    {
     "name": "stderr",
     "output_type": "stream",
     "text": [
      "[INFO] parse raw model     :100%|██████████| 6/6 [00:00<00:00, 7360.58it/s]                  \n",
      "[INFO] infer shape (NHWC)  :100%|██████████| 7/7 [00:00<00:00, 861.78it/s]                   \n",
      "[INFO] perform level-0 opt :100%|██████████| 1/1 [00:00<00:00, 1179.83it/s]                  \n",
      "[INFO] perform level-1 opt :100%|██████████| 2/2 [00:00<00:00, 5450.69it/s]                  \n",
      "[INFO] generate xmodel     :100%|██████████| 7/7 [00:00<00:00, 5075.22it/s]                  "
     ]
    },
    {
     "name": "stdout",
     "output_type": "stream",
     "text": [
      "[INFO] dump xmodel: /tmp/vitis-ai-user/tensorflow_model_optimization/tmp_sub_graph_xnnc_20240730-124916-522995_omlcDZ.xmodel\n"
     ]
    },
    {
     "name": "stderr",
     "output_type": "stream",
     "text": [
      "\n",
      "I20240730 12:49:29.081148  1068 compile_pass_manager.cpp:352] [UNILOG][INFO] Compile mode: dpu\n",
      "I20240730 12:49:29.081203  1068 compile_pass_manager.cpp:353] [UNILOG][INFO] Debug mode: null\n",
      "I20240730 12:49:29.081215  1068 compile_pass_manager.cpp:357] [UNILOG][INFO] Target architecture: DPUCZDX8G_ISA1_B4096_0101000016010407\n",
      "I20240730 12:49:29.081290  1068 compile_pass_manager.cpp:465] [UNILOG][INFO] Graph name: model_62, with op num: 7\n",
      "I20240730 12:49:29.081300  1068 compile_pass_manager.cpp:478] [UNILOG][INFO] Begin to compile...\n",
      "I20240730 12:49:29.084584  1068 compile_pass_manager.cpp:489] [UNILOG][INFO] Total device subgraph number 4, DPU subgraph number 1\n",
      "I20240730 12:49:29.084627  1068 compile_pass_manager.cpp:504] [UNILOG][INFO] Compile done.\n"
     ]
    },
    {
     "name": "stdout",
     "output_type": "stream",
     "text": [
      "[INFO] Namespace(batchsize=1, inputs_shape=None, layout='NHWC', model_files=['/tmp/vitis-ai-user/tensorflow_model_optimization/tmp_sub_graph_quantized_20240730-124916-522995_omlcDZ.h5'], model_type='tensorflow2', named_inputs_shape=None, out_filename='/tmp/vitis-ai-user/tensorflow_model_optimization/tmp_sub_graph_xnnc_20240730-124916-522995_omlcDZ.xmodel', proto=None)\n",
      "[INFO] tensorflow2 model: /tmp/vitis-ai-user/tensorflow_model_optimization/tmp_sub_graph_quantized_20240730-124916-522995_omlcDZ.h5\n",
      "[INFO] keras version: 2.12.0\n",
      "[INFO] Tensorflow Keras model type: functional\n"
     ]
    },
    {
     "name": "stderr",
     "output_type": "stream",
     "text": [
      "[INFO] parse raw model     :100%|██████████| 6/6 [00:00<00:00, 9638.39it/s]                  \n",
      "[INFO] infer shape (NHWC)  :100%|██████████| 7/7 [00:00<00:00, 970.13it/s]                   \n",
      "[INFO] perform level-0 opt :100%|██████████| 1/1 [00:00<00:00, 2341.88it/s]                  \n",
      "[INFO] perform level-1 opt :100%|██████████| 2/2 [00:00<00:00, 3697.05it/s]                  \n",
      "[INFO] generate xmodel     :100%|██████████| 7/7 [00:00<00:00, 4748.52it/s]                  "
     ]
    },
    {
     "name": "stdout",
     "output_type": "stream",
     "text": [
      "[INFO] dump xmodel: /tmp/vitis-ai-user/tensorflow_model_optimization/tmp_sub_graph_xnnc_20240730-124916-522995_omlcDZ.xmodel\n"
     ]
    },
    {
     "name": "stderr",
     "output_type": "stream",
     "text": [
      "\n",
      "I20240730 12:49:29.215377  1068 compile_pass_manager.cpp:352] [UNILOG][INFO] Compile mode: dpu\n",
      "I20240730 12:49:29.215440  1068 compile_pass_manager.cpp:353] [UNILOG][INFO] Debug mode: null\n",
      "I20240730 12:49:29.215456  1068 compile_pass_manager.cpp:357] [UNILOG][INFO] Target architecture: DPUCZDX8G_ISA1_B4096_0101000016010407\n",
      "I20240730 12:49:29.215551  1068 compile_pass_manager.cpp:465] [UNILOG][INFO] Graph name: model_63, with op num: 7\n",
      "I20240730 12:49:29.215570  1068 compile_pass_manager.cpp:478] [UNILOG][INFO] Begin to compile...\n",
      "I20240730 12:49:29.219578  1068 compile_pass_manager.cpp:489] [UNILOG][INFO] Total device subgraph number 4, DPU subgraph number 1\n",
      "I20240730 12:49:29.219695  1068 compile_pass_manager.cpp:504] [UNILOG][INFO] Compile done.\n"
     ]
    },
    {
     "name": "stdout",
     "output_type": "stream",
     "text": [
      "[INFO] Namespace(batchsize=1, inputs_shape=None, layout='NHWC', model_files=['/tmp/vitis-ai-user/tensorflow_model_optimization/tmp_sub_graph_quantized_20240730-124916-522995_omlcDZ.h5'], model_type='tensorflow2', named_inputs_shape=None, out_filename='/tmp/vitis-ai-user/tensorflow_model_optimization/tmp_sub_graph_xnnc_20240730-124916-522995_omlcDZ.xmodel', proto=None)\n",
      "[INFO] tensorflow2 model: /tmp/vitis-ai-user/tensorflow_model_optimization/tmp_sub_graph_quantized_20240730-124916-522995_omlcDZ.h5\n",
      "[INFO] keras version: 2.12.0\n",
      "[INFO] Tensorflow Keras model type: functional\n"
     ]
    },
    {
     "name": "stderr",
     "output_type": "stream",
     "text": [
      "[INFO] parse raw model     :100%|██████████| 6/6 [00:00<00:00, 10026.22it/s]                 \n",
      "[INFO] infer shape (NHWC)  :100%|██████████| 7/7 [00:00<00:00, 1032.28it/s]                  \n",
      "[INFO] perform level-0 opt :100%|██████████| 1/1 [00:00<00:00, 2388.56it/s]                  \n",
      "[INFO] perform level-1 opt :100%|██████████| 2/2 [00:00<00:00, 6915.59it/s]                  \n",
      "[INFO] generate xmodel     :100%|██████████| 7/7 [00:00<00:00, 6344.02it/s]                  "
     ]
    },
    {
     "name": "stdout",
     "output_type": "stream",
     "text": [
      "[INFO] dump xmodel: /tmp/vitis-ai-user/tensorflow_model_optimization/tmp_sub_graph_xnnc_20240730-124916-522995_omlcDZ.xmodel\n"
     ]
    },
    {
     "name": "stderr",
     "output_type": "stream",
     "text": [
      "\n",
      "I20240730 12:49:29.342453  1068 compile_pass_manager.cpp:352] [UNILOG][INFO] Compile mode: dpu\n",
      "I20240730 12:49:29.342506  1068 compile_pass_manager.cpp:353] [UNILOG][INFO] Debug mode: null\n",
      "I20240730 12:49:29.342519  1068 compile_pass_manager.cpp:357] [UNILOG][INFO] Target architecture: DPUCZDX8G_ISA1_B4096_0101000016010407\n",
      "I20240730 12:49:29.342638  1068 compile_pass_manager.cpp:465] [UNILOG][INFO] Graph name: model_64, with op num: 7\n",
      "I20240730 12:49:29.342648  1068 compile_pass_manager.cpp:478] [UNILOG][INFO] Begin to compile...\n",
      "I20240730 12:49:29.345079  1068 compile_pass_manager.cpp:489] [UNILOG][INFO] Total device subgraph number 4, DPU subgraph number 1\n",
      "I20240730 12:49:29.345116  1068 compile_pass_manager.cpp:504] [UNILOG][INFO] Compile done.\n"
     ]
    },
    {
     "name": "stdout",
     "output_type": "stream",
     "text": [
      "[INFO] Namespace(batchsize=1, inputs_shape=None, layout='NHWC', model_files=['/tmp/vitis-ai-user/tensorflow_model_optimization/tmp_sub_graph_quantized_20240730-124916-522995_omlcDZ.h5'], model_type='tensorflow2', named_inputs_shape=None, out_filename='/tmp/vitis-ai-user/tensorflow_model_optimization/tmp_sub_graph_xnnc_20240730-124916-522995_omlcDZ.xmodel', proto=None)\n",
      "[INFO] tensorflow2 model: /tmp/vitis-ai-user/tensorflow_model_optimization/tmp_sub_graph_quantized_20240730-124916-522995_omlcDZ.h5\n",
      "[INFO] keras version: 2.12.0\n",
      "[INFO] Tensorflow Keras model type: functional\n"
     ]
    },
    {
     "name": "stderr",
     "output_type": "stream",
     "text": [
      "[INFO] parse raw model     :100%|██████████| 6/6 [00:00<00:00, 8738.13it/s]                  \n",
      "[INFO] infer shape (NHWC)  :100%|██████████| 7/7 [00:00<00:00, 1894.69it/s]                  \n",
      "[INFO] perform level-0 opt :100%|██████████| 1/1 [00:00<00:00, 2336.66it/s]                  \n",
      "[INFO] perform level-1 opt :100%|██████████| 2/2 [00:00<00:00, 6078.70it/s]                  \n",
      "[INFO] generate xmodel     :100%|██████████| 7/7 [00:00<00:00, 4378.19it/s]                  "
     ]
    },
    {
     "name": "stdout",
     "output_type": "stream",
     "text": [
      "[INFO] dump xmodel: /tmp/vitis-ai-user/tensorflow_model_optimization/tmp_sub_graph_xnnc_20240730-124916-522995_omlcDZ.xmodel\n"
     ]
    },
    {
     "name": "stderr",
     "output_type": "stream",
     "text": [
      "\n",
      "I20240730 12:49:29.461654  1068 compile_pass_manager.cpp:352] [UNILOG][INFO] Compile mode: dpu\n",
      "I20240730 12:49:29.461705  1068 compile_pass_manager.cpp:353] [UNILOG][INFO] Debug mode: null\n",
      "I20240730 12:49:29.461719  1068 compile_pass_manager.cpp:357] [UNILOG][INFO] Target architecture: DPUCZDX8G_ISA1_B4096_0101000016010407\n",
      "I20240730 12:49:29.461802  1068 compile_pass_manager.cpp:465] [UNILOG][INFO] Graph name: model_65, with op num: 7\n",
      "I20240730 12:49:29.461810  1068 compile_pass_manager.cpp:478] [UNILOG][INFO] Begin to compile...\n",
      "I20240730 12:49:29.464105  1068 compile_pass_manager.cpp:489] [UNILOG][INFO] Total device subgraph number 4, DPU subgraph number 1\n",
      "I20240730 12:49:29.464150  1068 compile_pass_manager.cpp:504] [UNILOG][INFO] Compile done.\n"
     ]
    },
    {
     "name": "stdout",
     "output_type": "stream",
     "text": [
      "[INFO] Namespace(batchsize=1, inputs_shape=None, layout='NHWC', model_files=['/tmp/vitis-ai-user/tensorflow_model_optimization/tmp_sub_graph_quantized_20240730-124916-522995_omlcDZ.h5'], model_type='tensorflow2', named_inputs_shape=None, out_filename='/tmp/vitis-ai-user/tensorflow_model_optimization/tmp_sub_graph_xnnc_20240730-124916-522995_omlcDZ.xmodel', proto=None)\n",
      "[INFO] tensorflow2 model: /tmp/vitis-ai-user/tensorflow_model_optimization/tmp_sub_graph_quantized_20240730-124916-522995_omlcDZ.h5\n",
      "[INFO] keras version: 2.12.0\n",
      "[INFO] Tensorflow Keras model type: functional\n"
     ]
    },
    {
     "name": "stderr",
     "output_type": "stream",
     "text": [
      "[INFO] parse raw model     :100%|██████████| 6/6 [00:00<00:00, 9660.59it/s]                  \n",
      "[INFO] infer shape (NHWC)  :100%|██████████| 7/7 [00:00<00:00, 4386.04it/s]                  \n",
      "[INFO] perform level-0 opt :100%|██████████| 1/1 [00:00<00:00, 1728.18it/s]                  \n",
      "[INFO] perform level-1 opt :100%|██████████| 2/2 [00:00<00:00, 6765.01it/s]                  \n",
      "[INFO] generate xmodel     :100%|██████████| 7/7 [00:00<00:00, 5827.73it/s]                  "
     ]
    },
    {
     "name": "stdout",
     "output_type": "stream",
     "text": [
      "[INFO] dump xmodel: /tmp/vitis-ai-user/tensorflow_model_optimization/tmp_sub_graph_xnnc_20240730-124916-522995_omlcDZ.xmodel\n"
     ]
    },
    {
     "name": "stderr",
     "output_type": "stream",
     "text": [
      "\n",
      "I20240730 12:49:29.579847  1068 compile_pass_manager.cpp:352] [UNILOG][INFO] Compile mode: dpu\n",
      "I20240730 12:49:29.579911  1068 compile_pass_manager.cpp:353] [UNILOG][INFO] Debug mode: null\n",
      "I20240730 12:49:29.579931  1068 compile_pass_manager.cpp:357] [UNILOG][INFO] Target architecture: DPUCZDX8G_ISA1_B4096_0101000016010407\n",
      "I20240730 12:49:29.580024  1068 compile_pass_manager.cpp:465] [UNILOG][INFO] Graph name: model_66, with op num: 7\n",
      "I20240730 12:49:29.580041  1068 compile_pass_manager.cpp:478] [UNILOG][INFO] Begin to compile...\n",
      "I20240730 12:49:29.583030  1068 compile_pass_manager.cpp:489] [UNILOG][INFO] Total device subgraph number 4, DPU subgraph number 1\n",
      "I20240730 12:49:29.583074  1068 compile_pass_manager.cpp:504] [UNILOG][INFO] Compile done.\n"
     ]
    },
    {
     "name": "stdout",
     "output_type": "stream",
     "text": [
      "[INFO] Namespace(batchsize=1, inputs_shape=None, layout='NHWC', model_files=['/tmp/vitis-ai-user/tensorflow_model_optimization/tmp_sub_graph_quantized_20240730-124916-522995_omlcDZ.h5'], model_type='tensorflow2', named_inputs_shape=None, out_filename='/tmp/vitis-ai-user/tensorflow_model_optimization/tmp_sub_graph_xnnc_20240730-124916-522995_omlcDZ.xmodel', proto=None)\n",
      "[INFO] tensorflow2 model: /tmp/vitis-ai-user/tensorflow_model_optimization/tmp_sub_graph_quantized_20240730-124916-522995_omlcDZ.h5\n",
      "[INFO] keras version: 2.12.0\n",
      "[INFO] Tensorflow Keras model type: functional\n"
     ]
    },
    {
     "name": "stderr",
     "output_type": "stream",
     "text": [
      "[INFO] parse raw model     :100%|██████████| 6/6 [00:00<00:00, 7593.79it/s]                  \n",
      "[INFO] infer shape (NHWC)  :100%|██████████| 7/7 [00:00<00:00, 4257.56it/s]                  \n",
      "[INFO] perform level-0 opt :100%|██████████| 1/1 [00:00<00:00, 1996.34it/s]                  \n",
      "[INFO] perform level-1 opt :100%|██████████| 2/2 [00:00<00:00, 5932.54it/s]                  \n",
      "[INFO] generate xmodel     :100%|██████████| 7/7 [00:00<00:00, 5096.36it/s]                  "
     ]
    },
    {
     "name": "stdout",
     "output_type": "stream",
     "text": [
      "[INFO] dump xmodel: /tmp/vitis-ai-user/tensorflow_model_optimization/tmp_sub_graph_xnnc_20240730-124916-522995_omlcDZ.xmodel\n"
     ]
    },
    {
     "name": "stderr",
     "output_type": "stream",
     "text": [
      "\n",
      "I20240730 12:49:29.700214  1068 compile_pass_manager.cpp:352] [UNILOG][INFO] Compile mode: dpu\n",
      "I20240730 12:49:29.700264  1068 compile_pass_manager.cpp:353] [UNILOG][INFO] Debug mode: null\n",
      "I20240730 12:49:29.700276  1068 compile_pass_manager.cpp:357] [UNILOG][INFO] Target architecture: DPUCZDX8G_ISA1_B4096_0101000016010407\n",
      "I20240730 12:49:29.700352  1068 compile_pass_manager.cpp:465] [UNILOG][INFO] Graph name: model_67, with op num: 7\n",
      "I20240730 12:49:29.700362  1068 compile_pass_manager.cpp:478] [UNILOG][INFO] Begin to compile...\n",
      "I20240730 12:49:29.703038  1068 compile_pass_manager.cpp:489] [UNILOG][INFO] Total device subgraph number 4, DPU subgraph number 1\n",
      "I20240730 12:49:29.703083  1068 compile_pass_manager.cpp:504] [UNILOG][INFO] Compile done.\n"
     ]
    },
    {
     "name": "stdout",
     "output_type": "stream",
     "text": [
      "[INFO] Namespace(batchsize=1, inputs_shape=None, layout='NHWC', model_files=['/tmp/vitis-ai-user/tensorflow_model_optimization/tmp_sub_graph_quantized_20240730-124916-522995_omlcDZ.h5'], model_type='tensorflow2', named_inputs_shape=None, out_filename='/tmp/vitis-ai-user/tensorflow_model_optimization/tmp_sub_graph_xnnc_20240730-124916-522995_omlcDZ.xmodel', proto=None)\n",
      "[INFO] tensorflow2 model: /tmp/vitis-ai-user/tensorflow_model_optimization/tmp_sub_graph_quantized_20240730-124916-522995_omlcDZ.h5\n",
      "[INFO] keras version: 2.12.0\n",
      "[INFO] Tensorflow Keras model type: functional\n"
     ]
    },
    {
     "name": "stderr",
     "output_type": "stream",
     "text": [
      "[INFO] parse raw model     :100%|██████████| 6/6 [00:00<00:00, 9091.70it/s]                  \n",
      "[INFO] infer shape (NHWC)  :100%|██████████| 7/7 [00:00<00:00, 4441.77it/s]                  \n",
      "[INFO] perform level-0 opt :100%|██████████| 1/1 [00:00<00:00, 2264.74it/s]                  \n",
      "[INFO] perform level-1 opt :100%|██████████| 2/2 [00:00<00:00, 6250.83it/s]                  \n",
      "[INFO] generate xmodel     :100%|██████████| 7/7 [00:00<00:00, 6698.64it/s]                  "
     ]
    },
    {
     "name": "stdout",
     "output_type": "stream",
     "text": [
      "[INFO] dump xmodel: /tmp/vitis-ai-user/tensorflow_model_optimization/tmp_sub_graph_xnnc_20240730-124916-522995_omlcDZ.xmodel\n"
     ]
    },
    {
     "name": "stderr",
     "output_type": "stream",
     "text": [
      "\n",
      "I20240730 12:49:29.821609  1068 compile_pass_manager.cpp:352] [UNILOG][INFO] Compile mode: dpu\n",
      "I20240730 12:49:29.821655  1068 compile_pass_manager.cpp:353] [UNILOG][INFO] Debug mode: null\n",
      "I20240730 12:49:29.821668  1068 compile_pass_manager.cpp:357] [UNILOG][INFO] Target architecture: DPUCZDX8G_ISA1_B4096_0101000016010407\n",
      "I20240730 12:49:29.821744  1068 compile_pass_manager.cpp:465] [UNILOG][INFO] Graph name: model_68, with op num: 7\n",
      "I20240730 12:49:29.821753  1068 compile_pass_manager.cpp:478] [UNILOG][INFO] Begin to compile...\n",
      "I20240730 12:49:29.824693  1068 compile_pass_manager.cpp:489] [UNILOG][INFO] Total device subgraph number 4, DPU subgraph number 1\n",
      "I20240730 12:49:29.824743  1068 compile_pass_manager.cpp:504] [UNILOG][INFO] Compile done.\n"
     ]
    },
    {
     "name": "stdout",
     "output_type": "stream",
     "text": [
      "[INFO] Namespace(batchsize=1, inputs_shape=None, layout='NHWC', model_files=['/tmp/vitis-ai-user/tensorflow_model_optimization/tmp_sub_graph_quantized_20240730-124916-522995_omlcDZ.h5'], model_type='tensorflow2', named_inputs_shape=None, out_filename='/tmp/vitis-ai-user/tensorflow_model_optimization/tmp_sub_graph_xnnc_20240730-124916-522995_omlcDZ.xmodel', proto=None)\n",
      "[INFO] tensorflow2 model: /tmp/vitis-ai-user/tensorflow_model_optimization/tmp_sub_graph_quantized_20240730-124916-522995_omlcDZ.h5\n",
      "[INFO] keras version: 2.12.0\n",
      "[INFO] Tensorflow Keras model type: functional\n"
     ]
    },
    {
     "name": "stderr",
     "output_type": "stream",
     "text": [
      "[INFO] parse raw model     :100%|██████████| 6/6 [00:00<00:00, 8032.50it/s]                  \n",
      "[INFO] infer shape (NHWC)  :100%|██████████| 7/7 [00:00<00:00, 4629.47it/s]                  \n",
      "[INFO] perform level-0 opt :100%|██████████| 1/1 [00:00<00:00, 1736.77it/s]                  \n",
      "[INFO] perform level-1 opt :100%|██████████| 2/2 [00:00<00:00, 5295.84it/s]                  \n",
      "[INFO] generate xmodel     :100%|██████████| 7/7 [00:00<00:00, 6155.16it/s]                  "
     ]
    },
    {
     "name": "stdout",
     "output_type": "stream",
     "text": [
      "[INFO] dump xmodel: /tmp/vitis-ai-user/tensorflow_model_optimization/tmp_sub_graph_xnnc_20240730-124916-522995_omlcDZ.xmodel\n"
     ]
    },
    {
     "name": "stderr",
     "output_type": "stream",
     "text": [
      "\n",
      "I20240730 12:49:29.939148  1068 compile_pass_manager.cpp:352] [UNILOG][INFO] Compile mode: dpu\n",
      "I20240730 12:49:29.939195  1068 compile_pass_manager.cpp:353] [UNILOG][INFO] Debug mode: null\n",
      "I20240730 12:49:29.939208  1068 compile_pass_manager.cpp:357] [UNILOG][INFO] Target architecture: DPUCZDX8G_ISA1_B4096_0101000016010407\n",
      "I20240730 12:49:29.939280  1068 compile_pass_manager.cpp:465] [UNILOG][INFO] Graph name: model_69, with op num: 7\n",
      "I20240730 12:49:29.939289  1068 compile_pass_manager.cpp:478] [UNILOG][INFO] Begin to compile...\n",
      "I20240730 12:49:29.941769  1068 compile_pass_manager.cpp:489] [UNILOG][INFO] Total device subgraph number 4, DPU subgraph number 1\n",
      "I20240730 12:49:29.941807  1068 compile_pass_manager.cpp:504] [UNILOG][INFO] Compile done.\n"
     ]
    },
    {
     "name": "stdout",
     "output_type": "stream",
     "text": [
      "[INFO] Namespace(batchsize=1, inputs_shape=None, layout='NHWC', model_files=['/tmp/vitis-ai-user/tensorflow_model_optimization/tmp_sub_graph_quantized_20240730-124916-522995_omlcDZ.h5'], model_type='tensorflow2', named_inputs_shape=None, out_filename='/tmp/vitis-ai-user/tensorflow_model_optimization/tmp_sub_graph_xnnc_20240730-124916-522995_omlcDZ.xmodel', proto=None)\n",
      "[INFO] tensorflow2 model: /tmp/vitis-ai-user/tensorflow_model_optimization/tmp_sub_graph_quantized_20240730-124916-522995_omlcDZ.h5\n",
      "[INFO] keras version: 2.12.0\n",
      "[INFO] Tensorflow Keras model type: functional\n"
     ]
    },
    {
     "name": "stderr",
     "output_type": "stream",
     "text": [
      "[INFO] parse raw model     :100%|██████████| 6/6 [00:00<00:00, 7559.57it/s]                  \n",
      "[INFO] infer shape (NHWC)  :100%|██████████| 7/7 [00:00<00:00, 4373.62it/s]                  \n",
      "[INFO] perform level-0 opt :100%|██████████| 1/1 [00:00<00:00, 2234.58it/s]                  \n",
      "[INFO] perform level-1 opt :100%|██████████| 2/2 [00:00<00:00, 6452.78it/s]                  \n",
      "[INFO] generate xmodel     :100%|██████████| 7/7 [00:00<00:00, 5696.57it/s]                  "
     ]
    },
    {
     "name": "stdout",
     "output_type": "stream",
     "text": [
      "[INFO] dump xmodel: /tmp/vitis-ai-user/tensorflow_model_optimization/tmp_sub_graph_xnnc_20240730-124916-522995_omlcDZ.xmodel\n"
     ]
    },
    {
     "name": "stderr",
     "output_type": "stream",
     "text": [
      "\n",
      "I20240730 12:49:30.056850  1068 compile_pass_manager.cpp:352] [UNILOG][INFO] Compile mode: dpu\n",
      "I20240730 12:49:30.056911  1068 compile_pass_manager.cpp:353] [UNILOG][INFO] Debug mode: null\n",
      "I20240730 12:49:30.056928  1068 compile_pass_manager.cpp:357] [UNILOG][INFO] Target architecture: DPUCZDX8G_ISA1_B4096_0101000016010407\n",
      "I20240730 12:49:30.057031  1068 compile_pass_manager.cpp:465] [UNILOG][INFO] Graph name: model_70, with op num: 7\n",
      "I20240730 12:49:30.057046  1068 compile_pass_manager.cpp:478] [UNILOG][INFO] Begin to compile...\n",
      "I20240730 12:49:30.061530  1068 compile_pass_manager.cpp:489] [UNILOG][INFO] Total device subgraph number 4, DPU subgraph number 1\n",
      "I20240730 12:49:30.061592  1068 compile_pass_manager.cpp:504] [UNILOG][INFO] Compile done.\n"
     ]
    },
    {
     "name": "stdout",
     "output_type": "stream",
     "text": [
      "[INFO] Namespace(batchsize=1, inputs_shape=None, layout='NHWC', model_files=['/tmp/vitis-ai-user/tensorflow_model_optimization/tmp_sub_graph_quantized_20240730-124916-522995_omlcDZ.h5'], model_type='tensorflow2', named_inputs_shape=None, out_filename='/tmp/vitis-ai-user/tensorflow_model_optimization/tmp_sub_graph_xnnc_20240730-124916-522995_omlcDZ.xmodel', proto=None)\n",
      "[INFO] tensorflow2 model: /tmp/vitis-ai-user/tensorflow_model_optimization/tmp_sub_graph_quantized_20240730-124916-522995_omlcDZ.h5\n",
      "[INFO] keras version: 2.12.0\n",
      "[INFO] Tensorflow Keras model type: functional\n"
     ]
    },
    {
     "name": "stderr",
     "output_type": "stream",
     "text": [
      "[INFO] parse raw model     :100%|██████████| 6/6 [00:00<00:00, 9289.71it/s]                  \n",
      "[INFO] infer shape (NHWC)  :100%|██████████| 7/7 [00:00<00:00, 3548.05it/s]                  \n",
      "[INFO] perform level-0 opt :100%|██████████| 1/1 [00:00<00:00, 2131.25it/s]                  \n",
      "[INFO] perform level-1 opt :100%|██████████| 2/2 [00:00<00:00, 6775.94it/s]                  \n",
      "[INFO] generate xmodel     :100%|██████████| 7/7 [00:00<00:00, 5261.67it/s]                  "
     ]
    },
    {
     "name": "stdout",
     "output_type": "stream",
     "text": [
      "[INFO] dump xmodel: /tmp/vitis-ai-user/tensorflow_model_optimization/tmp_sub_graph_xnnc_20240730-124916-522995_omlcDZ.xmodel\n"
     ]
    },
    {
     "name": "stderr",
     "output_type": "stream",
     "text": [
      "\n",
      "I20240730 12:49:30.189821  1068 compile_pass_manager.cpp:352] [UNILOG][INFO] Compile mode: dpu\n",
      "I20240730 12:49:30.189886  1068 compile_pass_manager.cpp:353] [UNILOG][INFO] Debug mode: null\n",
      "I20240730 12:49:30.189903  1068 compile_pass_manager.cpp:357] [UNILOG][INFO] Target architecture: DPUCZDX8G_ISA1_B4096_0101000016010407\n",
      "I20240730 12:49:30.189994  1068 compile_pass_manager.cpp:465] [UNILOG][INFO] Graph name: model_71, with op num: 7\n",
      "I20240730 12:49:30.190008  1068 compile_pass_manager.cpp:478] [UNILOG][INFO] Begin to compile...\n",
      "I20240730 12:49:30.193533  1068 compile_pass_manager.cpp:489] [UNILOG][INFO] Total device subgraph number 4, DPU subgraph number 1\n",
      "I20240730 12:49:30.193579  1068 compile_pass_manager.cpp:504] [UNILOG][INFO] Compile done.\n"
     ]
    },
    {
     "name": "stdout",
     "output_type": "stream",
     "text": [
      "[INFO] Namespace(batchsize=1, inputs_shape=None, layout='NHWC', model_files=['/tmp/vitis-ai-user/tensorflow_model_optimization/tmp_sub_graph_quantized_20240730-124916-522995_omlcDZ.h5'], model_type='tensorflow2', named_inputs_shape=None, out_filename='/tmp/vitis-ai-user/tensorflow_model_optimization/tmp_sub_graph_xnnc_20240730-124916-522995_omlcDZ.xmodel', proto=None)\n",
      "[INFO] tensorflow2 model: /tmp/vitis-ai-user/tensorflow_model_optimization/tmp_sub_graph_quantized_20240730-124916-522995_omlcDZ.h5\n",
      "[INFO] keras version: 2.12.0\n",
      "[INFO] Tensorflow Keras model type: functional\n"
     ]
    },
    {
     "name": "stderr",
     "output_type": "stream",
     "text": [
      "[INFO] parse raw model     :100%|██████████| 6/6 [00:00<00:00, 9016.78it/s]                  \n",
      "[INFO] infer shape (NHWC)  :100%|██████████| 7/7 [00:00<00:00, 6761.89it/s]                  \n",
      "[INFO] perform level-0 opt :100%|██████████| 1/1 [00:00<00:00, 2078.45it/s]                  \n",
      "[INFO] perform level-1 opt :100%|██████████| 2/2 [00:00<00:00, 7067.07it/s]                  \n",
      "[INFO] generate xmodel     :100%|██████████| 7/7 [00:00<00:00, 5402.05it/s]                  "
     ]
    },
    {
     "name": "stdout",
     "output_type": "stream",
     "text": [
      "[INFO] dump xmodel: /tmp/vitis-ai-user/tensorflow_model_optimization/tmp_sub_graph_xnnc_20240730-124916-522995_omlcDZ.xmodel\n"
     ]
    },
    {
     "name": "stderr",
     "output_type": "stream",
     "text": [
      "\n",
      "I20240730 12:49:30.310796  1068 compile_pass_manager.cpp:352] [UNILOG][INFO] Compile mode: dpu\n",
      "I20240730 12:49:30.310855  1068 compile_pass_manager.cpp:353] [UNILOG][INFO] Debug mode: null\n",
      "I20240730 12:49:30.310873  1068 compile_pass_manager.cpp:357] [UNILOG][INFO] Target architecture: DPUCZDX8G_ISA1_B4096_0101000016010407\n",
      "I20240730 12:49:30.310957  1068 compile_pass_manager.cpp:465] [UNILOG][INFO] Graph name: model_72, with op num: 7\n",
      "I20240730 12:49:30.310971  1068 compile_pass_manager.cpp:478] [UNILOG][INFO] Begin to compile...\n",
      "I20240730 12:49:30.313539  1068 compile_pass_manager.cpp:489] [UNILOG][INFO] Total device subgraph number 4, DPU subgraph number 1\n",
      "I20240730 12:49:30.313578  1068 compile_pass_manager.cpp:504] [UNILOG][INFO] Compile done.\n"
     ]
    },
    {
     "name": "stdout",
     "output_type": "stream",
     "text": [
      "[INFO] Namespace(batchsize=1, inputs_shape=None, layout='NHWC', model_files=['/tmp/vitis-ai-user/tensorflow_model_optimization/tmp_sub_graph_quantized_20240730-124916-522995_omlcDZ.h5'], model_type='tensorflow2', named_inputs_shape=None, out_filename='/tmp/vitis-ai-user/tensorflow_model_optimization/tmp_sub_graph_xnnc_20240730-124916-522995_omlcDZ.xmodel', proto=None)\n",
      "[INFO] tensorflow2 model: /tmp/vitis-ai-user/tensorflow_model_optimization/tmp_sub_graph_quantized_20240730-124916-522995_omlcDZ.h5\n",
      "[INFO] keras version: 2.12.0\n",
      "[INFO] Tensorflow Keras model type: functional\n"
     ]
    },
    {
     "name": "stderr",
     "output_type": "stream",
     "text": [
      "[INFO] parse raw model     :100%|██████████| 6/6 [00:00<00:00, 8621.39it/s]                  \n",
      "[INFO] infer shape (NHWC)  :100%|██████████| 7/7 [00:00<00:00, 5886.15it/s]                  \n",
      "[INFO] perform level-0 opt :100%|██████████| 1/1 [00:00<00:00, 1606.40it/s]                  \n",
      "[INFO] perform level-1 opt :100%|██████████| 2/2 [00:00<00:00, 5761.41it/s]                  \n",
      "[INFO] generate xmodel     :100%|██████████| 7/7 [00:00<00:00, 6929.46it/s]                  "
     ]
    },
    {
     "name": "stdout",
     "output_type": "stream",
     "text": [
      "[INFO] dump xmodel: /tmp/vitis-ai-user/tensorflow_model_optimization/tmp_sub_graph_xnnc_20240730-124916-522995_omlcDZ.xmodel\n"
     ]
    },
    {
     "name": "stderr",
     "output_type": "stream",
     "text": [
      "\n",
      "I20240730 12:49:30.432960  1068 compile_pass_manager.cpp:352] [UNILOG][INFO] Compile mode: dpu\n",
      "I20240730 12:49:30.433012  1068 compile_pass_manager.cpp:353] [UNILOG][INFO] Debug mode: null\n",
      "I20240730 12:49:30.433023  1068 compile_pass_manager.cpp:357] [UNILOG][INFO] Target architecture: DPUCZDX8G_ISA1_B4096_0101000016010407\n",
      "I20240730 12:49:30.433107  1068 compile_pass_manager.cpp:465] [UNILOG][INFO] Graph name: model_73, with op num: 7\n",
      "I20240730 12:49:30.433123  1068 compile_pass_manager.cpp:478] [UNILOG][INFO] Begin to compile...\n",
      "I20240730 12:49:30.435675  1068 compile_pass_manager.cpp:489] [UNILOG][INFO] Total device subgraph number 4, DPU subgraph number 1\n",
      "I20240730 12:49:30.435716  1068 compile_pass_manager.cpp:504] [UNILOG][INFO] Compile done.\n"
     ]
    },
    {
     "name": "stdout",
     "output_type": "stream",
     "text": [
      "[INFO] Namespace(batchsize=1, inputs_shape=None, layout='NHWC', model_files=['/tmp/vitis-ai-user/tensorflow_model_optimization/tmp_sub_graph_quantized_20240730-124916-522995_omlcDZ.h5'], model_type='tensorflow2', named_inputs_shape=None, out_filename='/tmp/vitis-ai-user/tensorflow_model_optimization/tmp_sub_graph_xnnc_20240730-124916-522995_omlcDZ.xmodel', proto=None)\n",
      "[INFO] tensorflow2 model: /tmp/vitis-ai-user/tensorflow_model_optimization/tmp_sub_graph_quantized_20240730-124916-522995_omlcDZ.h5\n",
      "[INFO] keras version: 2.12.0\n",
      "[INFO] Tensorflow Keras model type: functional\n"
     ]
    },
    {
     "name": "stderr",
     "output_type": "stream",
     "text": [
      "[INFO] parse raw model     :100%|██████████| 6/6 [00:00<00:00, 10006.29it/s]                 \n",
      "[INFO] infer shape (NHWC)  :100%|██████████| 7/7 [00:00<00:00, 5521.93it/s]                  \n",
      "[INFO] perform level-0 opt :100%|██████████| 1/1 [00:00<00:00, 1580.37it/s]                  \n",
      "[INFO] perform level-1 opt :100%|██████████| 2/2 [00:00<00:00, 6213.78it/s]                  \n",
      "[INFO] generate xmodel     :100%|██████████| 7/7 [00:00<00:00, 5187.30it/s]                  "
     ]
    },
    {
     "name": "stdout",
     "output_type": "stream",
     "text": [
      "[INFO] dump xmodel: /tmp/vitis-ai-user/tensorflow_model_optimization/tmp_sub_graph_xnnc_20240730-124916-522995_omlcDZ.xmodel\n"
     ]
    },
    {
     "name": "stderr",
     "output_type": "stream",
     "text": [
      "\n",
      "I20240730 12:49:30.552305  1068 compile_pass_manager.cpp:352] [UNILOG][INFO] Compile mode: dpu\n",
      "I20240730 12:49:30.552353  1068 compile_pass_manager.cpp:353] [UNILOG][INFO] Debug mode: null\n",
      "I20240730 12:49:30.552371  1068 compile_pass_manager.cpp:357] [UNILOG][INFO] Target architecture: DPUCZDX8G_ISA1_B4096_0101000016010407\n",
      "I20240730 12:49:30.552448  1068 compile_pass_manager.cpp:465] [UNILOG][INFO] Graph name: model_74, with op num: 7\n",
      "I20240730 12:49:30.552457  1068 compile_pass_manager.cpp:478] [UNILOG][INFO] Begin to compile...\n",
      "I20240730 12:49:30.555157  1068 compile_pass_manager.cpp:489] [UNILOG][INFO] Total device subgraph number 4, DPU subgraph number 1\n",
      "I20240730 12:49:30.555207  1068 compile_pass_manager.cpp:504] [UNILOG][INFO] Compile done.\n"
     ]
    },
    {
     "name": "stdout",
     "output_type": "stream",
     "text": [
      "[VAI INFO] Inspect Results:\n",
      "[MODEL INFO]:\n",
      "________________________________________________________________________________________________________________________\n",
      "Model Name: model\n",
      "________________________________________________________________________________________________________________________\n",
      "ID          Name                    Type                    Device      Notes                                           \n",
      "========================================================================================================================\n",
      "0/177       input_wrapper_for_input_InputLayer              INPUT                                                       \n",
      "            1                                                                                                           \n",
      "------------------------------------------------------------------------------------------------------------------------\n",
      "1/177       conv1_pad               ZeroPadding2D           DPU                                                         \n",
      "------------------------------------------------------------------------------------------------------------------------\n",
      "2/177       conv1_conv              Conv2D<linear>          DPU                                                         \n",
      "------------------------------------------------------------------------------------------------------------------------\n",
      "3/177       conv1_bn                BatchNormalization      DPU                                                         \n",
      "------------------------------------------------------------------------------------------------------------------------\n",
      "4/177       conv1_relu              Activation<relu>        DPU                                                         \n",
      "------------------------------------------------------------------------------------------------------------------------\n",
      "5/177       pool1_pad               ZeroPadding2D           DPU                                                         \n",
      "------------------------------------------------------------------------------------------------------------------------\n",
      "6/177       pool1_pool              MaxPooling2D            DPU                                                         \n",
      "------------------------------------------------------------------------------------------------------------------------\n",
      "7/177       conv2_block1_1_conv     Conv2D<linear>          DPU                                                         \n",
      "------------------------------------------------------------------------------------------------------------------------\n",
      "8/177       conv2_block1_1_bn       BatchNormalization      DPU                                                         \n",
      "------------------------------------------------------------------------------------------------------------------------\n",
      "9/177       conv2_block1_1_relu     Activation<relu>        DPU                                                         \n",
      "------------------------------------------------------------------------------------------------------------------------\n",
      "10/177      conv2_block1_2_conv     Conv2D<linear>          DPU                                                         \n",
      "------------------------------------------------------------------------------------------------------------------------\n",
      "11/177      conv2_block1_2_bn       BatchNormalization      DPU                                                         \n",
      "------------------------------------------------------------------------------------------------------------------------\n",
      "12/177      conv2_block1_2_relu     Activation<relu>        DPU                                                         \n",
      "------------------------------------------------------------------------------------------------------------------------\n",
      "13/177      conv2_block1_0_conv     Conv2D<linear>          DPU                                                         \n",
      "------------------------------------------------------------------------------------------------------------------------\n",
      "14/177      conv2_block1_3_conv     Conv2D<linear>          DPU                                                         \n",
      "------------------------------------------------------------------------------------------------------------------------\n",
      "15/177      conv2_block1_0_bn       BatchNormalization      DPU                                                         \n",
      "------------------------------------------------------------------------------------------------------------------------\n",
      "16/177      conv2_block1_3_bn       BatchNormalization      DPU                                                         \n",
      "------------------------------------------------------------------------------------------------------------------------\n",
      "17/177      conv2_block1_add        Add                     DPU                                                         \n",
      "------------------------------------------------------------------------------------------------------------------------\n",
      "18/177      conv2_block1_out        Activation<relu>        DPU                                                         \n",
      "------------------------------------------------------------------------------------------------------------------------\n",
      "19/177      conv2_block2_1_conv     Conv2D<linear>          DPU                                                         \n",
      "------------------------------------------------------------------------------------------------------------------------\n",
      "20/177      conv2_block2_1_bn       BatchNormalization      DPU                                                         \n",
      "------------------------------------------------------------------------------------------------------------------------\n",
      "21/177      conv2_block2_1_relu     Activation<relu>        DPU                                                         \n",
      "------------------------------------------------------------------------------------------------------------------------\n",
      "22/177      conv2_block2_2_conv     Conv2D<linear>          DPU                                                         \n",
      "------------------------------------------------------------------------------------------------------------------------\n",
      "23/177      conv2_block2_2_bn       BatchNormalization      DPU                                                         \n",
      "------------------------------------------------------------------------------------------------------------------------\n",
      "24/177      conv2_block2_2_relu     Activation<relu>        DPU                                                         \n",
      "------------------------------------------------------------------------------------------------------------------------\n",
      "25/177      conv2_block2_3_conv     Conv2D<linear>          DPU                                                         \n",
      "------------------------------------------------------------------------------------------------------------------------\n",
      "26/177      conv2_block2_3_bn       BatchNormalization      DPU                                                         \n",
      "------------------------------------------------------------------------------------------------------------------------\n",
      "27/177      conv2_block2_add        Add                     DPU                                                         \n",
      "------------------------------------------------------------------------------------------------------------------------\n",
      "28/177      conv2_block2_out        Activation<relu>        DPU                                                         \n",
      "------------------------------------------------------------------------------------------------------------------------\n",
      "29/177      conv2_block3_1_conv     Conv2D<linear>          DPU                                                         \n",
      "------------------------------------------------------------------------------------------------------------------------\n",
      "30/177      conv2_block3_1_bn       BatchNormalization      DPU                                                         \n",
      "------------------------------------------------------------------------------------------------------------------------\n",
      "31/177      conv2_block3_1_relu     Activation<relu>        DPU                                                         \n",
      "------------------------------------------------------------------------------------------------------------------------\n",
      "32/177      conv2_block3_2_conv     Conv2D<linear>          DPU                                                         \n",
      "------------------------------------------------------------------------------------------------------------------------\n",
      "33/177      conv2_block3_2_bn       BatchNormalization      DPU                                                         \n",
      "------------------------------------------------------------------------------------------------------------------------\n",
      "34/177      conv2_block3_2_relu     Activation<relu>        DPU                                                         \n",
      "------------------------------------------------------------------------------------------------------------------------\n",
      "35/177      conv2_block3_3_conv     Conv2D<linear>          DPU                                                         \n",
      "------------------------------------------------------------------------------------------------------------------------\n",
      "36/177      conv2_block3_3_bn       BatchNormalization      DPU                                                         \n",
      "------------------------------------------------------------------------------------------------------------------------\n",
      "37/177      conv2_block3_add        Add                     DPU                                                         \n",
      "------------------------------------------------------------------------------------------------------------------------\n",
      "38/177      conv2_block3_out        Activation<relu>        DPU                                                         \n",
      "------------------------------------------------------------------------------------------------------------------------\n",
      "39/177      conv3_block1_1_conv     Conv2D<linear>          DPU                                                         \n",
      "------------------------------------------------------------------------------------------------------------------------\n",
      "40/177      conv3_block1_1_bn       BatchNormalization      DPU                                                         \n",
      "------------------------------------------------------------------------------------------------------------------------\n",
      "41/177      conv3_block1_1_relu     Activation<relu>        DPU                                                         \n",
      "------------------------------------------------------------------------------------------------------------------------\n",
      "42/177      conv3_block1_2_conv     Conv2D<linear>          DPU                                                         \n",
      "------------------------------------------------------------------------------------------------------------------------\n",
      "43/177      conv3_block1_2_bn       BatchNormalization      DPU                                                         \n",
      "------------------------------------------------------------------------------------------------------------------------\n",
      "44/177      conv3_block1_2_relu     Activation<relu>        DPU                                                         \n",
      "------------------------------------------------------------------------------------------------------------------------\n",
      "45/177      conv3_block1_0_conv     Conv2D<linear>          DPU                                                         \n",
      "------------------------------------------------------------------------------------------------------------------------\n",
      "46/177      conv3_block1_3_conv     Conv2D<linear>          DPU                                                         \n",
      "------------------------------------------------------------------------------------------------------------------------\n",
      "47/177      conv3_block1_0_bn       BatchNormalization      DPU                                                         \n",
      "------------------------------------------------------------------------------------------------------------------------\n",
      "48/177      conv3_block1_3_bn       BatchNormalization      DPU                                                         \n",
      "------------------------------------------------------------------------------------------------------------------------\n",
      "49/177      conv3_block1_add        Add                     DPU                                                         \n",
      "------------------------------------------------------------------------------------------------------------------------\n",
      "50/177      conv3_block1_out        Activation<relu>        DPU                                                         \n",
      "------------------------------------------------------------------------------------------------------------------------\n",
      "51/177      conv3_block2_1_conv     Conv2D<linear>          DPU                                                         \n",
      "------------------------------------------------------------------------------------------------------------------------\n",
      "52/177      conv3_block2_1_bn       BatchNormalization      DPU                                                         \n",
      "------------------------------------------------------------------------------------------------------------------------\n",
      "53/177      conv3_block2_1_relu     Activation<relu>        DPU                                                         \n",
      "------------------------------------------------------------------------------------------------------------------------\n",
      "54/177      conv3_block2_2_conv     Conv2D<linear>          DPU                                                         \n",
      "------------------------------------------------------------------------------------------------------------------------\n",
      "55/177      conv3_block2_2_bn       BatchNormalization      DPU                                                         \n",
      "------------------------------------------------------------------------------------------------------------------------\n",
      "56/177      conv3_block2_2_relu     Activation<relu>        DPU                                                         \n",
      "------------------------------------------------------------------------------------------------------------------------\n",
      "57/177      conv3_block2_3_conv     Conv2D<linear>          DPU                                                         \n",
      "------------------------------------------------------------------------------------------------------------------------\n",
      "58/177      conv3_block2_3_bn       BatchNormalization      DPU                                                         \n",
      "------------------------------------------------------------------------------------------------------------------------\n",
      "59/177      conv3_block2_add        Add                     DPU                                                         \n",
      "------------------------------------------------------------------------------------------------------------------------\n",
      "60/177      conv3_block2_out        Activation<relu>        DPU                                                         \n",
      "------------------------------------------------------------------------------------------------------------------------\n",
      "61/177      conv3_block3_1_conv     Conv2D<linear>          DPU                                                         \n",
      "------------------------------------------------------------------------------------------------------------------------\n",
      "62/177      conv3_block3_1_bn       BatchNormalization      DPU                                                         \n",
      "------------------------------------------------------------------------------------------------------------------------\n",
      "63/177      conv3_block3_1_relu     Activation<relu>        DPU                                                         \n",
      "------------------------------------------------------------------------------------------------------------------------\n",
      "64/177      conv3_block3_2_conv     Conv2D<linear>          DPU                                                         \n",
      "------------------------------------------------------------------------------------------------------------------------\n",
      "65/177      conv3_block3_2_bn       BatchNormalization      DPU                                                         \n",
      "------------------------------------------------------------------------------------------------------------------------\n",
      "66/177      conv3_block3_2_relu     Activation<relu>        DPU                                                         \n",
      "------------------------------------------------------------------------------------------------------------------------\n",
      "67/177      conv3_block3_3_conv     Conv2D<linear>          DPU                                                         \n",
      "------------------------------------------------------------------------------------------------------------------------\n",
      "68/177      conv3_block3_3_bn       BatchNormalization      DPU                                                         \n",
      "------------------------------------------------------------------------------------------------------------------------\n",
      "69/177      conv3_block3_add        Add                     DPU                                                         \n",
      "------------------------------------------------------------------------------------------------------------------------\n",
      "70/177      conv3_block3_out        Activation<relu>        DPU                                                         \n",
      "------------------------------------------------------------------------------------------------------------------------\n",
      "71/177      conv3_block4_1_conv     Conv2D<linear>          DPU                                                         \n",
      "------------------------------------------------------------------------------------------------------------------------\n",
      "72/177      conv3_block4_1_bn       BatchNormalization      DPU                                                         \n",
      "------------------------------------------------------------------------------------------------------------------------\n",
      "73/177      conv3_block4_1_relu     Activation<relu>        DPU                                                         \n",
      "------------------------------------------------------------------------------------------------------------------------\n",
      "74/177      conv3_block4_2_conv     Conv2D<linear>          DPU                                                         \n",
      "------------------------------------------------------------------------------------------------------------------------\n",
      "75/177      conv3_block4_2_bn       BatchNormalization      DPU                                                         \n",
      "------------------------------------------------------------------------------------------------------------------------\n",
      "76/177      conv3_block4_2_relu     Activation<relu>        DPU                                                         \n",
      "------------------------------------------------------------------------------------------------------------------------\n",
      "77/177      conv3_block4_3_conv     Conv2D<linear>          DPU                                                         \n",
      "------------------------------------------------------------------------------------------------------------------------\n",
      "78/177      conv3_block4_3_bn       BatchNormalization      DPU                                                         \n",
      "------------------------------------------------------------------------------------------------------------------------\n",
      "79/177      conv3_block4_add        Add                     DPU                                                         \n",
      "------------------------------------------------------------------------------------------------------------------------\n",
      "80/177      conv3_block4_out        Activation<relu>        DPU                                                         \n",
      "------------------------------------------------------------------------------------------------------------------------\n",
      "81/177      conv4_block1_1_conv     Conv2D<linear>          DPU                                                         \n",
      "------------------------------------------------------------------------------------------------------------------------\n",
      "82/177      conv4_block1_1_bn       BatchNormalization      DPU                                                         \n",
      "------------------------------------------------------------------------------------------------------------------------\n",
      "83/177      conv4_block1_1_relu     Activation<relu>        DPU                                                         \n",
      "------------------------------------------------------------------------------------------------------------------------\n",
      "84/177      conv4_block1_2_conv     Conv2D<linear>          DPU                                                         \n",
      "------------------------------------------------------------------------------------------------------------------------\n",
      "85/177      conv4_block1_2_bn       BatchNormalization      DPU                                                         \n",
      "------------------------------------------------------------------------------------------------------------------------\n",
      "86/177      conv4_block1_2_relu     Activation<relu>        DPU                                                         \n",
      "------------------------------------------------------------------------------------------------------------------------\n",
      "87/177      conv4_block1_0_conv     Conv2D<linear>          DPU                                                         \n",
      "------------------------------------------------------------------------------------------------------------------------\n",
      "88/177      conv4_block1_3_conv     Conv2D<linear>          DPU                                                         \n",
      "------------------------------------------------------------------------------------------------------------------------\n",
      "89/177      conv4_block1_0_bn       BatchNormalization      DPU                                                         \n",
      "------------------------------------------------------------------------------------------------------------------------\n",
      "90/177      conv4_block1_3_bn       BatchNormalization      DPU                                                         \n",
      "------------------------------------------------------------------------------------------------------------------------\n",
      "91/177      conv4_block1_add        Add                     DPU                                                         \n",
      "------------------------------------------------------------------------------------------------------------------------\n",
      "92/177      conv4_block1_out        Activation<relu>        DPU                                                         \n",
      "------------------------------------------------------------------------------------------------------------------------\n",
      "93/177      conv4_block2_1_conv     Conv2D<linear>          DPU                                                         \n",
      "------------------------------------------------------------------------------------------------------------------------\n",
      "94/177      conv4_block2_1_bn       BatchNormalization      DPU                                                         \n",
      "------------------------------------------------------------------------------------------------------------------------\n",
      "95/177      conv4_block2_1_relu     Activation<relu>        DPU                                                         \n",
      "------------------------------------------------------------------------------------------------------------------------\n",
      "96/177      conv4_block2_2_conv     Conv2D<linear>          DPU                                                         \n",
      "------------------------------------------------------------------------------------------------------------------------\n",
      "97/177      conv4_block2_2_bn       BatchNormalization      DPU                                                         \n",
      "------------------------------------------------------------------------------------------------------------------------\n",
      "98/177      conv4_block2_2_relu     Activation<relu>        DPU                                                         \n",
      "------------------------------------------------------------------------------------------------------------------------\n",
      "99/177      conv4_block2_3_conv     Conv2D<linear>          DPU                                                         \n",
      "------------------------------------------------------------------------------------------------------------------------\n",
      "100/177     conv4_block2_3_bn       BatchNormalization      DPU                                                         \n",
      "------------------------------------------------------------------------------------------------------------------------\n",
      "101/177     conv4_block2_add        Add                     DPU                                                         \n",
      "------------------------------------------------------------------------------------------------------------------------\n",
      "102/177     conv4_block2_out        Activation<relu>        DPU                                                         \n",
      "------------------------------------------------------------------------------------------------------------------------\n",
      "103/177     conv4_block3_1_conv     Conv2D<linear>          DPU                                                         \n",
      "------------------------------------------------------------------------------------------------------------------------\n",
      "104/177     conv4_block3_1_bn       BatchNormalization      DPU                                                         \n",
      "------------------------------------------------------------------------------------------------------------------------\n",
      "105/177     conv4_block3_1_relu     Activation<relu>        DPU                                                         \n",
      "------------------------------------------------------------------------------------------------------------------------\n",
      "106/177     conv4_block3_2_conv     Conv2D<linear>          DPU                                                         \n",
      "------------------------------------------------------------------------------------------------------------------------\n",
      "107/177     conv4_block3_2_bn       BatchNormalization      DPU                                                         \n",
      "------------------------------------------------------------------------------------------------------------------------\n",
      "108/177     conv4_block3_2_relu     Activation<relu>        DPU                                                         \n",
      "------------------------------------------------------------------------------------------------------------------------\n",
      "109/177     conv4_block3_3_conv     Conv2D<linear>          DPU                                                         \n",
      "------------------------------------------------------------------------------------------------------------------------\n",
      "110/177     conv4_block3_3_bn       BatchNormalization      DPU                                                         \n",
      "------------------------------------------------------------------------------------------------------------------------\n",
      "111/177     conv4_block3_add        Add                     DPU                                                         \n",
      "------------------------------------------------------------------------------------------------------------------------\n",
      "112/177     conv4_block3_out        Activation<relu>        DPU                                                         \n",
      "------------------------------------------------------------------------------------------------------------------------\n",
      "113/177     conv4_block4_1_conv     Conv2D<linear>          DPU                                                         \n",
      "------------------------------------------------------------------------------------------------------------------------\n",
      "114/177     conv4_block4_1_bn       BatchNormalization      DPU                                                         \n",
      "------------------------------------------------------------------------------------------------------------------------\n",
      "115/177     conv4_block4_1_relu     Activation<relu>        DPU                                                         \n",
      "------------------------------------------------------------------------------------------------------------------------\n",
      "116/177     conv4_block4_2_conv     Conv2D<linear>          DPU                                                         \n",
      "------------------------------------------------------------------------------------------------------------------------\n",
      "117/177     conv4_block4_2_bn       BatchNormalization      DPU                                                         \n",
      "------------------------------------------------------------------------------------------------------------------------\n",
      "118/177     conv4_block4_2_relu     Activation<relu>        DPU                                                         \n",
      "------------------------------------------------------------------------------------------------------------------------\n",
      "119/177     conv4_block4_3_conv     Conv2D<linear>          DPU                                                         \n",
      "------------------------------------------------------------------------------------------------------------------------\n",
      "120/177     conv4_block4_3_bn       BatchNormalization      DPU                                                         \n",
      "------------------------------------------------------------------------------------------------------------------------\n",
      "121/177     conv4_block4_add        Add                     DPU                                                         \n",
      "------------------------------------------------------------------------------------------------------------------------\n",
      "122/177     conv4_block4_out        Activation<relu>        DPU                                                         \n",
      "------------------------------------------------------------------------------------------------------------------------\n",
      "123/177     conv4_block5_1_conv     Conv2D<linear>          DPU                                                         \n",
      "------------------------------------------------------------------------------------------------------------------------\n",
      "124/177     conv4_block5_1_bn       BatchNormalization      DPU                                                         \n",
      "------------------------------------------------------------------------------------------------------------------------\n",
      "125/177     conv4_block5_1_relu     Activation<relu>        DPU                                                         \n",
      "------------------------------------------------------------------------------------------------------------------------\n",
      "126/177     conv4_block5_2_conv     Conv2D<linear>          DPU                                                         \n",
      "------------------------------------------------------------------------------------------------------------------------\n",
      "127/177     conv4_block5_2_bn       BatchNormalization      DPU                                                         \n",
      "------------------------------------------------------------------------------------------------------------------------\n",
      "128/177     conv4_block5_2_relu     Activation<relu>        DPU                                                         \n",
      "------------------------------------------------------------------------------------------------------------------------\n",
      "129/177     conv4_block5_3_conv     Conv2D<linear>          DPU                                                         \n",
      "------------------------------------------------------------------------------------------------------------------------\n",
      "130/177     conv4_block5_3_bn       BatchNormalization      DPU                                                         \n",
      "------------------------------------------------------------------------------------------------------------------------\n",
      "131/177     conv4_block5_add        Add                     DPU                                                         \n",
      "------------------------------------------------------------------------------------------------------------------------\n",
      "132/177     conv4_block5_out        Activation<relu>        DPU                                                         \n",
      "------------------------------------------------------------------------------------------------------------------------\n",
      "133/177     conv4_block6_1_conv     Conv2D<linear>          DPU                                                         \n",
      "------------------------------------------------------------------------------------------------------------------------\n",
      "134/177     conv4_block6_1_bn       BatchNormalization      DPU                                                         \n",
      "------------------------------------------------------------------------------------------------------------------------\n",
      "135/177     conv4_block6_1_relu     Activation<relu>        DPU                                                         \n",
      "------------------------------------------------------------------------------------------------------------------------\n",
      "136/177     conv4_block6_2_conv     Conv2D<linear>          DPU                                                         \n",
      "------------------------------------------------------------------------------------------------------------------------\n",
      "137/177     conv4_block6_2_bn       BatchNormalization      DPU                                                         \n",
      "------------------------------------------------------------------------------------------------------------------------\n",
      "138/177     conv4_block6_2_relu     Activation<relu>        DPU                                                         \n",
      "------------------------------------------------------------------------------------------------------------------------\n",
      "139/177     conv4_block6_3_conv     Conv2D<linear>          DPU                                                         \n",
      "------------------------------------------------------------------------------------------------------------------------\n",
      "140/177     conv4_block6_3_bn       BatchNormalization      DPU                                                         \n",
      "------------------------------------------------------------------------------------------------------------------------\n",
      "141/177     conv4_block6_add        Add                     DPU                                                         \n",
      "------------------------------------------------------------------------------------------------------------------------\n",
      "142/177     conv4_block6_out        Activation<relu>        DPU                                                         \n",
      "------------------------------------------------------------------------------------------------------------------------\n",
      "143/177     conv5_block1_1_conv     Conv2D<linear>          DPU                                                         \n",
      "------------------------------------------------------------------------------------------------------------------------\n",
      "144/177     conv5_block1_1_bn       BatchNormalization      DPU                                                         \n",
      "------------------------------------------------------------------------------------------------------------------------\n",
      "145/177     conv5_block1_1_relu     Activation<relu>        DPU                                                         \n",
      "------------------------------------------------------------------------------------------------------------------------\n",
      "146/177     conv5_block1_2_conv     Conv2D<linear>          DPU                                                         \n",
      "------------------------------------------------------------------------------------------------------------------------\n",
      "147/177     conv5_block1_2_bn       BatchNormalization      DPU                                                         \n",
      "------------------------------------------------------------------------------------------------------------------------\n",
      "148/177     conv5_block1_2_relu     Activation<relu>        DPU                                                         \n",
      "------------------------------------------------------------------------------------------------------------------------\n",
      "149/177     conv5_block1_0_conv     Conv2D<linear>          DPU                                                         \n",
      "------------------------------------------------------------------------------------------------------------------------\n",
      "150/177     conv5_block1_3_conv     Conv2D<linear>          DPU                                                         \n",
      "------------------------------------------------------------------------------------------------------------------------\n",
      "151/177     conv5_block1_0_bn       BatchNormalization      DPU                                                         \n",
      "------------------------------------------------------------------------------------------------------------------------\n",
      "152/177     conv5_block1_3_bn       BatchNormalization      DPU                                                         \n",
      "------------------------------------------------------------------------------------------------------------------------\n",
      "153/177     conv5_block1_add        Add                     DPU                                                         \n",
      "------------------------------------------------------------------------------------------------------------------------\n",
      "154/177     conv5_block1_out        Activation<relu>        DPU                                                         \n",
      "------------------------------------------------------------------------------------------------------------------------\n",
      "155/177     conv5_block2_1_conv     Conv2D<linear>          DPU                                                         \n",
      "------------------------------------------------------------------------------------------------------------------------\n",
      "156/177     conv5_block2_1_bn       BatchNormalization      DPU                                                         \n",
      "------------------------------------------------------------------------------------------------------------------------\n",
      "157/177     conv5_block2_1_relu     Activation<relu>        DPU                                                         \n",
      "------------------------------------------------------------------------------------------------------------------------\n",
      "158/177     conv5_block2_2_conv     Conv2D<linear>          DPU                                                         \n",
      "------------------------------------------------------------------------------------------------------------------------\n",
      "159/177     conv5_block2_2_bn       BatchNormalization      DPU                                                         \n",
      "------------------------------------------------------------------------------------------------------------------------\n",
      "160/177     conv5_block2_2_relu     Activation<relu>        DPU                                                         \n",
      "------------------------------------------------------------------------------------------------------------------------\n",
      "161/177     conv5_block2_3_conv     Conv2D<linear>          DPU                                                         \n",
      "------------------------------------------------------------------------------------------------------------------------\n",
      "162/177     conv5_block2_3_bn       BatchNormalization      DPU                                                         \n",
      "------------------------------------------------------------------------------------------------------------------------\n",
      "163/177     conv5_block2_add        Add                     DPU                                                         \n",
      "------------------------------------------------------------------------------------------------------------------------\n",
      "164/177     conv5_block2_out        Activation<relu>        DPU                                                         \n",
      "------------------------------------------------------------------------------------------------------------------------\n",
      "165/177     conv5_block3_1_conv     Conv2D<linear>          DPU                                                         \n",
      "------------------------------------------------------------------------------------------------------------------------\n",
      "166/177     conv5_block3_1_bn       BatchNormalization      DPU                                                         \n",
      "------------------------------------------------------------------------------------------------------------------------\n",
      "167/177     conv5_block3_1_relu     Activation<relu>        DPU                                                         \n",
      "------------------------------------------------------------------------------------------------------------------------\n",
      "168/177     conv5_block3_2_conv     Conv2D<linear>          DPU                                                         \n",
      "------------------------------------------------------------------------------------------------------------------------\n",
      "169/177     conv5_block3_2_bn       BatchNormalization      DPU                                                         \n",
      "------------------------------------------------------------------------------------------------------------------------\n",
      "170/177     conv5_block3_2_relu     Activation<relu>        DPU                                                         \n",
      "------------------------------------------------------------------------------------------------------------------------\n",
      "171/177     conv5_block3_3_conv     Conv2D<linear>          DPU                                                         \n",
      "------------------------------------------------------------------------------------------------------------------------\n",
      "172/177     conv5_block3_3_bn       BatchNormalization      DPU                                                         \n",
      "------------------------------------------------------------------------------------------------------------------------\n",
      "173/177     conv5_block3_add        Add                     DPU                                                         \n",
      "------------------------------------------------------------------------------------------------------------------------\n",
      "174/177     conv5_block3_out        Activation<relu>        DPU                                                         \n",
      "------------------------------------------------------------------------------------------------------------------------\n",
      "175/177     global_average_pooling2dGlobalAveragePooling2D  DPU                                                         \n",
      "------------------------------------------------------------------------------------------------------------------------\n",
      "176/177     dense                   Dense<relu>             DPU                                                         \n",
      "------------------------------------------------------------------------------------------------------------------------\n",
      "177/177     dense_1                 Dense<softmax>          DPU+CPU     Seperate layer activation `softmax`; `softmax`  \n",
      "                                                                        is not supported by target                      \n",
      "------------------------------------------------------------------------------------------------------------------------\n",
      "========================================================================================================================\n",
      "[SUMMARY INFO]:\n",
      "- [Target Name]: 0x101000016010407\n",
      "- [Total Layers]: 178\n",
      "- [Layer Types]: InputLayer(1) ZeroPadding2D(2) Conv2D<linear>(53) BatchNormalization(53) Activation<relu>(49) MaxPooling2D(1) Add(16) GlobalAveragePooling2D(1) Dense<relu>(1) Dense<softmax>(1) \n",
      "- [Partition Results]: INPUT(1) DPU(176) DPU+CPU(1) \n",
      "========================================================================================================================\n",
      "[NOTES INFO]:\n",
      "- [177/177] Layer dense_1 (Type:Dense<softmax>, Device:DPU+CPU):\n",
      "    * Seperate layer activation `softmax`\n",
      "    * `softmax` is not supported by target\n",
      "========================================================================================================================\n",
      "[VAI INFO] Start plotting model to /workspace/grocery_store_trained/logs/model.svg\n",
      "[VAI INFO] Inspected model has been plotted in: /workspace/grocery_store_trained/logs/model.svg.\n",
      "[VAI INFO] Start dumping inspected results to /workspace/grocery_store_trained/logs/inspect_results.txt\n",
      "[VAI INFO] Inspected results has been dumped in: /workspace/grocery_store_trained/logs/inspect_results.txt.\n",
      "[VAI INFO] Inspect Finished.\n",
      "Model inspection complete. Results saved to /workspace/grocery_store_trained/logs/inspect_results.txt and /workspace/grocery_store_trained/logs/model.svg\n"
     ]
    }
   ],
   "source": [
    "# Create Vitis AI Model Inspector\n",
    "inspector = vitis_inspect.VitisInspector(target=\"0x101000016010407\")\n",
    "\n",
    "# Set output file paths\n",
    "filename_dump = os.path.join(LOG_DIR, \"inspect_results.txt\")\n",
    "filename_svg = os.path.join(LOG_DIR, \"model.svg\")\n",
    "\n",
    "# Perform model inspection\n",
    "inspector.inspect_model(\n",
    "    float_model = model,\n",
    "    input_shape = [1, 224, 224, 3],  # ResNet50 input size\n",
    "    plot = True,\n",
    "    plot_file = filename_svg,\n",
    "    dump_results = True,\n",
    "    dump_results_file = filename_dump,\n",
    "    verbose = 0\n",
    ")\n",
    "\n",
    "print(f\"Model inspection complete. Results saved to {filename_dump} and {filename_svg}\")"
   ]
  }
 ],
 "metadata": {
  "kernelspec": {
   "display_name": "Python 3",
   "language": "python",
   "name": "python3"
  },
  "language_info": {
   "codemirror_mode": {
    "name": "ipython",
    "version": 3
   },
   "file_extension": ".py",
   "mimetype": "text/x-python",
   "name": "python",
   "nbconvert_exporter": "python",
   "pygments_lexer": "ipython3",
   "version": "3.8.6"
  }
 },
 "nbformat": 4,
 "nbformat_minor": 4
}
